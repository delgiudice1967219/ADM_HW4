{
 "cells": [
  {
   "cell_type": "markdown",
   "id": "318cc535867abc87",
   "metadata": {},
   "source": [
    "# ADM-HW4: GROUP #10"
   ]
  },
  {
   "cell_type": "markdown",
   "id": "53a83af2f38e2305",
   "metadata": {},
   "source": [
    "#### Xavier Del Giudice\n",
    "\n",
    "\n",
    "| STUDENT |   ID    |                 E-mail                  |\n",
    "| :-: |:-------:|:---------------------------------------:|\n",
    "| Xavier Del Giudice | 1967219 | delgiudice.1967219@studenti.uniroma1.it |\n",
    "|  Valeria Avino| 1905974 |   avino.1905974@studenti.uniroma1.it                                      |\n",
    "|  |  |                       |"
   ]
  },
  {
   "cell_type": "markdown",
   "id": "18fb52d64c38ba6d",
   "metadata": {},
   "source": [
    "## Import and Install required packages"
   ]
  },
  {
   "cell_type": "code",
   "execution_count": 9,
   "id": "cfe37558eeb4eb7b",
   "metadata": {},
   "outputs": [
    {
     "name": "stdout",
     "output_type": "stream",
     "text": [
      "Requirement already satisfied: pandas in c:\\users\\val\\appdata\\local\\programs\\python\\python312\\lib\\site-packages (2.2.3)Note: you may need to restart the kernel to use updated packages.\n",
      "\n",
      "Requirement already satisfied: numpy in c:\\users\\val\\appdata\\local\\programs\\python\\python312\\lib\\site-packages (1.26.4)\n",
      "Requirement already satisfied: python-dateutil>=2.8.2 in c:\\users\\val\\appdata\\roaming\\python\\python312\\site-packages (from pandas) (2.9.0.post0)\n",
      "Requirement already satisfied: pytz>=2020.1 in c:\\users\\val\\appdata\\local\\programs\\python\\python312\\lib\\site-packages (from pandas) (2024.2)\n",
      "Requirement already satisfied: tzdata>=2022.7 in c:\\users\\val\\appdata\\local\\programs\\python\\python312\\lib\\site-packages (from pandas) (2024.2)\n",
      "Requirement already satisfied: six>=1.5 in c:\\users\\val\\appdata\\roaming\\python\\python312\\site-packages (from python-dateutil>=2.8.2->pandas) (1.16.0)\n"
     ]
    }
   ],
   "source": [
    "%pip install pandas numpy"
   ]
  },
  {
   "cell_type": "code",
   "execution_count": 1,
   "id": "9b6df0749cc68ffc",
   "metadata": {},
   "outputs": [],
   "source": [
    "import pandas as pd\n",
    "import numpy as np\n",
    "import re\n",
    "import time"
   ]
  },
  {
   "cell_type": "markdown",
   "id": "21cabfd91df02163",
   "metadata": {},
   "source": [
    "# 1. Recommendation System with LSH"
   ]
  },
  {
   "cell_type": "markdown",
   "id": "ff07b6b4b33b940",
   "metadata": {},
   "source": [
    "## 1.1 Data Preparation"
   ]
  },
  {
   "cell_type": "markdown",
   "id": "865c4ca4",
   "metadata": {},
   "source": [
    "Reading the dataset and checking (if any) missing data."
   ]
  },
  {
   "cell_type": "code",
   "execution_count": 11,
   "id": "cbd400ea",
   "metadata": {},
   "outputs": [],
   "source": [
    "#reading from our dataset\n",
    "genome_scores = pd.read_csv('MovieLens/genome_scores.csv')\n",
    "genome_tags = pd.read_csv('MovieLens/genome_tags.csv')\n",
    "link = pd.read_csv('MovieLens/link.csv')\n",
    "movie = pd.read_csv('MovieLens/movie.csv')\n",
    "rating = pd.read_csv('MovieLens/rating.csv')\n",
    "tags = pd.read_csv('MovieLens/tag.csv')"
   ]
  },
  {
   "cell_type": "code",
   "execution_count": 12,
   "id": "beb82f88",
   "metadata": {},
   "outputs": [
    {
     "name": "stdout",
     "output_type": "stream",
     "text": [
      "<class 'pandas.core.frame.DataFrame'>\n",
      "RangeIndex: 11709768 entries, 0 to 11709767\n",
      "Data columns (total 3 columns):\n",
      " #   Column     Dtype  \n",
      "---  ------     -----  \n",
      " 0   movieId    int64  \n",
      " 1   tagId      int64  \n",
      " 2   relevance  float64\n",
      "dtypes: float64(1), int64(2)\n",
      "memory usage: 268.0 MB\n"
     ]
    }
   ],
   "source": [
    "genome_scores.info()"
   ]
  },
  {
   "cell_type": "code",
   "execution_count": 13,
   "id": "e2f2fe7f",
   "metadata": {},
   "outputs": [
    {
     "data": {
      "text/plain": [
       "Series([], dtype: int64)"
      ]
     },
     "execution_count": 13,
     "metadata": {},
     "output_type": "execute_result"
    }
   ],
   "source": [
    "#checking missing values\n",
    "missing_values = genome_scores.isnull().sum()\n",
    "missing_values[missing_values > 0]"
   ]
  },
  {
   "cell_type": "code",
   "execution_count": 14,
   "id": "23d9168c",
   "metadata": {},
   "outputs": [
    {
     "data": {
      "text/plain": [
       "0"
      ]
     },
     "execution_count": 14,
     "metadata": {},
     "output_type": "execute_result"
    }
   ],
   "source": [
    "genome_scores.duplicated().sum()"
   ]
  },
  {
   "cell_type": "markdown",
   "id": "e9cc21fa",
   "metadata": {},
   "source": [
    "scores dataset has no missing values or duplicated rows"
   ]
  },
  {
   "cell_type": "code",
   "execution_count": 15,
   "id": "f52fe25e",
   "metadata": {},
   "outputs": [
    {
     "name": "stdout",
     "output_type": "stream",
     "text": [
      "<class 'pandas.core.frame.DataFrame'>\n",
      "RangeIndex: 1128 entries, 0 to 1127\n",
      "Data columns (total 2 columns):\n",
      " #   Column  Non-Null Count  Dtype \n",
      "---  ------  --------------  ----- \n",
      " 0   tagId   1128 non-null   int64 \n",
      " 1   tag     1128 non-null   object\n",
      "dtypes: int64(1), object(1)\n",
      "memory usage: 17.8+ KB\n"
     ]
    }
   ],
   "source": [
    "genome_tags.info()"
   ]
  },
  {
   "cell_type": "code",
   "execution_count": 16,
   "id": "c79d3c82",
   "metadata": {},
   "outputs": [
    {
     "data": {
      "text/plain": [
       "Series([], dtype: int64)"
      ]
     },
     "execution_count": 16,
     "metadata": {},
     "output_type": "execute_result"
    }
   ],
   "source": [
    "missing_values = genome_tags.isnull().sum()\n",
    "missing_values[missing_values > 0]"
   ]
  },
  {
   "cell_type": "code",
   "execution_count": 17,
   "id": "b9c2f506",
   "metadata": {},
   "outputs": [
    {
     "data": {
      "text/plain": [
       "0"
      ]
     },
     "execution_count": 17,
     "metadata": {},
     "output_type": "execute_result"
    }
   ],
   "source": [
    "genome_tags.duplicated().sum()"
   ]
  },
  {
   "cell_type": "code",
   "execution_count": 18,
   "id": "9a133c80",
   "metadata": {},
   "outputs": [
    {
     "name": "stdout",
     "output_type": "stream",
     "text": [
      "<class 'pandas.core.frame.DataFrame'>\n",
      "RangeIndex: 27278 entries, 0 to 27277\n",
      "Data columns (total 3 columns):\n",
      " #   Column   Non-Null Count  Dtype  \n",
      "---  ------   --------------  -----  \n",
      " 0   movieId  27278 non-null  int64  \n",
      " 1   imdbId   27278 non-null  int64  \n",
      " 2   tmdbId   27026 non-null  float64\n",
      "dtypes: float64(1), int64(2)\n",
      "memory usage: 639.5 KB\n"
     ]
    }
   ],
   "source": [
    "link.info()"
   ]
  },
  {
   "cell_type": "code",
   "execution_count": 19,
   "id": "14adf139",
   "metadata": {},
   "outputs": [
    {
     "data": {
      "text/plain": [
       "tmdbId    252\n",
       "dtype: int64"
      ]
     },
     "execution_count": 19,
     "metadata": {},
     "output_type": "execute_result"
    }
   ],
   "source": [
    "missing_values = link.isnull().sum()\n",
    "missing_values[missing_values > 0]"
   ]
  },
  {
   "cell_type": "code",
   "execution_count": 20,
   "id": "2bf0f244",
   "metadata": {},
   "outputs": [
    {
     "data": {
      "text/plain": [
       "0"
      ]
     },
     "execution_count": 20,
     "metadata": {},
     "output_type": "execute_result"
    }
   ],
   "source": [
    "link.duplicated().sum()"
   ]
  },
  {
   "cell_type": "code",
   "execution_count": 21,
   "id": "67c3cd59",
   "metadata": {},
   "outputs": [
    {
     "name": "stdout",
     "output_type": "stream",
     "text": [
      "<class 'pandas.core.frame.DataFrame'>\n",
      "RangeIndex: 27278 entries, 0 to 27277\n",
      "Data columns (total 3 columns):\n",
      " #   Column   Non-Null Count  Dtype \n",
      "---  ------   --------------  ----- \n",
      " 0   movieId  27278 non-null  int64 \n",
      " 1   title    27278 non-null  object\n",
      " 2   genres   27278 non-null  object\n",
      "dtypes: int64(1), object(2)\n",
      "memory usage: 639.5+ KB\n"
     ]
    }
   ],
   "source": [
    "movie.info()"
   ]
  },
  {
   "cell_type": "code",
   "execution_count": 22,
   "id": "79670a09",
   "metadata": {},
   "outputs": [
    {
     "data": {
      "text/plain": [
       "0"
      ]
     },
     "execution_count": 22,
     "metadata": {},
     "output_type": "execute_result"
    }
   ],
   "source": [
    "movie.duplicated().sum()"
   ]
  },
  {
   "cell_type": "code",
   "execution_count": 23,
   "id": "67d49561",
   "metadata": {},
   "outputs": [
    {
     "data": {
      "text/plain": [
       "Series([], dtype: int64)"
      ]
     },
     "execution_count": 23,
     "metadata": {},
     "output_type": "execute_result"
    }
   ],
   "source": [
    "missing_values = movie.isnull().sum()\n",
    "missing_values[missing_values > 0]"
   ]
  },
  {
   "cell_type": "code",
   "execution_count": 24,
   "id": "5cc39b79",
   "metadata": {},
   "outputs": [
    {
     "name": "stdout",
     "output_type": "stream",
     "text": [
      "<class 'pandas.core.frame.DataFrame'>\n",
      "RangeIndex: 20000263 entries, 0 to 20000262\n",
      "Data columns (total 4 columns):\n",
      " #   Column     Dtype  \n",
      "---  ------     -----  \n",
      " 0   userId     int64  \n",
      " 1   movieId    int64  \n",
      " 2   rating     float64\n",
      " 3   timestamp  object \n",
      "dtypes: float64(1), int64(2), object(1)\n",
      "memory usage: 610.4+ MB\n"
     ]
    }
   ],
   "source": [
    "rating.info()"
   ]
  },
  {
   "cell_type": "code",
   "execution_count": 25,
   "id": "d07df497",
   "metadata": {},
   "outputs": [
    {
     "data": {
      "text/plain": [
       "Series([], dtype: int64)"
      ]
     },
     "execution_count": 25,
     "metadata": {},
     "output_type": "execute_result"
    }
   ],
   "source": [
    "missing_values = rating.isnull().sum()\n",
    "missing_values[missing_values > 0]"
   ]
  },
  {
   "cell_type": "code",
   "execution_count": 26,
   "id": "0c42457d",
   "metadata": {},
   "outputs": [
    {
     "data": {
      "text/plain": [
       "0"
      ]
     },
     "execution_count": 26,
     "metadata": {},
     "output_type": "execute_result"
    }
   ],
   "source": [
    "rating.duplicated().sum()"
   ]
  },
  {
   "cell_type": "code",
   "execution_count": 27,
   "id": "7f5b630b",
   "metadata": {},
   "outputs": [
    {
     "data": {
      "text/html": [
       "<div>\n",
       "<style scoped>\n",
       "    .dataframe tbody tr th:only-of-type {\n",
       "        vertical-align: middle;\n",
       "    }\n",
       "\n",
       "    .dataframe tbody tr th {\n",
       "        vertical-align: top;\n",
       "    }\n",
       "\n",
       "    .dataframe thead th {\n",
       "        text-align: right;\n",
       "    }\n",
       "</style>\n",
       "<table border=\"1\" class=\"dataframe\">\n",
       "  <thead>\n",
       "    <tr style=\"text-align: right;\">\n",
       "      <th></th>\n",
       "      <th>userId</th>\n",
       "      <th>movieId</th>\n",
       "      <th>rating</th>\n",
       "      <th>rating_timestamp</th>\n",
       "    </tr>\n",
       "  </thead>\n",
       "  <tbody>\n",
       "    <tr>\n",
       "      <th>0</th>\n",
       "      <td>1</td>\n",
       "      <td>2</td>\n",
       "      <td>3.5</td>\n",
       "      <td>2005-04-02 23:53:47</td>\n",
       "    </tr>\n",
       "    <tr>\n",
       "      <th>1</th>\n",
       "      <td>1</td>\n",
       "      <td>29</td>\n",
       "      <td>3.5</td>\n",
       "      <td>2005-04-02 23:31:16</td>\n",
       "    </tr>\n",
       "    <tr>\n",
       "      <th>2</th>\n",
       "      <td>1</td>\n",
       "      <td>32</td>\n",
       "      <td>3.5</td>\n",
       "      <td>2005-04-02 23:33:39</td>\n",
       "    </tr>\n",
       "    <tr>\n",
       "      <th>3</th>\n",
       "      <td>1</td>\n",
       "      <td>47</td>\n",
       "      <td>3.5</td>\n",
       "      <td>2005-04-02 23:32:07</td>\n",
       "    </tr>\n",
       "    <tr>\n",
       "      <th>4</th>\n",
       "      <td>1</td>\n",
       "      <td>50</td>\n",
       "      <td>3.5</td>\n",
       "      <td>2005-04-02 23:29:40</td>\n",
       "    </tr>\n",
       "  </tbody>\n",
       "</table>\n",
       "</div>"
      ],
      "text/plain": [
       "   userId  movieId  rating     rating_timestamp\n",
       "0       1        2     3.5  2005-04-02 23:53:47\n",
       "1       1       29     3.5  2005-04-02 23:31:16\n",
       "2       1       32     3.5  2005-04-02 23:33:39\n",
       "3       1       47     3.5  2005-04-02 23:32:07\n",
       "4       1       50     3.5  2005-04-02 23:29:40"
      ]
     },
     "execution_count": 27,
     "metadata": {},
     "output_type": "execute_result"
    }
   ],
   "source": [
    "rating = rating.rename(columns={'timestamp':'rating_timestamp'})\n",
    "rating.head()"
   ]
  },
  {
   "cell_type": "code",
   "execution_count": 28,
   "id": "d24e1ed9",
   "metadata": {},
   "outputs": [
    {
     "name": "stdout",
     "output_type": "stream",
     "text": [
      "The highest rated movie is Lord of the Rings: The Fellowship of the Ring, The (2001) \n",
      "The lowest rated movie is Nemesis 2: Nebula (1995) \n"
     ]
    }
   ],
   "source": [
    "highest_rated = rating.loc[rating['rating'].idxmax(), 'movieId']\n",
    "lowest_rated = rating.loc[rating['rating'].idxmin(), 'movieId']\n",
    "#reading titles from movie dataset\n",
    "print(f'The highest rated movie is {movie.loc[movie['movieId'] == highest_rated, 'title' ].values[0]} ')\n",
    "print(f'The lowest rated movie is {movie.loc[movie['movieId'] == lowest_rated, 'title'].values[0]} ')"
   ]
  },
  {
   "cell_type": "code",
   "execution_count": 29,
   "id": "624ffe54",
   "metadata": {},
   "outputs": [
    {
     "data": {
      "text/html": [
       "<div>\n",
       "<style scoped>\n",
       "    .dataframe tbody tr th:only-of-type {\n",
       "        vertical-align: middle;\n",
       "    }\n",
       "\n",
       "    .dataframe tbody tr th {\n",
       "        vertical-align: top;\n",
       "    }\n",
       "\n",
       "    .dataframe thead th {\n",
       "        text-align: right;\n",
       "    }\n",
       "</style>\n",
       "<table border=\"1\" class=\"dataframe\">\n",
       "  <thead>\n",
       "    <tr style=\"text-align: right;\">\n",
       "      <th></th>\n",
       "      <th>movieId</th>\n",
       "      <th>title</th>\n",
       "      <th>genres</th>\n",
       "    </tr>\n",
       "  </thead>\n",
       "  <tbody>\n",
       "    <tr>\n",
       "      <th>0</th>\n",
       "      <td>1</td>\n",
       "      <td>Toy Story (1995)</td>\n",
       "      <td>[Adventure, Animation, Children, Comedy, Fantasy]</td>\n",
       "    </tr>\n",
       "    <tr>\n",
       "      <th>1</th>\n",
       "      <td>2</td>\n",
       "      <td>Jumanji (1995)</td>\n",
       "      <td>[Adventure, Children, Fantasy]</td>\n",
       "    </tr>\n",
       "    <tr>\n",
       "      <th>2</th>\n",
       "      <td>3</td>\n",
       "      <td>Grumpier Old Men (1995)</td>\n",
       "      <td>[Comedy, Romance]</td>\n",
       "    </tr>\n",
       "    <tr>\n",
       "      <th>3</th>\n",
       "      <td>4</td>\n",
       "      <td>Waiting to Exhale (1995)</td>\n",
       "      <td>[Comedy, Drama, Romance]</td>\n",
       "    </tr>\n",
       "    <tr>\n",
       "      <th>4</th>\n",
       "      <td>5</td>\n",
       "      <td>Father of the Bride Part II (1995)</td>\n",
       "      <td>[Comedy]</td>\n",
       "    </tr>\n",
       "  </tbody>\n",
       "</table>\n",
       "</div>"
      ],
      "text/plain": [
       "   movieId                               title  \\\n",
       "0        1                    Toy Story (1995)   \n",
       "1        2                      Jumanji (1995)   \n",
       "2        3             Grumpier Old Men (1995)   \n",
       "3        4            Waiting to Exhale (1995)   \n",
       "4        5  Father of the Bride Part II (1995)   \n",
       "\n",
       "                                              genres  \n",
       "0  [Adventure, Animation, Children, Comedy, Fantasy]  \n",
       "1                     [Adventure, Children, Fantasy]  \n",
       "2                                  [Comedy, Romance]  \n",
       "3                           [Comedy, Drama, Romance]  \n",
       "4                                           [Comedy]  "
      ]
     },
     "execution_count": 29,
     "metadata": {},
     "output_type": "execute_result"
    }
   ],
   "source": [
    "# splitting genres column to do store it as a list\n",
    "movie['genres'] = movie['genres'].str.split('|')\n",
    "movie.head()"
   ]
  },
  {
   "cell_type": "code",
   "execution_count": 30,
   "id": "e7c51547",
   "metadata": {},
   "outputs": [
    {
     "name": "stdout",
     "output_type": "stream",
     "text": [
      "<class 'pandas.core.frame.DataFrame'>\n",
      "RangeIndex: 465564 entries, 0 to 465563\n",
      "Data columns (total 4 columns):\n",
      " #   Column     Non-Null Count   Dtype \n",
      "---  ------     --------------   ----- \n",
      " 0   userId     465564 non-null  int64 \n",
      " 1   movieId    465564 non-null  int64 \n",
      " 2   tag        465548 non-null  object\n",
      " 3   timestamp  465564 non-null  object\n",
      "dtypes: int64(2), object(2)\n",
      "memory usage: 14.2+ MB\n"
     ]
    }
   ],
   "source": [
    "tags.info()"
   ]
  },
  {
   "cell_type": "code",
   "execution_count": 31,
   "id": "1d7cbb8b",
   "metadata": {},
   "outputs": [
    {
     "data": {
      "text/plain": [
       "tag    16\n",
       "dtype: int64"
      ]
     },
     "execution_count": 31,
     "metadata": {},
     "output_type": "execute_result"
    }
   ],
   "source": [
    "missing_values = tags.isnull().sum()\n",
    "missing_values[missing_values > 0]\n",
    "#we could drop this rows or just keep them to check which user did not give a tag for which movies"
   ]
  },
  {
   "cell_type": "code",
   "execution_count": 32,
   "id": "48a7ae63",
   "metadata": {},
   "outputs": [
    {
     "data": {
      "text/plain": [
       "0"
      ]
     },
     "execution_count": 32,
     "metadata": {},
     "output_type": "execute_result"
    }
   ],
   "source": [
    "tags.duplicated().sum()"
   ]
  },
  {
   "cell_type": "code",
   "execution_count": 33,
   "id": "14575c51",
   "metadata": {},
   "outputs": [
    {
     "data": {
      "text/html": [
       "<div>\n",
       "<style scoped>\n",
       "    .dataframe tbody tr th:only-of-type {\n",
       "        vertical-align: middle;\n",
       "    }\n",
       "\n",
       "    .dataframe tbody tr th {\n",
       "        vertical-align: top;\n",
       "    }\n",
       "\n",
       "    .dataframe thead th {\n",
       "        text-align: right;\n",
       "    }\n",
       "</style>\n",
       "<table border=\"1\" class=\"dataframe\">\n",
       "  <thead>\n",
       "    <tr style=\"text-align: right;\">\n",
       "      <th></th>\n",
       "      <th>userId</th>\n",
       "      <th>movieId</th>\n",
       "      <th>tag</th>\n",
       "      <th>tag_timestamp</th>\n",
       "    </tr>\n",
       "  </thead>\n",
       "  <tbody>\n",
       "    <tr>\n",
       "      <th>0</th>\n",
       "      <td>18</td>\n",
       "      <td>4141</td>\n",
       "      <td>Mark Waters</td>\n",
       "      <td>2009-04-24 18:19:40</td>\n",
       "    </tr>\n",
       "    <tr>\n",
       "      <th>1</th>\n",
       "      <td>65</td>\n",
       "      <td>208</td>\n",
       "      <td>dark hero</td>\n",
       "      <td>2013-05-10 01:41:18</td>\n",
       "    </tr>\n",
       "    <tr>\n",
       "      <th>2</th>\n",
       "      <td>65</td>\n",
       "      <td>353</td>\n",
       "      <td>dark hero</td>\n",
       "      <td>2013-05-10 01:41:19</td>\n",
       "    </tr>\n",
       "    <tr>\n",
       "      <th>3</th>\n",
       "      <td>65</td>\n",
       "      <td>521</td>\n",
       "      <td>noir thriller</td>\n",
       "      <td>2013-05-10 01:39:43</td>\n",
       "    </tr>\n",
       "    <tr>\n",
       "      <th>4</th>\n",
       "      <td>65</td>\n",
       "      <td>592</td>\n",
       "      <td>dark hero</td>\n",
       "      <td>2013-05-10 01:41:18</td>\n",
       "    </tr>\n",
       "  </tbody>\n",
       "</table>\n",
       "</div>"
      ],
      "text/plain": [
       "   userId  movieId            tag        tag_timestamp\n",
       "0      18     4141    Mark Waters  2009-04-24 18:19:40\n",
       "1      65      208      dark hero  2013-05-10 01:41:18\n",
       "2      65      353      dark hero  2013-05-10 01:41:19\n",
       "3      65      521  noir thriller  2013-05-10 01:39:43\n",
       "4      65      592      dark hero  2013-05-10 01:41:18"
      ]
     },
     "execution_count": 33,
     "metadata": {},
     "output_type": "execute_result"
    }
   ],
   "source": [
    "tags = tags.rename(columns={'timestamp':'tag_timestamp'})\n",
    "tags.head()"
   ]
  },
  {
   "cell_type": "markdown",
   "id": "f5dca2c0",
   "metadata": {},
   "source": [
    "### Merging the datasets on common columns"
   ]
  },
  {
   "cell_type": "code",
   "execution_count": 34,
   "id": "e806146c",
   "metadata": {},
   "outputs": [
    {
     "data": {
      "text/html": [
       "<div>\n",
       "<style scoped>\n",
       "    .dataframe tbody tr th:only-of-type {\n",
       "        vertical-align: middle;\n",
       "    }\n",
       "\n",
       "    .dataframe tbody tr th {\n",
       "        vertical-align: top;\n",
       "    }\n",
       "\n",
       "    .dataframe thead th {\n",
       "        text-align: right;\n",
       "    }\n",
       "</style>\n",
       "<table border=\"1\" class=\"dataframe\">\n",
       "  <thead>\n",
       "    <tr style=\"text-align: right;\">\n",
       "      <th></th>\n",
       "      <th>userId</th>\n",
       "      <th>movieId</th>\n",
       "      <th>tag</th>\n",
       "      <th>tag_timestamp</th>\n",
       "      <th>tagId</th>\n",
       "    </tr>\n",
       "  </thead>\n",
       "  <tbody>\n",
       "    <tr>\n",
       "      <th>0</th>\n",
       "      <td>18</td>\n",
       "      <td>4141</td>\n",
       "      <td>Mark Waters</td>\n",
       "      <td>2009-04-24 18:19:40</td>\n",
       "      <td>NaN</td>\n",
       "    </tr>\n",
       "    <tr>\n",
       "      <th>1</th>\n",
       "      <td>65</td>\n",
       "      <td>208</td>\n",
       "      <td>dark hero</td>\n",
       "      <td>2013-05-10 01:41:18</td>\n",
       "      <td>288.0</td>\n",
       "    </tr>\n",
       "    <tr>\n",
       "      <th>2</th>\n",
       "      <td>65</td>\n",
       "      <td>353</td>\n",
       "      <td>dark hero</td>\n",
       "      <td>2013-05-10 01:41:19</td>\n",
       "      <td>288.0</td>\n",
       "    </tr>\n",
       "    <tr>\n",
       "      <th>3</th>\n",
       "      <td>65</td>\n",
       "      <td>521</td>\n",
       "      <td>noir thriller</td>\n",
       "      <td>2013-05-10 01:39:43</td>\n",
       "      <td>712.0</td>\n",
       "    </tr>\n",
       "    <tr>\n",
       "      <th>4</th>\n",
       "      <td>65</td>\n",
       "      <td>592</td>\n",
       "      <td>dark hero</td>\n",
       "      <td>2013-05-10 01:41:18</td>\n",
       "      <td>288.0</td>\n",
       "    </tr>\n",
       "  </tbody>\n",
       "</table>\n",
       "</div>"
      ],
      "text/plain": [
       "   userId  movieId            tag        tag_timestamp  tagId\n",
       "0      18     4141    Mark Waters  2009-04-24 18:19:40    NaN\n",
       "1      65      208      dark hero  2013-05-10 01:41:18  288.0\n",
       "2      65      353      dark hero  2013-05-10 01:41:19  288.0\n",
       "3      65      521  noir thriller  2013-05-10 01:39:43  712.0\n",
       "4      65      592      dark hero  2013-05-10 01:41:18  288.0"
      ]
     },
     "execution_count": 34,
     "metadata": {},
     "output_type": "execute_result"
    }
   ],
   "source": [
    "#merging tags and genom_tags on 'tag' column\n",
    "merged_tags = pd.merge(tags, genome_tags, on ='tag', how = 'left')\n",
    "merged_tags.head()"
   ]
  },
  {
   "cell_type": "code",
   "execution_count": 35,
   "id": "11a9d17c",
   "metadata": {},
   "outputs": [],
   "source": [
    "#tag ids are converted into floats because od Nan values\n",
    "#let's convert them back to nullable ints\n",
    "merged_tags['tagId'] = merged_tags['tagId'].astype('int64',errors='ignore')"
   ]
  },
  {
   "cell_type": "code",
   "execution_count": 36,
   "id": "34662384",
   "metadata": {},
   "outputs": [
    {
     "data": {
      "text/html": [
       "<div>\n",
       "<style scoped>\n",
       "    .dataframe tbody tr th:only-of-type {\n",
       "        vertical-align: middle;\n",
       "    }\n",
       "\n",
       "    .dataframe tbody tr th {\n",
       "        vertical-align: top;\n",
       "    }\n",
       "\n",
       "    .dataframe thead th {\n",
       "        text-align: right;\n",
       "    }\n",
       "</style>\n",
       "<table border=\"1\" class=\"dataframe\">\n",
       "  <thead>\n",
       "    <tr style=\"text-align: right;\">\n",
       "      <th></th>\n",
       "      <th>userId</th>\n",
       "      <th>movieId</th>\n",
       "      <th>tag</th>\n",
       "      <th>tag_timestamp</th>\n",
       "      <th>tagId</th>\n",
       "    </tr>\n",
       "  </thead>\n",
       "  <tbody>\n",
       "    <tr>\n",
       "      <th>0</th>\n",
       "      <td>18</td>\n",
       "      <td>4141</td>\n",
       "      <td>Mark Waters</td>\n",
       "      <td>2009-04-24 18:19:40</td>\n",
       "      <td>NaN</td>\n",
       "    </tr>\n",
       "    <tr>\n",
       "      <th>1</th>\n",
       "      <td>65</td>\n",
       "      <td>208</td>\n",
       "      <td>dark hero</td>\n",
       "      <td>2013-05-10 01:41:18</td>\n",
       "      <td>288.0</td>\n",
       "    </tr>\n",
       "    <tr>\n",
       "      <th>2</th>\n",
       "      <td>65</td>\n",
       "      <td>353</td>\n",
       "      <td>dark hero</td>\n",
       "      <td>2013-05-10 01:41:19</td>\n",
       "      <td>288.0</td>\n",
       "    </tr>\n",
       "    <tr>\n",
       "      <th>3</th>\n",
       "      <td>65</td>\n",
       "      <td>521</td>\n",
       "      <td>noir thriller</td>\n",
       "      <td>2013-05-10 01:39:43</td>\n",
       "      <td>712.0</td>\n",
       "    </tr>\n",
       "    <tr>\n",
       "      <th>4</th>\n",
       "      <td>65</td>\n",
       "      <td>592</td>\n",
       "      <td>dark hero</td>\n",
       "      <td>2013-05-10 01:41:18</td>\n",
       "      <td>288.0</td>\n",
       "    </tr>\n",
       "  </tbody>\n",
       "</table>\n",
       "</div>"
      ],
      "text/plain": [
       "   userId  movieId            tag        tag_timestamp  tagId\n",
       "0      18     4141    Mark Waters  2009-04-24 18:19:40    NaN\n",
       "1      65      208      dark hero  2013-05-10 01:41:18  288.0\n",
       "2      65      353      dark hero  2013-05-10 01:41:19  288.0\n",
       "3      65      521  noir thriller  2013-05-10 01:39:43  712.0\n",
       "4      65      592      dark hero  2013-05-10 01:41:18  288.0"
      ]
     },
     "execution_count": 36,
     "metadata": {},
     "output_type": "execute_result"
    }
   ],
   "source": [
    "merged_tags.head()"
   ]
  },
  {
   "cell_type": "code",
   "execution_count": 37,
   "id": "633b12ea",
   "metadata": {},
   "outputs": [],
   "source": [
    "# joining the genome_scores to add the tag relevance\n",
    "merged_tag = pd.merge(merged_tags, genome_scores, on = ['movieId', 'tagId'], how='left')"
   ]
  },
  {
   "cell_type": "code",
   "execution_count": 38,
   "id": "9222d3a0",
   "metadata": {},
   "outputs": [
    {
     "data": {
      "text/html": [
       "<div>\n",
       "<style scoped>\n",
       "    .dataframe tbody tr th:only-of-type {\n",
       "        vertical-align: middle;\n",
       "    }\n",
       "\n",
       "    .dataframe tbody tr th {\n",
       "        vertical-align: top;\n",
       "    }\n",
       "\n",
       "    .dataframe thead th {\n",
       "        text-align: right;\n",
       "    }\n",
       "</style>\n",
       "<table border=\"1\" class=\"dataframe\">\n",
       "  <thead>\n",
       "    <tr style=\"text-align: right;\">\n",
       "      <th></th>\n",
       "      <th>userId</th>\n",
       "      <th>movieId</th>\n",
       "      <th>tag</th>\n",
       "      <th>tag_timestamp</th>\n",
       "      <th>tagId</th>\n",
       "      <th>relevance</th>\n",
       "    </tr>\n",
       "  </thead>\n",
       "  <tbody>\n",
       "    <tr>\n",
       "      <th>0</th>\n",
       "      <td>18</td>\n",
       "      <td>4141</td>\n",
       "      <td>Mark Waters</td>\n",
       "      <td>2009-04-24 18:19:40</td>\n",
       "      <td>NaN</td>\n",
       "      <td>NaN</td>\n",
       "    </tr>\n",
       "    <tr>\n",
       "      <th>1</th>\n",
       "      <td>65</td>\n",
       "      <td>208</td>\n",
       "      <td>dark hero</td>\n",
       "      <td>2013-05-10 01:41:18</td>\n",
       "      <td>288.0</td>\n",
       "      <td>0.94950</td>\n",
       "    </tr>\n",
       "    <tr>\n",
       "      <th>2</th>\n",
       "      <td>65</td>\n",
       "      <td>353</td>\n",
       "      <td>dark hero</td>\n",
       "      <td>2013-05-10 01:41:19</td>\n",
       "      <td>288.0</td>\n",
       "      <td>0.99800</td>\n",
       "    </tr>\n",
       "    <tr>\n",
       "      <th>3</th>\n",
       "      <td>65</td>\n",
       "      <td>521</td>\n",
       "      <td>noir thriller</td>\n",
       "      <td>2013-05-10 01:39:43</td>\n",
       "      <td>712.0</td>\n",
       "      <td>0.98900</td>\n",
       "    </tr>\n",
       "    <tr>\n",
       "      <th>4</th>\n",
       "      <td>65</td>\n",
       "      <td>592</td>\n",
       "      <td>dark hero</td>\n",
       "      <td>2013-05-10 01:41:18</td>\n",
       "      <td>288.0</td>\n",
       "      <td>0.99775</td>\n",
       "    </tr>\n",
       "  </tbody>\n",
       "</table>\n",
       "</div>"
      ],
      "text/plain": [
       "   userId  movieId            tag        tag_timestamp  tagId  relevance\n",
       "0      18     4141    Mark Waters  2009-04-24 18:19:40    NaN        NaN\n",
       "1      65      208      dark hero  2013-05-10 01:41:18  288.0    0.94950\n",
       "2      65      353      dark hero  2013-05-10 01:41:19  288.0    0.99800\n",
       "3      65      521  noir thriller  2013-05-10 01:39:43  712.0    0.98900\n",
       "4      65      592      dark hero  2013-05-10 01:41:18  288.0    0.99775"
      ]
     },
     "execution_count": 38,
     "metadata": {},
     "output_type": "execute_result"
    }
   ],
   "source": [
    "merged_tag.head()"
   ]
  },
  {
   "cell_type": "code",
   "execution_count": 39,
   "id": "7a4d5289",
   "metadata": {},
   "outputs": [
    {
     "data": {
      "text/html": [
       "<div>\n",
       "<style scoped>\n",
       "    .dataframe tbody tr th:only-of-type {\n",
       "        vertical-align: middle;\n",
       "    }\n",
       "\n",
       "    .dataframe tbody tr th {\n",
       "        vertical-align: top;\n",
       "    }\n",
       "\n",
       "    .dataframe thead th {\n",
       "        text-align: right;\n",
       "    }\n",
       "</style>\n",
       "<table border=\"1\" class=\"dataframe\">\n",
       "  <thead>\n",
       "    <tr style=\"text-align: right;\">\n",
       "      <th></th>\n",
       "      <th>userId</th>\n",
       "      <th>movieId</th>\n",
       "      <th>rating</th>\n",
       "      <th>rating_timestamp</th>\n",
       "      <th>tag</th>\n",
       "      <th>tag_timestamp</th>\n",
       "      <th>tagId</th>\n",
       "      <th>relevance</th>\n",
       "    </tr>\n",
       "  </thead>\n",
       "  <tbody>\n",
       "    <tr>\n",
       "      <th>0</th>\n",
       "      <td>1</td>\n",
       "      <td>2</td>\n",
       "      <td>3.5</td>\n",
       "      <td>2005-04-02 23:53:47</td>\n",
       "      <td>NaN</td>\n",
       "      <td>NaN</td>\n",
       "      <td>NaN</td>\n",
       "      <td>NaN</td>\n",
       "    </tr>\n",
       "    <tr>\n",
       "      <th>1</th>\n",
       "      <td>1</td>\n",
       "      <td>29</td>\n",
       "      <td>3.5</td>\n",
       "      <td>2005-04-02 23:31:16</td>\n",
       "      <td>NaN</td>\n",
       "      <td>NaN</td>\n",
       "      <td>NaN</td>\n",
       "      <td>NaN</td>\n",
       "    </tr>\n",
       "    <tr>\n",
       "      <th>2</th>\n",
       "      <td>1</td>\n",
       "      <td>32</td>\n",
       "      <td>3.5</td>\n",
       "      <td>2005-04-02 23:33:39</td>\n",
       "      <td>NaN</td>\n",
       "      <td>NaN</td>\n",
       "      <td>NaN</td>\n",
       "      <td>NaN</td>\n",
       "    </tr>\n",
       "    <tr>\n",
       "      <th>3</th>\n",
       "      <td>1</td>\n",
       "      <td>47</td>\n",
       "      <td>3.5</td>\n",
       "      <td>2005-04-02 23:32:07</td>\n",
       "      <td>NaN</td>\n",
       "      <td>NaN</td>\n",
       "      <td>NaN</td>\n",
       "      <td>NaN</td>\n",
       "    </tr>\n",
       "    <tr>\n",
       "      <th>4</th>\n",
       "      <td>1</td>\n",
       "      <td>50</td>\n",
       "      <td>3.5</td>\n",
       "      <td>2005-04-02 23:29:40</td>\n",
       "      <td>NaN</td>\n",
       "      <td>NaN</td>\n",
       "      <td>NaN</td>\n",
       "      <td>NaN</td>\n",
       "    </tr>\n",
       "  </tbody>\n",
       "</table>\n",
       "</div>"
      ],
      "text/plain": [
       "   userId  movieId  rating     rating_timestamp  tag tag_timestamp  tagId  \\\n",
       "0       1        2     3.5  2005-04-02 23:53:47  NaN           NaN    NaN   \n",
       "1       1       29     3.5  2005-04-02 23:31:16  NaN           NaN    NaN   \n",
       "2       1       32     3.5  2005-04-02 23:33:39  NaN           NaN    NaN   \n",
       "3       1       47     3.5  2005-04-02 23:32:07  NaN           NaN    NaN   \n",
       "4       1       50     3.5  2005-04-02 23:29:40  NaN           NaN    NaN   \n",
       "\n",
       "   relevance  \n",
       "0        NaN  \n",
       "1        NaN  \n",
       "2        NaN  \n",
       "3        NaN  \n",
       "4        NaN  "
      ]
     },
     "execution_count": 39,
     "metadata": {},
     "output_type": "execute_result"
    }
   ],
   "source": [
    "df = pd.merge(rating, merged_tag, on = ['userId', 'movieId'], how = 'left')\n",
    "df.head()"
   ]
  },
  {
   "cell_type": "code",
   "execution_count": 40,
   "id": "bd146ba9",
   "metadata": {},
   "outputs": [],
   "source": [
    "df = pd.merge( df, movie, on ='movieId', how='left')"
   ]
  },
  {
   "cell_type": "code",
   "execution_count": 41,
   "id": "6a87bae8",
   "metadata": {},
   "outputs": [
    {
     "data": {
      "text/html": [
       "<div>\n",
       "<style scoped>\n",
       "    .dataframe tbody tr th:only-of-type {\n",
       "        vertical-align: middle;\n",
       "    }\n",
       "\n",
       "    .dataframe tbody tr th {\n",
       "        vertical-align: top;\n",
       "    }\n",
       "\n",
       "    .dataframe thead th {\n",
       "        text-align: right;\n",
       "    }\n",
       "</style>\n",
       "<table border=\"1\" class=\"dataframe\">\n",
       "  <thead>\n",
       "    <tr style=\"text-align: right;\">\n",
       "      <th></th>\n",
       "      <th>userId</th>\n",
       "      <th>movieId</th>\n",
       "      <th>rating</th>\n",
       "      <th>rating_timestamp</th>\n",
       "      <th>tag</th>\n",
       "      <th>tag_timestamp</th>\n",
       "      <th>tagId</th>\n",
       "      <th>relevance</th>\n",
       "      <th>title</th>\n",
       "      <th>genres</th>\n",
       "    </tr>\n",
       "  </thead>\n",
       "  <tbody>\n",
       "    <tr>\n",
       "      <th>0</th>\n",
       "      <td>1</td>\n",
       "      <td>2</td>\n",
       "      <td>3.5</td>\n",
       "      <td>2005-04-02 23:53:47</td>\n",
       "      <td>NaN</td>\n",
       "      <td>NaN</td>\n",
       "      <td>NaN</td>\n",
       "      <td>NaN</td>\n",
       "      <td>Jumanji (1995)</td>\n",
       "      <td>[Adventure, Children, Fantasy]</td>\n",
       "    </tr>\n",
       "    <tr>\n",
       "      <th>1</th>\n",
       "      <td>1</td>\n",
       "      <td>29</td>\n",
       "      <td>3.5</td>\n",
       "      <td>2005-04-02 23:31:16</td>\n",
       "      <td>NaN</td>\n",
       "      <td>NaN</td>\n",
       "      <td>NaN</td>\n",
       "      <td>NaN</td>\n",
       "      <td>City of Lost Children, The (Cité des enfants p...</td>\n",
       "      <td>[Adventure, Drama, Fantasy, Mystery, Sci-Fi]</td>\n",
       "    </tr>\n",
       "    <tr>\n",
       "      <th>2</th>\n",
       "      <td>1</td>\n",
       "      <td>32</td>\n",
       "      <td>3.5</td>\n",
       "      <td>2005-04-02 23:33:39</td>\n",
       "      <td>NaN</td>\n",
       "      <td>NaN</td>\n",
       "      <td>NaN</td>\n",
       "      <td>NaN</td>\n",
       "      <td>Twelve Monkeys (a.k.a. 12 Monkeys) (1995)</td>\n",
       "      <td>[Mystery, Sci-Fi, Thriller]</td>\n",
       "    </tr>\n",
       "    <tr>\n",
       "      <th>3</th>\n",
       "      <td>1</td>\n",
       "      <td>47</td>\n",
       "      <td>3.5</td>\n",
       "      <td>2005-04-02 23:32:07</td>\n",
       "      <td>NaN</td>\n",
       "      <td>NaN</td>\n",
       "      <td>NaN</td>\n",
       "      <td>NaN</td>\n",
       "      <td>Seven (a.k.a. Se7en) (1995)</td>\n",
       "      <td>[Mystery, Thriller]</td>\n",
       "    </tr>\n",
       "    <tr>\n",
       "      <th>4</th>\n",
       "      <td>1</td>\n",
       "      <td>50</td>\n",
       "      <td>3.5</td>\n",
       "      <td>2005-04-02 23:29:40</td>\n",
       "      <td>NaN</td>\n",
       "      <td>NaN</td>\n",
       "      <td>NaN</td>\n",
       "      <td>NaN</td>\n",
       "      <td>Usual Suspects, The (1995)</td>\n",
       "      <td>[Crime, Mystery, Thriller]</td>\n",
       "    </tr>\n",
       "  </tbody>\n",
       "</table>\n",
       "</div>"
      ],
      "text/plain": [
       "   userId  movieId  rating     rating_timestamp  tag tag_timestamp  tagId  \\\n",
       "0       1        2     3.5  2005-04-02 23:53:47  NaN           NaN    NaN   \n",
       "1       1       29     3.5  2005-04-02 23:31:16  NaN           NaN    NaN   \n",
       "2       1       32     3.5  2005-04-02 23:33:39  NaN           NaN    NaN   \n",
       "3       1       47     3.5  2005-04-02 23:32:07  NaN           NaN    NaN   \n",
       "4       1       50     3.5  2005-04-02 23:29:40  NaN           NaN    NaN   \n",
       "\n",
       "   relevance                                              title  \\\n",
       "0        NaN                                     Jumanji (1995)   \n",
       "1        NaN  City of Lost Children, The (Cité des enfants p...   \n",
       "2        NaN          Twelve Monkeys (a.k.a. 12 Monkeys) (1995)   \n",
       "3        NaN                        Seven (a.k.a. Se7en) (1995)   \n",
       "4        NaN                         Usual Suspects, The (1995)   \n",
       "\n",
       "                                         genres  \n",
       "0                [Adventure, Children, Fantasy]  \n",
       "1  [Adventure, Drama, Fantasy, Mystery, Sci-Fi]  \n",
       "2                   [Mystery, Sci-Fi, Thriller]  \n",
       "3                           [Mystery, Thriller]  \n",
       "4                    [Crime, Mystery, Thriller]  "
      ]
     },
     "execution_count": 41,
     "metadata": {},
     "output_type": "execute_result"
    }
   ],
   "source": [
    "df.head()"
   ]
  },
  {
   "cell_type": "code",
   "execution_count": 42,
   "id": "ce0724aa",
   "metadata": {},
   "outputs": [
    {
     "data": {
      "text/html": [
       "<div>\n",
       "<style scoped>\n",
       "    .dataframe tbody tr th:only-of-type {\n",
       "        vertical-align: middle;\n",
       "    }\n",
       "\n",
       "    .dataframe tbody tr th {\n",
       "        vertical-align: top;\n",
       "    }\n",
       "\n",
       "    .dataframe thead th {\n",
       "        text-align: right;\n",
       "    }\n",
       "</style>\n",
       "<table border=\"1\" class=\"dataframe\">\n",
       "  <thead>\n",
       "    <tr style=\"text-align: right;\">\n",
       "      <th></th>\n",
       "      <th>userId</th>\n",
       "      <th>movieId</th>\n",
       "      <th>rating</th>\n",
       "      <th>rating_timestamp</th>\n",
       "      <th>tag</th>\n",
       "      <th>tag_timestamp</th>\n",
       "      <th>tagId</th>\n",
       "      <th>relevance</th>\n",
       "      <th>title</th>\n",
       "      <th>genres</th>\n",
       "    </tr>\n",
       "  </thead>\n",
       "  <tbody>\n",
       "    <tr>\n",
       "      <th>0</th>\n",
       "      <td>1</td>\n",
       "      <td>2</td>\n",
       "      <td>3.5</td>\n",
       "      <td>2005-04-02 23:53:47</td>\n",
       "      <td>NaN</td>\n",
       "      <td>NaN</td>\n",
       "      <td>NaN</td>\n",
       "      <td>NaN</td>\n",
       "      <td>Jumanji (1995)</td>\n",
       "      <td>[Adventure, Children, Fantasy]</td>\n",
       "    </tr>\n",
       "    <tr>\n",
       "      <th>1</th>\n",
       "      <td>1</td>\n",
       "      <td>29</td>\n",
       "      <td>3.5</td>\n",
       "      <td>2005-04-02 23:31:16</td>\n",
       "      <td>NaN</td>\n",
       "      <td>NaN</td>\n",
       "      <td>NaN</td>\n",
       "      <td>NaN</td>\n",
       "      <td>City of Lost Children, The (Cité des enfants p...</td>\n",
       "      <td>[Adventure, Drama, Fantasy, Mystery, Sci-Fi]</td>\n",
       "    </tr>\n",
       "    <tr>\n",
       "      <th>2</th>\n",
       "      <td>1</td>\n",
       "      <td>32</td>\n",
       "      <td>3.5</td>\n",
       "      <td>2005-04-02 23:33:39</td>\n",
       "      <td>NaN</td>\n",
       "      <td>NaN</td>\n",
       "      <td>NaN</td>\n",
       "      <td>NaN</td>\n",
       "      <td>Twelve Monkeys (a.k.a. 12 Monkeys) (1995)</td>\n",
       "      <td>[Mystery, Sci-Fi, Thriller]</td>\n",
       "    </tr>\n",
       "    <tr>\n",
       "      <th>3</th>\n",
       "      <td>1</td>\n",
       "      <td>47</td>\n",
       "      <td>3.5</td>\n",
       "      <td>2005-04-02 23:32:07</td>\n",
       "      <td>NaN</td>\n",
       "      <td>NaN</td>\n",
       "      <td>NaN</td>\n",
       "      <td>NaN</td>\n",
       "      <td>Seven (a.k.a. Se7en) (1995)</td>\n",
       "      <td>[Mystery, Thriller]</td>\n",
       "    </tr>\n",
       "    <tr>\n",
       "      <th>4</th>\n",
       "      <td>1</td>\n",
       "      <td>50</td>\n",
       "      <td>3.5</td>\n",
       "      <td>2005-04-02 23:29:40</td>\n",
       "      <td>NaN</td>\n",
       "      <td>NaN</td>\n",
       "      <td>NaN</td>\n",
       "      <td>NaN</td>\n",
       "      <td>Usual Suspects, The (1995)</td>\n",
       "      <td>[Crime, Mystery, Thriller]</td>\n",
       "    </tr>\n",
       "  </tbody>\n",
       "</table>\n",
       "</div>"
      ],
      "text/plain": [
       "   userId  movieId  rating     rating_timestamp  tag tag_timestamp  tagId  \\\n",
       "0       1        2     3.5  2005-04-02 23:53:47  NaN           NaN    NaN   \n",
       "1       1       29     3.5  2005-04-02 23:31:16  NaN           NaN    NaN   \n",
       "2       1       32     3.5  2005-04-02 23:33:39  NaN           NaN    NaN   \n",
       "3       1       47     3.5  2005-04-02 23:32:07  NaN           NaN    NaN   \n",
       "4       1       50     3.5  2005-04-02 23:29:40  NaN           NaN    NaN   \n",
       "\n",
       "   relevance                                              title  \\\n",
       "0        NaN                                     Jumanji (1995)   \n",
       "1        NaN  City of Lost Children, The (Cité des enfants p...   \n",
       "2        NaN          Twelve Monkeys (a.k.a. 12 Monkeys) (1995)   \n",
       "3        NaN                        Seven (a.k.a. Se7en) (1995)   \n",
       "4        NaN                         Usual Suspects, The (1995)   \n",
       "\n",
       "                                         genres  \n",
       "0                [Adventure, Children, Fantasy]  \n",
       "1  [Adventure, Drama, Fantasy, Mystery, Sci-Fi]  \n",
       "2                   [Mystery, Sci-Fi, Thriller]  \n",
       "3                           [Mystery, Thriller]  \n",
       "4                    [Crime, Mystery, Thriller]  "
      ]
     },
     "execution_count": 42,
     "metadata": {},
     "output_type": "execute_result"
    }
   ],
   "source": [
    "df['userId'] = df['userId'].astype('int64')\n",
    "df['tagId'] = df['tagId'].astype('int64', errors= 'ignore')\n",
    "df.head()"
   ]
  },
  {
   "cell_type": "code",
   "execution_count": 43,
   "id": "3d3952a6",
   "metadata": {},
   "outputs": [
    {
     "name": "stdout",
     "output_type": "stream",
     "text": [
      "0\n"
     ]
    }
   ],
   "source": [
    "print(df.rating.isnull().sum())"
   ]
  },
  {
   "cell_type": "code",
   "execution_count": 2,
   "id": "f83b06d9",
   "metadata": {},
   "outputs": [],
   "source": [
    "df = pd.read_csv('complete_dataset.csv')"
   ]
  },
  {
   "cell_type": "code",
   "execution_count": 3,
   "id": "8d594462",
   "metadata": {},
   "outputs": [
    {
     "data": {
      "text/plain": [
       "(20265625, 10)"
      ]
     },
     "execution_count": 3,
     "metadata": {},
     "output_type": "execute_result"
    }
   ],
   "source": [
    "df.shape"
   ]
  },
  {
   "cell_type": "markdown",
   "id": "8cbd05f71034e193",
   "metadata": {},
   "source": [
    "## 1.2 Minhash Signatures\n",
    "Using the __`userId`__ and __`movieId`__ columns, implement your own **MinHash** function.\n",
    "This function will hash each user's watched movie list, creating a representation that allows for quick comparisons of user similarities."
   ]
  },
  {
   "cell_type": "code",
   "execution_count": 3,
   "id": "c1041e41",
   "metadata": {},
   "outputs": [],
   "source": [
    "from pyspark.sql import SparkSession\n",
    "from pyspark.sql import functions as F\n",
    "from pyspark.ml.linalg import Vectors\n",
    "from pyspark.sql.functions import udf, collect_set\n",
    "from scipy.sparse import csr_matrix\n",
    "from pyspark.sql.types import StructType, StructField, IntegerType, ArrayType"
   ]
  },
  {
   "cell_type": "code",
   "execution_count": 4,
   "id": "7710eed3",
   "metadata": {},
   "outputs": [],
   "source": [
    "from functions import *"
   ]
  },
  {
   "cell_type": "code",
   "execution_count": 16,
   "id": "94bb3713",
   "metadata": {},
   "outputs": [
    {
     "name": "stdout",
     "output_type": "stream",
     "text": [
      "Collecting pyarrow\n",
      "  Downloading pyarrow-18.1.0-cp312-cp312-win_amd64.whl.metadata (3.4 kB)\n",
      "Downloading pyarrow-18.1.0-cp312-cp312-win_amd64.whl (25.1 MB)\n",
      "   ---------------------------------------- 0.0/25.1 MB ? eta -:--:--\n",
      "   ---------------------------------------- 0.0/25.1 MB ? eta -:--:--\n",
      "   ---------------------------------------- 0.3/25.1 MB ? eta -:--:--\n",
      "    --------------------------------------- 0.5/25.1 MB 1.2 MB/s eta 0:00:21\n",
      "   - -------------------------------------- 0.8/25.1 MB 1.1 MB/s eta 0:00:22\n",
      "   - -------------------------------------- 1.0/25.1 MB 1.3 MB/s eta 0:00:20\n",
      "   -- ------------------------------------- 1.6/25.1 MB 1.4 MB/s eta 0:00:17\n",
      "   -- ------------------------------------- 1.8/25.1 MB 1.4 MB/s eta 0:00:17\n",
      "   --- ------------------------------------ 2.1/25.1 MB 1.4 MB/s eta 0:00:17\n",
      "   --- ------------------------------------ 2.4/25.1 MB 1.4 MB/s eta 0:00:16\n",
      "   ---- ----------------------------------- 2.6/25.1 MB 1.4 MB/s eta 0:00:17\n",
      "   ---- ----------------------------------- 2.9/25.1 MB 1.4 MB/s eta 0:00:17\n",
      "   ----- ---------------------------------- 3.1/25.1 MB 1.4 MB/s eta 0:00:17\n",
      "   ----- ---------------------------------- 3.4/25.1 MB 1.3 MB/s eta 0:00:17\n",
      "   ------ --------------------------------- 3.9/25.1 MB 1.3 MB/s eta 0:00:16\n",
      "   ------ --------------------------------- 4.2/25.1 MB 1.4 MB/s eta 0:00:16\n",
      "   ------- -------------------------------- 4.5/25.1 MB 1.3 MB/s eta 0:00:16\n",
      "   ------- -------------------------------- 4.7/25.1 MB 1.3 MB/s eta 0:00:16\n",
      "   ------- -------------------------------- 5.0/25.1 MB 1.3 MB/s eta 0:00:16\n",
      "   -------- ------------------------------- 5.2/25.1 MB 1.3 MB/s eta 0:00:16\n",
      "   -------- ------------------------------- 5.5/25.1 MB 1.3 MB/s eta 0:00:16\n",
      "   --------- ------------------------------ 5.8/25.1 MB 1.3 MB/s eta 0:00:15\n",
      "   --------- ------------------------------ 6.0/25.1 MB 1.3 MB/s eta 0:00:15\n",
      "   ---------- ----------------------------- 6.6/25.1 MB 1.3 MB/s eta 0:00:15\n",
      "   ---------- ----------------------------- 6.8/25.1 MB 1.3 MB/s eta 0:00:14\n",
      "   ----------- ---------------------------- 7.1/25.1 MB 1.3 MB/s eta 0:00:14\n",
      "   ----------- ---------------------------- 7.3/25.1 MB 1.3 MB/s eta 0:00:14\n",
      "   ------------ --------------------------- 7.6/25.1 MB 1.3 MB/s eta 0:00:14\n",
      "   ------------ --------------------------- 7.9/25.1 MB 1.3 MB/s eta 0:00:14\n",
      "   ------------ --------------------------- 8.1/25.1 MB 1.3 MB/s eta 0:00:14\n",
      "   ------------- -------------------------- 8.7/25.1 MB 1.3 MB/s eta 0:00:13\n",
      "   ------------- -------------------------- 8.7/25.1 MB 1.3 MB/s eta 0:00:13\n",
      "   -------------- ------------------------- 8.9/25.1 MB 1.3 MB/s eta 0:00:13\n",
      "   -------------- ------------------------- 9.2/25.1 MB 1.3 MB/s eta 0:00:13\n",
      "   --------------- ------------------------ 9.4/25.1 MB 1.3 MB/s eta 0:00:13\n",
      "   --------------- ------------------------ 9.7/25.1 MB 1.3 MB/s eta 0:00:13\n",
      "   --------------- ------------------------ 10.0/25.1 MB 1.3 MB/s eta 0:00:12\n",
      "   ---------------- ----------------------- 10.5/25.1 MB 1.3 MB/s eta 0:00:12\n",
      "   ----------------- ---------------------- 10.7/25.1 MB 1.3 MB/s eta 0:00:12\n",
      "   ----------------- ---------------------- 11.0/25.1 MB 1.3 MB/s eta 0:00:11\n",
      "   ----------------- ---------------------- 11.0/25.1 MB 1.3 MB/s eta 0:00:11\n",
      "   ----------------- ---------------------- 11.3/25.1 MB 1.3 MB/s eta 0:00:11\n",
      "   ------------------ --------------------- 11.5/25.1 MB 1.3 MB/s eta 0:00:11\n",
      "   ------------------ --------------------- 11.8/25.1 MB 1.3 MB/s eta 0:00:11\n",
      "   ------------------- -------------------- 12.1/25.1 MB 1.3 MB/s eta 0:00:11\n",
      "   ------------------- -------------------- 12.3/25.1 MB 1.3 MB/s eta 0:00:11\n",
      "   -------------------- ------------------- 12.6/25.1 MB 1.3 MB/s eta 0:00:10\n",
      "   -------------------- ------------------- 12.8/25.1 MB 1.3 MB/s eta 0:00:10\n",
      "   -------------------- ------------------- 13.1/25.1 MB 1.3 MB/s eta 0:00:10\n",
      "   --------------------- ------------------ 13.4/25.1 MB 1.3 MB/s eta 0:00:10\n",
      "   --------------------- ------------------ 13.6/25.1 MB 1.3 MB/s eta 0:00:10\n",
      "   ---------------------- ----------------- 13.9/25.1 MB 1.3 MB/s eta 0:00:09\n",
      "   ---------------------- ----------------- 14.2/25.1 MB 1.3 MB/s eta 0:00:09\n",
      "   ---------------------- ----------------- 14.4/25.1 MB 1.3 MB/s eta 0:00:09\n",
      "   ----------------------- ---------------- 14.7/25.1 MB 1.3 MB/s eta 0:00:09\n",
      "   ----------------------- ---------------- 14.9/25.1 MB 1.3 MB/s eta 0:00:09\n",
      "   ------------------------ --------------- 15.2/25.1 MB 1.3 MB/s eta 0:00:08\n",
      "   ------------------------ --------------- 15.5/25.1 MB 1.3 MB/s eta 0:00:08\n",
      "   ------------------------- -------------- 15.7/25.1 MB 1.3 MB/s eta 0:00:08\n",
      "   ------------------------- -------------- 16.0/25.1 MB 1.3 MB/s eta 0:00:08\n",
      "   -------------------------- ------------- 16.5/25.1 MB 1.3 MB/s eta 0:00:07\n",
      "   -------------------------- ------------- 16.8/25.1 MB 1.3 MB/s eta 0:00:07\n",
      "   --------------------------- ------------ 17.0/25.1 MB 1.3 MB/s eta 0:00:07\n",
      "   --------------------------- ------------ 17.0/25.1 MB 1.3 MB/s eta 0:00:07\n",
      "   --------------------------- ------------ 17.3/25.1 MB 1.2 MB/s eta 0:00:07\n",
      "   --------------------------- ------------ 17.6/25.1 MB 1.2 MB/s eta 0:00:07\n",
      "   ---------------------------- ----------- 17.8/25.1 MB 1.2 MB/s eta 0:00:06\n",
      "   ---------------------------- ----------- 18.1/25.1 MB 1.2 MB/s eta 0:00:06\n",
      "   ---------------------------- ----------- 18.1/25.1 MB 1.2 MB/s eta 0:00:06\n",
      "   ----------------------------- ---------- 18.6/25.1 MB 1.2 MB/s eta 0:00:06\n",
      "   ------------------------------ --------- 18.9/25.1 MB 1.2 MB/s eta 0:00:05\n",
      "   ------------------------------ --------- 19.1/25.1 MB 1.2 MB/s eta 0:00:05\n",
      "   ------------------------------ --------- 19.4/25.1 MB 1.2 MB/s eta 0:00:05\n",
      "   ------------------------------- -------- 19.7/25.1 MB 1.2 MB/s eta 0:00:05\n",
      "   ------------------------------- -------- 19.9/25.1 MB 1.2 MB/s eta 0:00:05\n",
      "   -------------------------------- ------- 20.2/25.1 MB 1.2 MB/s eta 0:00:04\n",
      "   -------------------------------- ------- 20.4/25.1 MB 1.2 MB/s eta 0:00:04\n",
      "   --------------------------------- ------ 20.7/25.1 MB 1.2 MB/s eta 0:00:04\n",
      "   --------------------------------- ------ 21.0/25.1 MB 1.2 MB/s eta 0:00:04\n",
      "   --------------------------------- ------ 21.2/25.1 MB 1.2 MB/s eta 0:00:04\n",
      "   --------------------------------- ------ 21.2/25.1 MB 1.2 MB/s eta 0:00:04\n",
      "   ---------------------------------- ----- 21.5/25.1 MB 1.2 MB/s eta 0:00:03\n",
      "   ---------------------------------- ----- 21.8/25.1 MB 1.2 MB/s eta 0:00:03\n",
      "   ----------------------------------- ---- 22.0/25.1 MB 1.2 MB/s eta 0:00:03\n",
      "   ----------------------------------- ---- 22.3/25.1 MB 1.2 MB/s eta 0:00:03\n",
      "   ----------------------------------- ---- 22.5/25.1 MB 1.2 MB/s eta 0:00:03\n",
      "   ------------------------------------ --- 22.8/25.1 MB 1.2 MB/s eta 0:00:02\n",
      "   ------------------------------------ --- 23.1/25.1 MB 1.2 MB/s eta 0:00:02\n",
      "   ------------------------------------- -- 23.3/25.1 MB 1.2 MB/s eta 0:00:02\n",
      "   ------------------------------------- -- 23.6/25.1 MB 1.2 MB/s eta 0:00:02\n",
      "   -------------------------------------- - 23.9/25.1 MB 1.2 MB/s eta 0:00:02\n",
      "   -------------------------------------- - 24.1/25.1 MB 1.2 MB/s eta 0:00:01\n",
      "   -------------------------------------- - 24.4/25.1 MB 1.2 MB/s eta 0:00:01\n",
      "   ---------------------------------------  24.9/25.1 MB 1.2 MB/s eta 0:00:01\n",
      "   ---------------------------------------- 25.1/25.1 MB 1.2 MB/s eta 0:00:00\n",
      "Installing collected packages: pyarrow\n",
      "Successfully installed pyarrow-18.1.0\n"
     ]
    }
   ],
   "source": [
    "!pip install --upgrade pyarrow"
   ]
  },
  {
   "cell_type": "code",
   "execution_count": 5,
   "id": "c46cba51",
   "metadata": {},
   "outputs": [
    {
     "data": {
      "text/plain": [
       "(138493, 2)"
      ]
     },
     "execution_count": 5,
     "metadata": {},
     "output_type": "execute_result"
    }
   ],
   "source": [
    "all_movies = set(df[\"movieId\"])\n",
    "user_seen_movies = df.groupby(\"userId\")[\"movieId\"].agg(set).reset_index().rename(columns={\"movieId\": \"seen_movies\"})\n",
    "user_seen_movies['seen_movies'] = user_seen_movies['seen_movies'].apply(list)\n",
    "user_seen_movies.shape"
   ]
  },
  {
   "cell_type": "code",
   "execution_count": 6,
   "id": "20a0e2ba",
   "metadata": {},
   "outputs": [
    {
     "data": {
      "text/html": [
       "<div>\n",
       "<style scoped>\n",
       "    .dataframe tbody tr th:only-of-type {\n",
       "        vertical-align: middle;\n",
       "    }\n",
       "\n",
       "    .dataframe tbody tr th {\n",
       "        vertical-align: top;\n",
       "    }\n",
       "\n",
       "    .dataframe thead th {\n",
       "        text-align: right;\n",
       "    }\n",
       "</style>\n",
       "<table border=\"1\" class=\"dataframe\">\n",
       "  <thead>\n",
       "    <tr style=\"text-align: right;\">\n",
       "      <th></th>\n",
       "      <th>userId</th>\n",
       "      <th>seen_movies</th>\n",
       "    </tr>\n",
       "  </thead>\n",
       "  <tbody>\n",
       "    <tr>\n",
       "      <th>0</th>\n",
       "      <td>1</td>\n",
       "      <td>[2, 3081, 4105, 1036, 5146, 541, 29, 32, 4128,...</td>\n",
       "    </tr>\n",
       "    <tr>\n",
       "      <th>1</th>\n",
       "      <td>2</td>\n",
       "      <td>[3, 260, 2948, 2951, 1544, 1673, 266, 908, 245...</td>\n",
       "    </tr>\n",
       "    <tr>\n",
       "      <th>2</th>\n",
       "      <td>3</td>\n",
       "      <td>[512, 1, 3072, 2053, 2054, 2567, 1544, 2571, 1...</td>\n",
       "    </tr>\n",
       "    <tr>\n",
       "      <th>3</th>\n",
       "      <td>4</td>\n",
       "      <td>[6, 519, 520, 10, 19, 531, 32, 420, 165, 548, ...</td>\n",
       "    </tr>\n",
       "    <tr>\n",
       "      <th>4</th>\n",
       "      <td>5</td>\n",
       "      <td>[2, 515, 260, 1028, 648, 11, 140, 141, 780, 10...</td>\n",
       "    </tr>\n",
       "  </tbody>\n",
       "</table>\n",
       "</div>"
      ],
      "text/plain": [
       "   userId                                        seen_movies\n",
       "0       1  [2, 3081, 4105, 1036, 5146, 541, 29, 32, 4128,...\n",
       "1       2  [3, 260, 2948, 2951, 1544, 1673, 266, 908, 245...\n",
       "2       3  [512, 1, 3072, 2053, 2054, 2567, 1544, 2571, 1...\n",
       "3       4  [6, 519, 520, 10, 19, 531, 32, 420, 165, 548, ...\n",
       "4       5  [2, 515, 260, 1028, 648, 11, 140, 141, 780, 10..."
      ]
     },
     "execution_count": 6,
     "metadata": {},
     "output_type": "execute_result"
    }
   ],
   "source": [
    "user_seen_movies.head()"
   ]
  },
  {
   "cell_type": "code",
   "execution_count": null,
   "id": "c0eda8fb",
   "metadata": {},
   "outputs": [],
   "source": [
    "''''\n",
    "if not using pyspark\n",
    "\n",
    "user_seen_movies['char_vec'] = user_seen_movies['seen_movies'].apply(lambda x: char_vec(x, all_movies))\n",
    "# Convert the list of characteristic vectors into a DataFrame (matrix form)\n",
    "char_vec_matrix = np.array(user_seen_movies['char_vec'].tolist())\n",
    "\n",
    "''''"
   ]
  },
  {
   "cell_type": "code",
   "execution_count": null,
   "id": "ff971c94",
   "metadata": {},
   "outputs": [],
   "source": [
    "# Initialize Spark session\n",
    "spark = SparkSession.builder \\\n",
    "    .appName(\"MovieUserMatrix\") \\\n",
    "    .config(\"spark.executor.memory\", \"32g\") \\\n",
    "    .config(\"spark.driver.memory\", \"32g\") \\\n",
    "    .config(\"spark.sql.shuffle.partitions\", \"200\") \\\n",
    "    .config(\"spark.python.worker.timeout\", \"12000\") \\\n",
    "    .getOrCreate()"
   ]
  },
  {
   "cell_type": "code",
   "execution_count": 19,
   "id": "348c9117",
   "metadata": {},
   "outputs": [],
   "source": [
    "df_spark = spark.createDataFrame(user_seen_movies)"
   ]
  },
  {
   "cell_type": "code",
   "execution_count": 9,
   "id": "28c09a19",
   "metadata": {},
   "outputs": [],
   "source": [
    "from functions import char_vec\n",
    "all_movies_broadcast = spark.sparkContext.broadcast(all_movies)\n",
    "char_vec_spark_udf = F.udf(char_vec, ArrayType(IntegerType()))\n",
    "df_spark = df_spark.withColumn(\"char_vec\", char_vec_spark_udf(\"seen_movies\"))"
   ]
  },
  {
   "cell_type": "code",
   "execution_count": 11,
   "id": "6f3ac939",
   "metadata": {},
   "outputs": [
    {
     "name": "stdout",
     "output_type": "stream",
     "text": [
      "root\n",
      " |-- userId: long (nullable = true)\n",
      " |-- seen_movies: array (nullable = true)\n",
      " |    |-- element: long (containsNull = true)\n",
      " |-- char_vec: array (nullable = true)\n",
      " |    |-- element: integer (containsNull = true)\n",
      "\n"
     ]
    }
   ],
   "source": [
    "df_spark.printSchema()"
   ]
  },
  {
   "cell_type": "markdown",
   "id": "89eaf816",
   "metadata": {},
   "source": [
    "In order to create the signature matrix for our lists of seen movies we have implemented the following functions in the `functions.py` file:\n",
    "\n",
    "+ The function `char_vec`  defined  creates a **characteristic vector** for a user's list of seen movies. It iterates over all possible movie IDs (`all_movies`) and assigns a `1` if a movie is in the user's seen list (`seen_movies`), and `0` otherwise. The result is a binary vector indicating the presence or absence of each movie for that user. \n",
    "\n",
    "+ The `create_signature` function generates a **MinHash signature** for a given characteristic vector. This signature is a compact representation used in Locality Sensitive Hashing (LSH) to approximate Jaccard similarity efficiently. The function applies a set of **hash functions** to the indices of the vector, updating the signature values **only** for indices where the vector value is `1`. The result is a vector where each entry corresponds to the *minimum hashed index* encountered for each hash function.\n"
   ]
  },
  {
   "cell_type": "markdown",
   "id": "ea083d3b999b16c7",
   "metadata": {},
   "source": [
    "## 1.3 Locality-Sensitive Hashing (LSH)"
   ]
  },
  {
   "cell_type": "markdown",
   "id": "6818c8575859f343",
   "metadata": {},
   "source": [
    "### 1. Bucket Creation"
   ]
  },
  {
   "cell_type": "markdown",
   "id": "a0bcfd3f596551d4",
   "metadata": {},
   "source": [
    "### 2. Query"
   ]
  },
  {
   "cell_type": "markdown",
   "id": "2111810cbfd00cf7",
   "metadata": {},
   "source": [
    "### 3. Movie Recommendation Logic"
   ]
  },
  {
   "cell_type": "markdown",
   "id": "c2ddd3d7a386e23a",
   "metadata": {},
   "source": [
    "### 4. Final Recommendation"
   ]
  },
  {
   "cell_type": "markdown",
   "id": "be0ac52227608421",
   "metadata": {},
   "source": [
    "# 2. Grouping Movies Together!"
   ]
  },
  {
   "cell_type": "markdown",
   "id": "885a2800fc1b77e4",
   "metadata": {},
   "source": [
    "## 2.1 Feature Engineering"
   ]
  },
  {
   "cell_type": "markdown",
   "id": "29753873d532ef6c",
   "metadata": {},
   "source": [
    "## 2.2 Choose your features (variables)!"
   ]
  },
  {
   "cell_type": "markdown",
   "id": "ee8daff88026a9e4",
   "metadata": {},
   "source": [
    "## 2.3 Clustering"
   ]
  },
  {
   "cell_type": "markdown",
   "id": "a07f07054c88b967",
   "metadata": {},
   "source": [
    "## 2.4 Best Algorithm"
   ]
  },
  {
   "cell_type": "markdown",
   "id": "a76de8393e3bace6",
   "metadata": {},
   "source": [
    "# 3. Bonus Question"
   ]
  },
  {
   "cell_type": "markdown",
   "id": "54bfb81e7b93fe4",
   "metadata": {},
   "source": [
    "# 4. Algorithmic Question"
   ]
  },
  {
   "cell_type": "markdown",
   "id": "b081e99bdb63ef2d",
   "metadata": {},
   "source": []
  }
 ],
 "metadata": {
  "kernelspec": {
   "display_name": "Python 3",
   "language": "python",
   "name": "python3"
  },
  "language_info": {
   "codemirror_mode": {
    "name": "ipython",
    "version": 3
   },
   "file_extension": ".py",
   "mimetype": "text/x-python",
   "name": "python",
   "nbconvert_exporter": "python",
   "pygments_lexer": "ipython3",
   "version": "3.12.3"
  }
 },
 "nbformat": 4,
 "nbformat_minor": 5
}
