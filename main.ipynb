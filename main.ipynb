{
 "cells": [
  {
   "metadata": {},
   "cell_type": "markdown",
   "source": "# ADM-HW4: GROUP #10",
   "id": "318cc535867abc87"
  },
  {
   "metadata": {},
   "cell_type": "markdown",
   "source": [
    "#### Xavier Del Giudice\n",
    "\n",
    "\n",
    "| STUDENT |   ID    |                 E-mail                  |\n",
    "| :-: |:-------:|:---------------------------------------:|\n",
    "| Xavier Del Giudice | 1967219 | delgiudice.1967219@studenti.uniroma1.it |\n",
    "|  |  |                                         |\n",
    "|  |  |                       |"
   ],
   "id": "53a83af2f38e2305"
  },
  {
   "metadata": {},
   "cell_type": "markdown",
   "source": "## Import and Install required packages",
   "id": "18fb52d64c38ba6d"
  },
  {
   "metadata": {},
   "cell_type": "code",
   "outputs": [],
   "execution_count": null,
   "source": "%pip install pandas numpy",
   "id": "cfe37558eeb4eb7b"
  },
  {
   "metadata": {},
   "cell_type": "code",
   "outputs": [],
   "execution_count": null,
   "source": [
    "import pandas as pd\n",
    "import numpy as np"
   ],
   "id": "9b6df0749cc68ffc"
  },
  {
   "metadata": {},
   "cell_type": "markdown",
   "source": "# 1. Recommendation System with LSH",
   "id": "21cabfd91df02163"
  },
  {
   "metadata": {},
   "cell_type": "markdown",
   "source": "## 1.1 Data Preparation",
   "id": "ff07b6b4b33b940"
  },
  {
   "metadata": {},
   "cell_type": "markdown",
   "source": "## 1.2 Minhash Signatures",
   "id": "8cbd05f71034e193"
  },
  {
   "metadata": {},
   "cell_type": "markdown",
   "source": "## 1.3 Locality-Sensitive Hashing (LSH)",
   "id": "ea083d3b999b16c7"
  },
  {
   "metadata": {},
   "cell_type": "markdown",
   "source": "### 1. Bucket Creation",
   "id": "6818c8575859f343"
  },
  {
   "metadata": {},
   "cell_type": "markdown",
   "source": "### 2. Query",
   "id": "a0bcfd3f596551d4"
  },
  {
   "metadata": {},
   "cell_type": "markdown",
   "source": "### 3. Movie Recommendation Logic",
   "id": "2111810cbfd00cf7"
  },
  {
   "metadata": {},
   "cell_type": "markdown",
   "source": "### 4. Final Recommendation",
   "id": "c2ddd3d7a386e23a"
  },
  {
   "metadata": {},
   "cell_type": "markdown",
   "source": "# 2. Grouping Movies Together!",
   "id": "be0ac52227608421"
  },
  {
   "metadata": {},
   "cell_type": "markdown",
   "source": "## 2.1 Feature Engineering",
   "id": "885a2800fc1b77e4"
  },
  {
   "metadata": {},
   "cell_type": "markdown",
   "source": "## 2.2 Choose your features (variables)!",
   "id": "29753873d532ef6c"
  },
  {
   "metadata": {},
   "cell_type": "markdown",
   "source": "## 2.3 Clustering",
   "id": "ee8daff88026a9e4"
  },
  {
   "metadata": {},
   "cell_type": "markdown",
   "source": "## 2.4 Best Algorithm",
   "id": "a07f07054c88b967"
  },
  {
   "metadata": {},
   "cell_type": "markdown",
   "source": "# 3. Bonus Question",
   "id": "a76de8393e3bace6"
  },
  {
   "metadata": {},
   "cell_type": "markdown",
   "source": "# 4. Algorithmic Question",
   "id": "54bfb81e7b93fe4"
  },
  {
   "metadata": {},
   "cell_type": "markdown",
   "source": "",
   "id": "b081e99bdb63ef2d"
  }
 ],
 "metadata": {
  "kernelspec": {
   "display_name": "Python 3",
   "language": "python",
   "name": "python3"
  },
  "language_info": {
   "codemirror_mode": {
    "name": "ipython",
    "version": 2
   },
   "file_extension": ".py",
   "mimetype": "text/x-python",
   "name": "python",
   "nbconvert_exporter": "python",
   "pygments_lexer": "ipython2",
   "version": "2.7.6"
  }
 },
 "nbformat": 4,
 "nbformat_minor": 5
}
