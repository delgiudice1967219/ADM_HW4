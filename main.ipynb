{
 "cells": [
  {
   "cell_type": "markdown",
   "id": "318cc535867abc87",
   "metadata": {},
   "source": [
    "# ADM-HW4: GROUP #10"
   ]
  },
  {
   "cell_type": "markdown",
   "id": "53a83af2f38e2305",
   "metadata": {},
   "source": [
    "#### Xavier Del Giudice\n",
    "\n",
    "\n",
    "| STUDENT |   ID    |                 E-mail                  |\n",
    "| :-: |:-------:|:---------------------------------------:|\n",
    "| Xavier Del Giudice | 1967219 | delgiudice.1967219@studenti.uniroma1.it |\n",
    "|  Valeria Avino| 1905974 |   avino.1905974@studenti.uniroma1.it                                      |\n",
    "|  |  |                       |"
   ]
  },
  {
   "cell_type": "markdown",
   "id": "18fb52d64c38ba6d",
   "metadata": {},
   "source": [
    "## Import and Install required packages"
   ]
  },
  {
   "cell_type": "code",
   "execution_count": 2,
   "id": "cfe37558eeb4eb7b",
   "metadata": {},
   "outputs": [
    {
     "name": "stdout",
     "output_type": "stream",
     "text": [
      "Requirement already satisfied: pandas in c:\\users\\val\\appdata\\local\\programs\\python\\python312\\lib\\site-packages (2.2.3)\n",
      "Requirement already satisfied: numpy in c:\\users\\val\\appdata\\local\\programs\\python\\python312\\lib\\site-packages (1.26.4)\n",
      "Requirement already satisfied: python-dateutil>=2.8.2 in c:\\users\\val\\appdata\\roaming\\python\\python312\\site-packages (from pandas) (2.9.0.post0)\n",
      "Requirement already satisfied: pytz>=2020.1 in c:\\users\\val\\appdata\\local\\programs\\python\\python312\\lib\\site-packages (from pandas) (2024.2)\n",
      "Requirement already satisfied: tzdata>=2022.7 in c:\\users\\val\\appdata\\local\\programs\\python\\python312\\lib\\site-packages (from pandas) (2024.2)\n",
      "Requirement already satisfied: six>=1.5 in c:\\users\\val\\appdata\\roaming\\python\\python312\\site-packages (from python-dateutil>=2.8.2->pandas) (1.16.0)\n",
      "Note: you may need to restart the kernel to use updated packages.\n"
     ]
    }
   ],
   "source": [
    "%pip install pandas numpy"
   ]
  },
  {
   "cell_type": "code",
   "execution_count": 1,
   "id": "9b6df0749cc68ffc",
   "metadata": {},
   "outputs": [],
   "source": [
    "import pandas as pd\n",
    "import numpy as np\n",
    "import re\n",
    "import time"
   ]
  },
  {
   "cell_type": "markdown",
   "id": "21cabfd91df02163",
   "metadata": {},
   "source": [
    "# 1. Recommendation System with LSH"
   ]
  },
  {
   "cell_type": "markdown",
   "id": "ff07b6b4b33b940",
   "metadata": {},
   "source": [
    "## 1.1 Data Preparation"
   ]
  },
  {
   "cell_type": "markdown",
   "id": "865c4ca4",
   "metadata": {},
   "source": [
    "Reading the dataset and checking (if any) missing data."
   ]
  },
  {
   "cell_type": "code",
   "execution_count": 11,
   "id": "cbd400ea",
   "metadata": {},
   "outputs": [],
   "source": [
    "#reading from our dataset\n",
    "genome_scores = pd.read_csv('MovieLens/genome_scores.csv')\n",
    "genome_tags = pd.read_csv('MovieLens/genome_tags.csv')\n",
    "link = pd.read_csv('MovieLens/link.csv')\n",
    "movie = pd.read_csv('MovieLens/movie.csv')\n",
    "rating = pd.read_csv('MovieLens/rating.csv')\n",
    "tags = pd.read_csv('MovieLens/tag.csv')"
   ]
  },
  {
   "cell_type": "code",
   "execution_count": 12,
   "id": "beb82f88",
   "metadata": {},
   "outputs": [
    {
     "name": "stdout",
     "output_type": "stream",
     "text": [
      "<class 'pandas.core.frame.DataFrame'>\n",
      "RangeIndex: 11709768 entries, 0 to 11709767\n",
      "Data columns (total 3 columns):\n",
      " #   Column     Dtype  \n",
      "---  ------     -----  \n",
      " 0   movieId    int64  \n",
      " 1   tagId      int64  \n",
      " 2   relevance  float64\n",
      "dtypes: float64(1), int64(2)\n",
      "memory usage: 268.0 MB\n"
     ]
    }
   ],
   "source": [
    "genome_scores.info()"
   ]
  },
  {
   "cell_type": "code",
   "execution_count": 13,
   "id": "e2f2fe7f",
   "metadata": {},
   "outputs": [
    {
     "data": {
      "text/plain": [
       "Series([], dtype: int64)"
      ]
     },
     "execution_count": 13,
     "metadata": {},
     "output_type": "execute_result"
    }
   ],
   "source": [
    "#checking missing values\n",
    "missing_values = genome_scores.isnull().sum()\n",
    "missing_values[missing_values > 0]"
   ]
  },
  {
   "cell_type": "code",
   "execution_count": 14,
   "id": "23d9168c",
   "metadata": {},
   "outputs": [
    {
     "data": {
      "text/plain": [
       "0"
      ]
     },
     "execution_count": 14,
     "metadata": {},
     "output_type": "execute_result"
    }
   ],
   "source": [
    "genome_scores.duplicated().sum()"
   ]
  },
  {
   "cell_type": "markdown",
   "id": "e9cc21fa",
   "metadata": {},
   "source": [
    "scores dataset has no missing values or duplicated rows"
   ]
  },
  {
   "cell_type": "code",
   "execution_count": 15,
   "id": "f52fe25e",
   "metadata": {},
   "outputs": [
    {
     "name": "stdout",
     "output_type": "stream",
     "text": [
      "<class 'pandas.core.frame.DataFrame'>\n",
      "RangeIndex: 1128 entries, 0 to 1127\n",
      "Data columns (total 2 columns):\n",
      " #   Column  Non-Null Count  Dtype \n",
      "---  ------  --------------  ----- \n",
      " 0   tagId   1128 non-null   int64 \n",
      " 1   tag     1128 non-null   object\n",
      "dtypes: int64(1), object(1)\n",
      "memory usage: 17.8+ KB\n"
     ]
    }
   ],
   "source": [
    "genome_tags.info()"
   ]
  },
  {
   "cell_type": "code",
   "execution_count": 16,
   "id": "c79d3c82",
   "metadata": {},
   "outputs": [
    {
     "data": {
      "text/plain": [
       "Series([], dtype: int64)"
      ]
     },
     "execution_count": 16,
     "metadata": {},
     "output_type": "execute_result"
    }
   ],
   "source": [
    "missing_values = genome_tags.isnull().sum()\n",
    "missing_values[missing_values > 0]"
   ]
  },
  {
   "cell_type": "code",
   "execution_count": 17,
   "id": "b9c2f506",
   "metadata": {},
   "outputs": [
    {
     "data": {
      "text/plain": [
       "0"
      ]
     },
     "execution_count": 17,
     "metadata": {},
     "output_type": "execute_result"
    }
   ],
   "source": [
    "genome_tags.duplicated().sum()"
   ]
  },
  {
   "cell_type": "code",
   "execution_count": 18,
   "id": "9a133c80",
   "metadata": {},
   "outputs": [
    {
     "name": "stdout",
     "output_type": "stream",
     "text": [
      "<class 'pandas.core.frame.DataFrame'>\n",
      "RangeIndex: 27278 entries, 0 to 27277\n",
      "Data columns (total 3 columns):\n",
      " #   Column   Non-Null Count  Dtype  \n",
      "---  ------   --------------  -----  \n",
      " 0   movieId  27278 non-null  int64  \n",
      " 1   imdbId   27278 non-null  int64  \n",
      " 2   tmdbId   27026 non-null  float64\n",
      "dtypes: float64(1), int64(2)\n",
      "memory usage: 639.5 KB\n"
     ]
    }
   ],
   "source": [
    "link.info()"
   ]
  },
  {
   "cell_type": "code",
   "execution_count": 19,
   "id": "14adf139",
   "metadata": {},
   "outputs": [
    {
     "data": {
      "text/plain": [
       "tmdbId    252\n",
       "dtype: int64"
      ]
     },
     "execution_count": 19,
     "metadata": {},
     "output_type": "execute_result"
    }
   ],
   "source": [
    "missing_values = link.isnull().sum()\n",
    "missing_values[missing_values > 0]"
   ]
  },
  {
   "cell_type": "code",
   "execution_count": 20,
   "id": "2bf0f244",
   "metadata": {},
   "outputs": [
    {
     "data": {
      "text/plain": [
       "0"
      ]
     },
     "execution_count": 20,
     "metadata": {},
     "output_type": "execute_result"
    }
   ],
   "source": [
    "link.duplicated().sum()"
   ]
  },
  {
   "cell_type": "code",
   "execution_count": 21,
   "id": "67c3cd59",
   "metadata": {},
   "outputs": [
    {
     "name": "stdout",
     "output_type": "stream",
     "text": [
      "<class 'pandas.core.frame.DataFrame'>\n",
      "RangeIndex: 27278 entries, 0 to 27277\n",
      "Data columns (total 3 columns):\n",
      " #   Column   Non-Null Count  Dtype \n",
      "---  ------   --------------  ----- \n",
      " 0   movieId  27278 non-null  int64 \n",
      " 1   title    27278 non-null  object\n",
      " 2   genres   27278 non-null  object\n",
      "dtypes: int64(1), object(2)\n",
      "memory usage: 639.5+ KB\n"
     ]
    }
   ],
   "source": [
    "movie.info()"
   ]
  },
  {
   "cell_type": "code",
   "execution_count": 22,
   "id": "79670a09",
   "metadata": {},
   "outputs": [
    {
     "data": {
      "text/plain": [
       "0"
      ]
     },
     "execution_count": 22,
     "metadata": {},
     "output_type": "execute_result"
    }
   ],
   "source": [
    "movie.duplicated().sum()"
   ]
  },
  {
   "cell_type": "code",
   "execution_count": 23,
   "id": "67d49561",
   "metadata": {},
   "outputs": [
    {
     "data": {
      "text/plain": [
       "Series([], dtype: int64)"
      ]
     },
     "execution_count": 23,
     "metadata": {},
     "output_type": "execute_result"
    }
   ],
   "source": [
    "missing_values = movie.isnull().sum()\n",
    "missing_values[missing_values > 0]"
   ]
  },
  {
   "cell_type": "code",
   "execution_count": 24,
   "id": "5cc39b79",
   "metadata": {},
   "outputs": [
    {
     "name": "stdout",
     "output_type": "stream",
     "text": [
      "<class 'pandas.core.frame.DataFrame'>\n",
      "RangeIndex: 20000263 entries, 0 to 20000262\n",
      "Data columns (total 4 columns):\n",
      " #   Column     Dtype  \n",
      "---  ------     -----  \n",
      " 0   userId     int64  \n",
      " 1   movieId    int64  \n",
      " 2   rating     float64\n",
      " 3   timestamp  object \n",
      "dtypes: float64(1), int64(2), object(1)\n",
      "memory usage: 610.4+ MB\n"
     ]
    }
   ],
   "source": [
    "rating.info()"
   ]
  },
  {
   "cell_type": "code",
   "execution_count": 25,
   "id": "d07df497",
   "metadata": {},
   "outputs": [
    {
     "data": {
      "text/plain": [
       "Series([], dtype: int64)"
      ]
     },
     "execution_count": 25,
     "metadata": {},
     "output_type": "execute_result"
    }
   ],
   "source": [
    "missing_values = rating.isnull().sum()\n",
    "missing_values[missing_values > 0]"
   ]
  },
  {
   "cell_type": "code",
   "execution_count": 26,
   "id": "0c42457d",
   "metadata": {},
   "outputs": [
    {
     "data": {
      "text/plain": [
       "0"
      ]
     },
     "execution_count": 26,
     "metadata": {},
     "output_type": "execute_result"
    }
   ],
   "source": [
    "rating.duplicated().sum()"
   ]
  },
  {
   "cell_type": "code",
   "execution_count": 27,
   "id": "7f5b630b",
   "metadata": {},
   "outputs": [
    {
     "data": {
      "text/html": [
       "<div>\n",
       "<style scoped>\n",
       "    .dataframe tbody tr th:only-of-type {\n",
       "        vertical-align: middle;\n",
       "    }\n",
       "\n",
       "    .dataframe tbody tr th {\n",
       "        vertical-align: top;\n",
       "    }\n",
       "\n",
       "    .dataframe thead th {\n",
       "        text-align: right;\n",
       "    }\n",
       "</style>\n",
       "<table border=\"1\" class=\"dataframe\">\n",
       "  <thead>\n",
       "    <tr style=\"text-align: right;\">\n",
       "      <th></th>\n",
       "      <th>userId</th>\n",
       "      <th>movieId</th>\n",
       "      <th>rating</th>\n",
       "      <th>rating_timestamp</th>\n",
       "    </tr>\n",
       "  </thead>\n",
       "  <tbody>\n",
       "    <tr>\n",
       "      <th>0</th>\n",
       "      <td>1</td>\n",
       "      <td>2</td>\n",
       "      <td>3.5</td>\n",
       "      <td>2005-04-02 23:53:47</td>\n",
       "    </tr>\n",
       "    <tr>\n",
       "      <th>1</th>\n",
       "      <td>1</td>\n",
       "      <td>29</td>\n",
       "      <td>3.5</td>\n",
       "      <td>2005-04-02 23:31:16</td>\n",
       "    </tr>\n",
       "    <tr>\n",
       "      <th>2</th>\n",
       "      <td>1</td>\n",
       "      <td>32</td>\n",
       "      <td>3.5</td>\n",
       "      <td>2005-04-02 23:33:39</td>\n",
       "    </tr>\n",
       "    <tr>\n",
       "      <th>3</th>\n",
       "      <td>1</td>\n",
       "      <td>47</td>\n",
       "      <td>3.5</td>\n",
       "      <td>2005-04-02 23:32:07</td>\n",
       "    </tr>\n",
       "    <tr>\n",
       "      <th>4</th>\n",
       "      <td>1</td>\n",
       "      <td>50</td>\n",
       "      <td>3.5</td>\n",
       "      <td>2005-04-02 23:29:40</td>\n",
       "    </tr>\n",
       "  </tbody>\n",
       "</table>\n",
       "</div>"
      ],
      "text/plain": [
       "   userId  movieId  rating     rating_timestamp\n",
       "0       1        2     3.5  2005-04-02 23:53:47\n",
       "1       1       29     3.5  2005-04-02 23:31:16\n",
       "2       1       32     3.5  2005-04-02 23:33:39\n",
       "3       1       47     3.5  2005-04-02 23:32:07\n",
       "4       1       50     3.5  2005-04-02 23:29:40"
      ]
     },
     "execution_count": 27,
     "metadata": {},
     "output_type": "execute_result"
    }
   ],
   "source": [
    "rating = rating.rename(columns={'timestamp':'rating_timestamp'})\n",
    "rating.head()"
   ]
  },
  {
   "cell_type": "code",
   "execution_count": 28,
   "id": "d24e1ed9",
   "metadata": {},
   "outputs": [
    {
     "name": "stdout",
     "output_type": "stream",
     "text": [
      "The highest rated movie is Lord of the Rings: The Fellowship of the Ring, The (2001) \n",
      "The lowest rated movie is Nemesis 2: Nebula (1995) \n"
     ]
    }
   ],
   "source": [
    "highest_rated = rating.loc[rating['rating'].idxmax(), 'movieId']\n",
    "lowest_rated = rating.loc[rating['rating'].idxmin(), 'movieId']\n",
    "#reading titles from movie dataset\n",
    "print(f'The highest rated movie is {movie.loc[movie['movieId'] == highest_rated, 'title' ].values[0]} ')\n",
    "print(f'The lowest rated movie is {movie.loc[movie['movieId'] == lowest_rated, 'title'].values[0]} ')"
   ]
  },
  {
   "cell_type": "code",
   "execution_count": 29,
   "id": "624ffe54",
   "metadata": {},
   "outputs": [
    {
     "data": {
      "text/html": [
       "<div>\n",
       "<style scoped>\n",
       "    .dataframe tbody tr th:only-of-type {\n",
       "        vertical-align: middle;\n",
       "    }\n",
       "\n",
       "    .dataframe tbody tr th {\n",
       "        vertical-align: top;\n",
       "    }\n",
       "\n",
       "    .dataframe thead th {\n",
       "        text-align: right;\n",
       "    }\n",
       "</style>\n",
       "<table border=\"1\" class=\"dataframe\">\n",
       "  <thead>\n",
       "    <tr style=\"text-align: right;\">\n",
       "      <th></th>\n",
       "      <th>movieId</th>\n",
       "      <th>title</th>\n",
       "      <th>genres</th>\n",
       "    </tr>\n",
       "  </thead>\n",
       "  <tbody>\n",
       "    <tr>\n",
       "      <th>0</th>\n",
       "      <td>1</td>\n",
       "      <td>Toy Story (1995)</td>\n",
       "      <td>[Adventure, Animation, Children, Comedy, Fantasy]</td>\n",
       "    </tr>\n",
       "    <tr>\n",
       "      <th>1</th>\n",
       "      <td>2</td>\n",
       "      <td>Jumanji (1995)</td>\n",
       "      <td>[Adventure, Children, Fantasy]</td>\n",
       "    </tr>\n",
       "    <tr>\n",
       "      <th>2</th>\n",
       "      <td>3</td>\n",
       "      <td>Grumpier Old Men (1995)</td>\n",
       "      <td>[Comedy, Romance]</td>\n",
       "    </tr>\n",
       "    <tr>\n",
       "      <th>3</th>\n",
       "      <td>4</td>\n",
       "      <td>Waiting to Exhale (1995)</td>\n",
       "      <td>[Comedy, Drama, Romance]</td>\n",
       "    </tr>\n",
       "    <tr>\n",
       "      <th>4</th>\n",
       "      <td>5</td>\n",
       "      <td>Father of the Bride Part II (1995)</td>\n",
       "      <td>[Comedy]</td>\n",
       "    </tr>\n",
       "  </tbody>\n",
       "</table>\n",
       "</div>"
      ],
      "text/plain": [
       "   movieId                               title  \\\n",
       "0        1                    Toy Story (1995)   \n",
       "1        2                      Jumanji (1995)   \n",
       "2        3             Grumpier Old Men (1995)   \n",
       "3        4            Waiting to Exhale (1995)   \n",
       "4        5  Father of the Bride Part II (1995)   \n",
       "\n",
       "                                              genres  \n",
       "0  [Adventure, Animation, Children, Comedy, Fantasy]  \n",
       "1                     [Adventure, Children, Fantasy]  \n",
       "2                                  [Comedy, Romance]  \n",
       "3                           [Comedy, Drama, Romance]  \n",
       "4                                           [Comedy]  "
      ]
     },
     "execution_count": 29,
     "metadata": {},
     "output_type": "execute_result"
    }
   ],
   "source": [
    "# splitting genres column to do store it as a list\n",
    "movie['genres'] = movie['genres'].str.split('|')\n",
    "movie.head()"
   ]
  },
  {
   "cell_type": "code",
   "execution_count": 30,
   "id": "e7c51547",
   "metadata": {},
   "outputs": [
    {
     "name": "stdout",
     "output_type": "stream",
     "text": [
      "<class 'pandas.core.frame.DataFrame'>\n",
      "RangeIndex: 465564 entries, 0 to 465563\n",
      "Data columns (total 4 columns):\n",
      " #   Column     Non-Null Count   Dtype \n",
      "---  ------     --------------   ----- \n",
      " 0   userId     465564 non-null  int64 \n",
      " 1   movieId    465564 non-null  int64 \n",
      " 2   tag        465548 non-null  object\n",
      " 3   timestamp  465564 non-null  object\n",
      "dtypes: int64(2), object(2)\n",
      "memory usage: 14.2+ MB\n"
     ]
    }
   ],
   "source": [
    "tags.info()"
   ]
  },
  {
   "cell_type": "code",
   "execution_count": 31,
   "id": "1d7cbb8b",
   "metadata": {},
   "outputs": [
    {
     "data": {
      "text/plain": [
       "tag    16\n",
       "dtype: int64"
      ]
     },
     "execution_count": 31,
     "metadata": {},
     "output_type": "execute_result"
    }
   ],
   "source": [
    "missing_values = tags.isnull().sum()\n",
    "missing_values[missing_values > 0]\n",
    "#we could drop this rows or just keep them to check which user did not give a tag for which movies"
   ]
  },
  {
   "cell_type": "code",
   "execution_count": 32,
   "id": "48a7ae63",
   "metadata": {},
   "outputs": [
    {
     "data": {
      "text/plain": [
       "0"
      ]
     },
     "execution_count": 32,
     "metadata": {},
     "output_type": "execute_result"
    }
   ],
   "source": [
    "tags.duplicated().sum()"
   ]
  },
  {
   "cell_type": "code",
   "execution_count": 33,
   "id": "14575c51",
   "metadata": {},
   "outputs": [
    {
     "data": {
      "text/html": [
       "<div>\n",
       "<style scoped>\n",
       "    .dataframe tbody tr th:only-of-type {\n",
       "        vertical-align: middle;\n",
       "    }\n",
       "\n",
       "    .dataframe tbody tr th {\n",
       "        vertical-align: top;\n",
       "    }\n",
       "\n",
       "    .dataframe thead th {\n",
       "        text-align: right;\n",
       "    }\n",
       "</style>\n",
       "<table border=\"1\" class=\"dataframe\">\n",
       "  <thead>\n",
       "    <tr style=\"text-align: right;\">\n",
       "      <th></th>\n",
       "      <th>userId</th>\n",
       "      <th>movieId</th>\n",
       "      <th>tag</th>\n",
       "      <th>tag_timestamp</th>\n",
       "    </tr>\n",
       "  </thead>\n",
       "  <tbody>\n",
       "    <tr>\n",
       "      <th>0</th>\n",
       "      <td>18</td>\n",
       "      <td>4141</td>\n",
       "      <td>Mark Waters</td>\n",
       "      <td>2009-04-24 18:19:40</td>\n",
       "    </tr>\n",
       "    <tr>\n",
       "      <th>1</th>\n",
       "      <td>65</td>\n",
       "      <td>208</td>\n",
       "      <td>dark hero</td>\n",
       "      <td>2013-05-10 01:41:18</td>\n",
       "    </tr>\n",
       "    <tr>\n",
       "      <th>2</th>\n",
       "      <td>65</td>\n",
       "      <td>353</td>\n",
       "      <td>dark hero</td>\n",
       "      <td>2013-05-10 01:41:19</td>\n",
       "    </tr>\n",
       "    <tr>\n",
       "      <th>3</th>\n",
       "      <td>65</td>\n",
       "      <td>521</td>\n",
       "      <td>noir thriller</td>\n",
       "      <td>2013-05-10 01:39:43</td>\n",
       "    </tr>\n",
       "    <tr>\n",
       "      <th>4</th>\n",
       "      <td>65</td>\n",
       "      <td>592</td>\n",
       "      <td>dark hero</td>\n",
       "      <td>2013-05-10 01:41:18</td>\n",
       "    </tr>\n",
       "  </tbody>\n",
       "</table>\n",
       "</div>"
      ],
      "text/plain": [
       "   userId  movieId            tag        tag_timestamp\n",
       "0      18     4141    Mark Waters  2009-04-24 18:19:40\n",
       "1      65      208      dark hero  2013-05-10 01:41:18\n",
       "2      65      353      dark hero  2013-05-10 01:41:19\n",
       "3      65      521  noir thriller  2013-05-10 01:39:43\n",
       "4      65      592      dark hero  2013-05-10 01:41:18"
      ]
     },
     "execution_count": 33,
     "metadata": {},
     "output_type": "execute_result"
    }
   ],
   "source": [
    "tags = tags.rename(columns={'timestamp':'tag_timestamp'})\n",
    "tags.head()"
   ]
  },
  {
   "cell_type": "markdown",
   "id": "f5dca2c0",
   "metadata": {},
   "source": [
    "### Merging the datasets on common columns"
   ]
  },
  {
   "cell_type": "code",
   "execution_count": 34,
   "id": "e806146c",
   "metadata": {},
   "outputs": [
    {
     "data": {
      "text/html": [
       "<div>\n",
       "<style scoped>\n",
       "    .dataframe tbody tr th:only-of-type {\n",
       "        vertical-align: middle;\n",
       "    }\n",
       "\n",
       "    .dataframe tbody tr th {\n",
       "        vertical-align: top;\n",
       "    }\n",
       "\n",
       "    .dataframe thead th {\n",
       "        text-align: right;\n",
       "    }\n",
       "</style>\n",
       "<table border=\"1\" class=\"dataframe\">\n",
       "  <thead>\n",
       "    <tr style=\"text-align: right;\">\n",
       "      <th></th>\n",
       "      <th>userId</th>\n",
       "      <th>movieId</th>\n",
       "      <th>tag</th>\n",
       "      <th>tag_timestamp</th>\n",
       "      <th>tagId</th>\n",
       "    </tr>\n",
       "  </thead>\n",
       "  <tbody>\n",
       "    <tr>\n",
       "      <th>0</th>\n",
       "      <td>18</td>\n",
       "      <td>4141</td>\n",
       "      <td>Mark Waters</td>\n",
       "      <td>2009-04-24 18:19:40</td>\n",
       "      <td>NaN</td>\n",
       "    </tr>\n",
       "    <tr>\n",
       "      <th>1</th>\n",
       "      <td>65</td>\n",
       "      <td>208</td>\n",
       "      <td>dark hero</td>\n",
       "      <td>2013-05-10 01:41:18</td>\n",
       "      <td>288.0</td>\n",
       "    </tr>\n",
       "    <tr>\n",
       "      <th>2</th>\n",
       "      <td>65</td>\n",
       "      <td>353</td>\n",
       "      <td>dark hero</td>\n",
       "      <td>2013-05-10 01:41:19</td>\n",
       "      <td>288.0</td>\n",
       "    </tr>\n",
       "    <tr>\n",
       "      <th>3</th>\n",
       "      <td>65</td>\n",
       "      <td>521</td>\n",
       "      <td>noir thriller</td>\n",
       "      <td>2013-05-10 01:39:43</td>\n",
       "      <td>712.0</td>\n",
       "    </tr>\n",
       "    <tr>\n",
       "      <th>4</th>\n",
       "      <td>65</td>\n",
       "      <td>592</td>\n",
       "      <td>dark hero</td>\n",
       "      <td>2013-05-10 01:41:18</td>\n",
       "      <td>288.0</td>\n",
       "    </tr>\n",
       "  </tbody>\n",
       "</table>\n",
       "</div>"
      ],
      "text/plain": [
       "   userId  movieId            tag        tag_timestamp  tagId\n",
       "0      18     4141    Mark Waters  2009-04-24 18:19:40    NaN\n",
       "1      65      208      dark hero  2013-05-10 01:41:18  288.0\n",
       "2      65      353      dark hero  2013-05-10 01:41:19  288.0\n",
       "3      65      521  noir thriller  2013-05-10 01:39:43  712.0\n",
       "4      65      592      dark hero  2013-05-10 01:41:18  288.0"
      ]
     },
     "execution_count": 34,
     "metadata": {},
     "output_type": "execute_result"
    }
   ],
   "source": [
    "#merging tags and genom_tags on 'tag' column\n",
    "merged_tags = pd.merge(tags, genome_tags, on ='tag', how = 'left')\n",
    "merged_tags.head()"
   ]
  },
  {
   "cell_type": "code",
   "execution_count": 35,
   "id": "11a9d17c",
   "metadata": {},
   "outputs": [],
   "source": [
    "#tag ids are converted into floats because od Nan values\n",
    "#let's convert them back to nullable ints\n",
    "merged_tags['tagId'] = merged_tags['tagId'].astype('int64',errors='ignore')"
   ]
  },
  {
   "cell_type": "code",
   "execution_count": 36,
   "id": "34662384",
   "metadata": {},
   "outputs": [
    {
     "data": {
      "text/html": [
       "<div>\n",
       "<style scoped>\n",
       "    .dataframe tbody tr th:only-of-type {\n",
       "        vertical-align: middle;\n",
       "    }\n",
       "\n",
       "    .dataframe tbody tr th {\n",
       "        vertical-align: top;\n",
       "    }\n",
       "\n",
       "    .dataframe thead th {\n",
       "        text-align: right;\n",
       "    }\n",
       "</style>\n",
       "<table border=\"1\" class=\"dataframe\">\n",
       "  <thead>\n",
       "    <tr style=\"text-align: right;\">\n",
       "      <th></th>\n",
       "      <th>userId</th>\n",
       "      <th>movieId</th>\n",
       "      <th>tag</th>\n",
       "      <th>tag_timestamp</th>\n",
       "      <th>tagId</th>\n",
       "    </tr>\n",
       "  </thead>\n",
       "  <tbody>\n",
       "    <tr>\n",
       "      <th>0</th>\n",
       "      <td>18</td>\n",
       "      <td>4141</td>\n",
       "      <td>Mark Waters</td>\n",
       "      <td>2009-04-24 18:19:40</td>\n",
       "      <td>NaN</td>\n",
       "    </tr>\n",
       "    <tr>\n",
       "      <th>1</th>\n",
       "      <td>65</td>\n",
       "      <td>208</td>\n",
       "      <td>dark hero</td>\n",
       "      <td>2013-05-10 01:41:18</td>\n",
       "      <td>288.0</td>\n",
       "    </tr>\n",
       "    <tr>\n",
       "      <th>2</th>\n",
       "      <td>65</td>\n",
       "      <td>353</td>\n",
       "      <td>dark hero</td>\n",
       "      <td>2013-05-10 01:41:19</td>\n",
       "      <td>288.0</td>\n",
       "    </tr>\n",
       "    <tr>\n",
       "      <th>3</th>\n",
       "      <td>65</td>\n",
       "      <td>521</td>\n",
       "      <td>noir thriller</td>\n",
       "      <td>2013-05-10 01:39:43</td>\n",
       "      <td>712.0</td>\n",
       "    </tr>\n",
       "    <tr>\n",
       "      <th>4</th>\n",
       "      <td>65</td>\n",
       "      <td>592</td>\n",
       "      <td>dark hero</td>\n",
       "      <td>2013-05-10 01:41:18</td>\n",
       "      <td>288.0</td>\n",
       "    </tr>\n",
       "  </tbody>\n",
       "</table>\n",
       "</div>"
      ],
      "text/plain": [
       "   userId  movieId            tag        tag_timestamp  tagId\n",
       "0      18     4141    Mark Waters  2009-04-24 18:19:40    NaN\n",
       "1      65      208      dark hero  2013-05-10 01:41:18  288.0\n",
       "2      65      353      dark hero  2013-05-10 01:41:19  288.0\n",
       "3      65      521  noir thriller  2013-05-10 01:39:43  712.0\n",
       "4      65      592      dark hero  2013-05-10 01:41:18  288.0"
      ]
     },
     "execution_count": 36,
     "metadata": {},
     "output_type": "execute_result"
    }
   ],
   "source": [
    "merged_tags.head()"
   ]
  },
  {
   "cell_type": "code",
   "execution_count": 37,
   "id": "633b12ea",
   "metadata": {},
   "outputs": [],
   "source": [
    "# joining the genome_scores to add the tag relevance\n",
    "merged_tag = pd.merge(merged_tags, genome_scores, on = ['movieId', 'tagId'], how='left')"
   ]
  },
  {
   "cell_type": "code",
   "execution_count": 38,
   "id": "9222d3a0",
   "metadata": {},
   "outputs": [
    {
     "data": {
      "text/html": [
       "<div>\n",
       "<style scoped>\n",
       "    .dataframe tbody tr th:only-of-type {\n",
       "        vertical-align: middle;\n",
       "    }\n",
       "\n",
       "    .dataframe tbody tr th {\n",
       "        vertical-align: top;\n",
       "    }\n",
       "\n",
       "    .dataframe thead th {\n",
       "        text-align: right;\n",
       "    }\n",
       "</style>\n",
       "<table border=\"1\" class=\"dataframe\">\n",
       "  <thead>\n",
       "    <tr style=\"text-align: right;\">\n",
       "      <th></th>\n",
       "      <th>userId</th>\n",
       "      <th>movieId</th>\n",
       "      <th>tag</th>\n",
       "      <th>tag_timestamp</th>\n",
       "      <th>tagId</th>\n",
       "      <th>relevance</th>\n",
       "    </tr>\n",
       "  </thead>\n",
       "  <tbody>\n",
       "    <tr>\n",
       "      <th>0</th>\n",
       "      <td>18</td>\n",
       "      <td>4141</td>\n",
       "      <td>Mark Waters</td>\n",
       "      <td>2009-04-24 18:19:40</td>\n",
       "      <td>NaN</td>\n",
       "      <td>NaN</td>\n",
       "    </tr>\n",
       "    <tr>\n",
       "      <th>1</th>\n",
       "      <td>65</td>\n",
       "      <td>208</td>\n",
       "      <td>dark hero</td>\n",
       "      <td>2013-05-10 01:41:18</td>\n",
       "      <td>288.0</td>\n",
       "      <td>0.94950</td>\n",
       "    </tr>\n",
       "    <tr>\n",
       "      <th>2</th>\n",
       "      <td>65</td>\n",
       "      <td>353</td>\n",
       "      <td>dark hero</td>\n",
       "      <td>2013-05-10 01:41:19</td>\n",
       "      <td>288.0</td>\n",
       "      <td>0.99800</td>\n",
       "    </tr>\n",
       "    <tr>\n",
       "      <th>3</th>\n",
       "      <td>65</td>\n",
       "      <td>521</td>\n",
       "      <td>noir thriller</td>\n",
       "      <td>2013-05-10 01:39:43</td>\n",
       "      <td>712.0</td>\n",
       "      <td>0.98900</td>\n",
       "    </tr>\n",
       "    <tr>\n",
       "      <th>4</th>\n",
       "      <td>65</td>\n",
       "      <td>592</td>\n",
       "      <td>dark hero</td>\n",
       "      <td>2013-05-10 01:41:18</td>\n",
       "      <td>288.0</td>\n",
       "      <td>0.99775</td>\n",
       "    </tr>\n",
       "  </tbody>\n",
       "</table>\n",
       "</div>"
      ],
      "text/plain": [
       "   userId  movieId            tag        tag_timestamp  tagId  relevance\n",
       "0      18     4141    Mark Waters  2009-04-24 18:19:40    NaN        NaN\n",
       "1      65      208      dark hero  2013-05-10 01:41:18  288.0    0.94950\n",
       "2      65      353      dark hero  2013-05-10 01:41:19  288.0    0.99800\n",
       "3      65      521  noir thriller  2013-05-10 01:39:43  712.0    0.98900\n",
       "4      65      592      dark hero  2013-05-10 01:41:18  288.0    0.99775"
      ]
     },
     "execution_count": 38,
     "metadata": {},
     "output_type": "execute_result"
    }
   ],
   "source": [
    "merged_tag.head()"
   ]
  },
  {
   "cell_type": "code",
   "execution_count": 39,
   "id": "7a4d5289",
   "metadata": {},
   "outputs": [
    {
     "data": {
      "text/html": [
       "<div>\n",
       "<style scoped>\n",
       "    .dataframe tbody tr th:only-of-type {\n",
       "        vertical-align: middle;\n",
       "    }\n",
       "\n",
       "    .dataframe tbody tr th {\n",
       "        vertical-align: top;\n",
       "    }\n",
       "\n",
       "    .dataframe thead th {\n",
       "        text-align: right;\n",
       "    }\n",
       "</style>\n",
       "<table border=\"1\" class=\"dataframe\">\n",
       "  <thead>\n",
       "    <tr style=\"text-align: right;\">\n",
       "      <th></th>\n",
       "      <th>userId</th>\n",
       "      <th>movieId</th>\n",
       "      <th>rating</th>\n",
       "      <th>rating_timestamp</th>\n",
       "      <th>tag</th>\n",
       "      <th>tag_timestamp</th>\n",
       "      <th>tagId</th>\n",
       "      <th>relevance</th>\n",
       "    </tr>\n",
       "  </thead>\n",
       "  <tbody>\n",
       "    <tr>\n",
       "      <th>0</th>\n",
       "      <td>1</td>\n",
       "      <td>2</td>\n",
       "      <td>3.5</td>\n",
       "      <td>2005-04-02 23:53:47</td>\n",
       "      <td>NaN</td>\n",
       "      <td>NaN</td>\n",
       "      <td>NaN</td>\n",
       "      <td>NaN</td>\n",
       "    </tr>\n",
       "    <tr>\n",
       "      <th>1</th>\n",
       "      <td>1</td>\n",
       "      <td>29</td>\n",
       "      <td>3.5</td>\n",
       "      <td>2005-04-02 23:31:16</td>\n",
       "      <td>NaN</td>\n",
       "      <td>NaN</td>\n",
       "      <td>NaN</td>\n",
       "      <td>NaN</td>\n",
       "    </tr>\n",
       "    <tr>\n",
       "      <th>2</th>\n",
       "      <td>1</td>\n",
       "      <td>32</td>\n",
       "      <td>3.5</td>\n",
       "      <td>2005-04-02 23:33:39</td>\n",
       "      <td>NaN</td>\n",
       "      <td>NaN</td>\n",
       "      <td>NaN</td>\n",
       "      <td>NaN</td>\n",
       "    </tr>\n",
       "    <tr>\n",
       "      <th>3</th>\n",
       "      <td>1</td>\n",
       "      <td>47</td>\n",
       "      <td>3.5</td>\n",
       "      <td>2005-04-02 23:32:07</td>\n",
       "      <td>NaN</td>\n",
       "      <td>NaN</td>\n",
       "      <td>NaN</td>\n",
       "      <td>NaN</td>\n",
       "    </tr>\n",
       "    <tr>\n",
       "      <th>4</th>\n",
       "      <td>1</td>\n",
       "      <td>50</td>\n",
       "      <td>3.5</td>\n",
       "      <td>2005-04-02 23:29:40</td>\n",
       "      <td>NaN</td>\n",
       "      <td>NaN</td>\n",
       "      <td>NaN</td>\n",
       "      <td>NaN</td>\n",
       "    </tr>\n",
       "  </tbody>\n",
       "</table>\n",
       "</div>"
      ],
      "text/plain": [
       "   userId  movieId  rating     rating_timestamp  tag tag_timestamp  tagId  \\\n",
       "0       1        2     3.5  2005-04-02 23:53:47  NaN           NaN    NaN   \n",
       "1       1       29     3.5  2005-04-02 23:31:16  NaN           NaN    NaN   \n",
       "2       1       32     3.5  2005-04-02 23:33:39  NaN           NaN    NaN   \n",
       "3       1       47     3.5  2005-04-02 23:32:07  NaN           NaN    NaN   \n",
       "4       1       50     3.5  2005-04-02 23:29:40  NaN           NaN    NaN   \n",
       "\n",
       "   relevance  \n",
       "0        NaN  \n",
       "1        NaN  \n",
       "2        NaN  \n",
       "3        NaN  \n",
       "4        NaN  "
      ]
     },
     "execution_count": 39,
     "metadata": {},
     "output_type": "execute_result"
    }
   ],
   "source": [
    "df = pd.merge(rating, merged_tag, on = ['userId', 'movieId'], how = 'left')\n",
    "df.head()"
   ]
  },
  {
   "cell_type": "code",
   "execution_count": 40,
   "id": "bd146ba9",
   "metadata": {},
   "outputs": [],
   "source": [
    "df = pd.merge( df, movie, on ='movieId', how='left')"
   ]
  },
  {
   "cell_type": "code",
   "execution_count": 41,
   "id": "6a87bae8",
   "metadata": {},
   "outputs": [
    {
     "data": {
      "text/html": [
       "<div>\n",
       "<style scoped>\n",
       "    .dataframe tbody tr th:only-of-type {\n",
       "        vertical-align: middle;\n",
       "    }\n",
       "\n",
       "    .dataframe tbody tr th {\n",
       "        vertical-align: top;\n",
       "    }\n",
       "\n",
       "    .dataframe thead th {\n",
       "        text-align: right;\n",
       "    }\n",
       "</style>\n",
       "<table border=\"1\" class=\"dataframe\">\n",
       "  <thead>\n",
       "    <tr style=\"text-align: right;\">\n",
       "      <th></th>\n",
       "      <th>userId</th>\n",
       "      <th>movieId</th>\n",
       "      <th>rating</th>\n",
       "      <th>rating_timestamp</th>\n",
       "      <th>tag</th>\n",
       "      <th>tag_timestamp</th>\n",
       "      <th>tagId</th>\n",
       "      <th>relevance</th>\n",
       "      <th>title</th>\n",
       "      <th>genres</th>\n",
       "    </tr>\n",
       "  </thead>\n",
       "  <tbody>\n",
       "    <tr>\n",
       "      <th>0</th>\n",
       "      <td>1</td>\n",
       "      <td>2</td>\n",
       "      <td>3.5</td>\n",
       "      <td>2005-04-02 23:53:47</td>\n",
       "      <td>NaN</td>\n",
       "      <td>NaN</td>\n",
       "      <td>NaN</td>\n",
       "      <td>NaN</td>\n",
       "      <td>Jumanji (1995)</td>\n",
       "      <td>[Adventure, Children, Fantasy]</td>\n",
       "    </tr>\n",
       "    <tr>\n",
       "      <th>1</th>\n",
       "      <td>1</td>\n",
       "      <td>29</td>\n",
       "      <td>3.5</td>\n",
       "      <td>2005-04-02 23:31:16</td>\n",
       "      <td>NaN</td>\n",
       "      <td>NaN</td>\n",
       "      <td>NaN</td>\n",
       "      <td>NaN</td>\n",
       "      <td>City of Lost Children, The (Cité des enfants p...</td>\n",
       "      <td>[Adventure, Drama, Fantasy, Mystery, Sci-Fi]</td>\n",
       "    </tr>\n",
       "    <tr>\n",
       "      <th>2</th>\n",
       "      <td>1</td>\n",
       "      <td>32</td>\n",
       "      <td>3.5</td>\n",
       "      <td>2005-04-02 23:33:39</td>\n",
       "      <td>NaN</td>\n",
       "      <td>NaN</td>\n",
       "      <td>NaN</td>\n",
       "      <td>NaN</td>\n",
       "      <td>Twelve Monkeys (a.k.a. 12 Monkeys) (1995)</td>\n",
       "      <td>[Mystery, Sci-Fi, Thriller]</td>\n",
       "    </tr>\n",
       "    <tr>\n",
       "      <th>3</th>\n",
       "      <td>1</td>\n",
       "      <td>47</td>\n",
       "      <td>3.5</td>\n",
       "      <td>2005-04-02 23:32:07</td>\n",
       "      <td>NaN</td>\n",
       "      <td>NaN</td>\n",
       "      <td>NaN</td>\n",
       "      <td>NaN</td>\n",
       "      <td>Seven (a.k.a. Se7en) (1995)</td>\n",
       "      <td>[Mystery, Thriller]</td>\n",
       "    </tr>\n",
       "    <tr>\n",
       "      <th>4</th>\n",
       "      <td>1</td>\n",
       "      <td>50</td>\n",
       "      <td>3.5</td>\n",
       "      <td>2005-04-02 23:29:40</td>\n",
       "      <td>NaN</td>\n",
       "      <td>NaN</td>\n",
       "      <td>NaN</td>\n",
       "      <td>NaN</td>\n",
       "      <td>Usual Suspects, The (1995)</td>\n",
       "      <td>[Crime, Mystery, Thriller]</td>\n",
       "    </tr>\n",
       "  </tbody>\n",
       "</table>\n",
       "</div>"
      ],
      "text/plain": [
       "   userId  movieId  rating     rating_timestamp  tag tag_timestamp  tagId  \\\n",
       "0       1        2     3.5  2005-04-02 23:53:47  NaN           NaN    NaN   \n",
       "1       1       29     3.5  2005-04-02 23:31:16  NaN           NaN    NaN   \n",
       "2       1       32     3.5  2005-04-02 23:33:39  NaN           NaN    NaN   \n",
       "3       1       47     3.5  2005-04-02 23:32:07  NaN           NaN    NaN   \n",
       "4       1       50     3.5  2005-04-02 23:29:40  NaN           NaN    NaN   \n",
       "\n",
       "   relevance                                              title  \\\n",
       "0        NaN                                     Jumanji (1995)   \n",
       "1        NaN  City of Lost Children, The (Cité des enfants p...   \n",
       "2        NaN          Twelve Monkeys (a.k.a. 12 Monkeys) (1995)   \n",
       "3        NaN                        Seven (a.k.a. Se7en) (1995)   \n",
       "4        NaN                         Usual Suspects, The (1995)   \n",
       "\n",
       "                                         genres  \n",
       "0                [Adventure, Children, Fantasy]  \n",
       "1  [Adventure, Drama, Fantasy, Mystery, Sci-Fi]  \n",
       "2                   [Mystery, Sci-Fi, Thriller]  \n",
       "3                           [Mystery, Thriller]  \n",
       "4                    [Crime, Mystery, Thriller]  "
      ]
     },
     "execution_count": 41,
     "metadata": {},
     "output_type": "execute_result"
    }
   ],
   "source": [
    "df.head()"
   ]
  },
  {
   "cell_type": "code",
   "execution_count": 42,
   "id": "ce0724aa",
   "metadata": {},
   "outputs": [
    {
     "data": {
      "text/html": [
       "<div>\n",
       "<style scoped>\n",
       "    .dataframe tbody tr th:only-of-type {\n",
       "        vertical-align: middle;\n",
       "    }\n",
       "\n",
       "    .dataframe tbody tr th {\n",
       "        vertical-align: top;\n",
       "    }\n",
       "\n",
       "    .dataframe thead th {\n",
       "        text-align: right;\n",
       "    }\n",
       "</style>\n",
       "<table border=\"1\" class=\"dataframe\">\n",
       "  <thead>\n",
       "    <tr style=\"text-align: right;\">\n",
       "      <th></th>\n",
       "      <th>userId</th>\n",
       "      <th>movieId</th>\n",
       "      <th>rating</th>\n",
       "      <th>rating_timestamp</th>\n",
       "      <th>tag</th>\n",
       "      <th>tag_timestamp</th>\n",
       "      <th>tagId</th>\n",
       "      <th>relevance</th>\n",
       "      <th>title</th>\n",
       "      <th>genres</th>\n",
       "    </tr>\n",
       "  </thead>\n",
       "  <tbody>\n",
       "    <tr>\n",
       "      <th>0</th>\n",
       "      <td>1</td>\n",
       "      <td>2</td>\n",
       "      <td>3.5</td>\n",
       "      <td>2005-04-02 23:53:47</td>\n",
       "      <td>NaN</td>\n",
       "      <td>NaN</td>\n",
       "      <td>NaN</td>\n",
       "      <td>NaN</td>\n",
       "      <td>Jumanji (1995)</td>\n",
       "      <td>[Adventure, Children, Fantasy]</td>\n",
       "    </tr>\n",
       "    <tr>\n",
       "      <th>1</th>\n",
       "      <td>1</td>\n",
       "      <td>29</td>\n",
       "      <td>3.5</td>\n",
       "      <td>2005-04-02 23:31:16</td>\n",
       "      <td>NaN</td>\n",
       "      <td>NaN</td>\n",
       "      <td>NaN</td>\n",
       "      <td>NaN</td>\n",
       "      <td>City of Lost Children, The (Cité des enfants p...</td>\n",
       "      <td>[Adventure, Drama, Fantasy, Mystery, Sci-Fi]</td>\n",
       "    </tr>\n",
       "    <tr>\n",
       "      <th>2</th>\n",
       "      <td>1</td>\n",
       "      <td>32</td>\n",
       "      <td>3.5</td>\n",
       "      <td>2005-04-02 23:33:39</td>\n",
       "      <td>NaN</td>\n",
       "      <td>NaN</td>\n",
       "      <td>NaN</td>\n",
       "      <td>NaN</td>\n",
       "      <td>Twelve Monkeys (a.k.a. 12 Monkeys) (1995)</td>\n",
       "      <td>[Mystery, Sci-Fi, Thriller]</td>\n",
       "    </tr>\n",
       "    <tr>\n",
       "      <th>3</th>\n",
       "      <td>1</td>\n",
       "      <td>47</td>\n",
       "      <td>3.5</td>\n",
       "      <td>2005-04-02 23:32:07</td>\n",
       "      <td>NaN</td>\n",
       "      <td>NaN</td>\n",
       "      <td>NaN</td>\n",
       "      <td>NaN</td>\n",
       "      <td>Seven (a.k.a. Se7en) (1995)</td>\n",
       "      <td>[Mystery, Thriller]</td>\n",
       "    </tr>\n",
       "    <tr>\n",
       "      <th>4</th>\n",
       "      <td>1</td>\n",
       "      <td>50</td>\n",
       "      <td>3.5</td>\n",
       "      <td>2005-04-02 23:29:40</td>\n",
       "      <td>NaN</td>\n",
       "      <td>NaN</td>\n",
       "      <td>NaN</td>\n",
       "      <td>NaN</td>\n",
       "      <td>Usual Suspects, The (1995)</td>\n",
       "      <td>[Crime, Mystery, Thriller]</td>\n",
       "    </tr>\n",
       "  </tbody>\n",
       "</table>\n",
       "</div>"
      ],
      "text/plain": [
       "   userId  movieId  rating     rating_timestamp  tag tag_timestamp  tagId  \\\n",
       "0       1        2     3.5  2005-04-02 23:53:47  NaN           NaN    NaN   \n",
       "1       1       29     3.5  2005-04-02 23:31:16  NaN           NaN    NaN   \n",
       "2       1       32     3.5  2005-04-02 23:33:39  NaN           NaN    NaN   \n",
       "3       1       47     3.5  2005-04-02 23:32:07  NaN           NaN    NaN   \n",
       "4       1       50     3.5  2005-04-02 23:29:40  NaN           NaN    NaN   \n",
       "\n",
       "   relevance                                              title  \\\n",
       "0        NaN                                     Jumanji (1995)   \n",
       "1        NaN  City of Lost Children, The (Cité des enfants p...   \n",
       "2        NaN          Twelve Monkeys (a.k.a. 12 Monkeys) (1995)   \n",
       "3        NaN                        Seven (a.k.a. Se7en) (1995)   \n",
       "4        NaN                         Usual Suspects, The (1995)   \n",
       "\n",
       "                                         genres  \n",
       "0                [Adventure, Children, Fantasy]  \n",
       "1  [Adventure, Drama, Fantasy, Mystery, Sci-Fi]  \n",
       "2                   [Mystery, Sci-Fi, Thriller]  \n",
       "3                           [Mystery, Thriller]  \n",
       "4                    [Crime, Mystery, Thriller]  "
      ]
     },
     "execution_count": 42,
     "metadata": {},
     "output_type": "execute_result"
    }
   ],
   "source": [
    "df['userId'] = df['userId'].astype('int64')\n",
    "df['tagId'] = df['tagId'].astype('int64', errors= 'ignore')\n",
    "df.head()"
   ]
  },
  {
   "cell_type": "code",
   "execution_count": 43,
   "id": "3d3952a6",
   "metadata": {},
   "outputs": [
    {
     "name": "stdout",
     "output_type": "stream",
     "text": [
      "0\n"
     ]
    }
   ],
   "source": [
    "print(df.rating.isnull().sum())"
   ]
  },
  {
   "cell_type": "code",
   "execution_count": 3,
   "id": "f83b06d9",
   "metadata": {},
   "outputs": [],
   "source": [
    "df = pd.read_csv('complete_dataset.csv')"
   ]
  },
  {
   "cell_type": "code",
   "execution_count": 3,
   "id": "8d594462",
   "metadata": {},
   "outputs": [
    {
     "data": {
      "text/plain": [
       "(20265625, 10)"
      ]
     },
     "execution_count": 3,
     "metadata": {},
     "output_type": "execute_result"
    }
   ],
   "source": [
    "df.shape"
   ]
  },
  {
   "cell_type": "markdown",
   "id": "8cbd05f71034e193",
   "metadata": {},
   "source": [
    "## 1.2 Minhash Signatures\n",
    "Using the __`userId`__ and __`movieId`__ columns, implement your own **MinHash** function.\n",
    "This function will hash each user's watched movie list, creating a representation that allows for quick comparisons of user similarities."
   ]
  },
  {
   "cell_type": "markdown",
   "id": "89eaf816",
   "metadata": {},
   "source": [
    "In order to create the signature matrix for our lists of seen movies we have implemented the following functions in the `functions.py` file:\n",
    "\n",
    "+ The function `char_vec` creates a **characteristic vector** for a user's list of seen movies. It iterates over all possible movie IDs (`all_movies`) and assigns a `1` if a movie is in the user's seen list (`seen_movies`), and `0` otherwise. The result is a binary vector indicating the presence or absence of each movie for that user. \n",
    "\n",
    "+ The `minhash` function generates a **MinHash signature** for a given characteristic vector. This signature is a compact representation used in Locality Sensitive Hashing (LSH) to approximate Jaccard similarity efficiently. The function applies a set of **hash functions** to the indices of the vector, updating the signature values **only** for indices where the vector value is `1`. The result is a vector where each entry corresponds to the *minimum hashed index* encountered for each hash function.\n"
   ]
  },
  {
   "cell_type": "code",
   "execution_count": 4,
   "id": "7710eed3",
   "metadata": {},
   "outputs": [],
   "source": [
    "from functions import char_vec, create_signature"
   ]
  },
  {
   "cell_type": "code",
   "execution_count": 11,
   "id": "c46cba51",
   "metadata": {},
   "outputs": [
    {
     "name": "stdout",
     "output_type": "stream",
     "text": [
      "We  will work with 138493 classes, since that is the number of users\n"
     ]
    }
   ],
   "source": [
    "# list of all movie ids\n",
    "all_movies = df[\"movieId\"].unique()\n",
    "# selecting from df userId column and aggregating movieIds on it to create a list of user's seen movies \n",
    "user_seen_movies = df.groupby(\"userId\")[\"movieId\"].agg(set).reset_index().rename(columns={\"movieId\": \"seen_movies\"})\n",
    "print(f\"We  will work with {user_seen_movies.shape[0]} classes, since that is the number of users\")"
   ]
  },
  {
   "cell_type": "code",
   "execution_count": 6,
   "id": "20a0e2ba",
   "metadata": {},
   "outputs": [
    {
     "data": {
      "text/html": [
       "<div>\n",
       "<style scoped>\n",
       "    .dataframe tbody tr th:only-of-type {\n",
       "        vertical-align: middle;\n",
       "    }\n",
       "\n",
       "    .dataframe tbody tr th {\n",
       "        vertical-align: top;\n",
       "    }\n",
       "\n",
       "    .dataframe thead th {\n",
       "        text-align: right;\n",
       "    }\n",
       "</style>\n",
       "<table border=\"1\" class=\"dataframe\">\n",
       "  <thead>\n",
       "    <tr style=\"text-align: right;\">\n",
       "      <th></th>\n",
       "      <th>userId</th>\n",
       "      <th>seen_movies</th>\n",
       "    </tr>\n",
       "  </thead>\n",
       "  <tbody>\n",
       "    <tr>\n",
       "      <th>0</th>\n",
       "      <td>1</td>\n",
       "      <td>[2, 3081, 4105, 1036, 5146, 541, 29, 32, 4128,...</td>\n",
       "    </tr>\n",
       "    <tr>\n",
       "      <th>1</th>\n",
       "      <td>2</td>\n",
       "      <td>[3, 260, 2948, 2951, 1544, 1673, 266, 908, 245...</td>\n",
       "    </tr>\n",
       "    <tr>\n",
       "      <th>2</th>\n",
       "      <td>3</td>\n",
       "      <td>[512, 1, 3072, 2053, 2054, 2567, 1544, 2571, 1...</td>\n",
       "    </tr>\n",
       "    <tr>\n",
       "      <th>3</th>\n",
       "      <td>4</td>\n",
       "      <td>[6, 519, 520, 10, 19, 531, 32, 420, 165, 548, ...</td>\n",
       "    </tr>\n",
       "    <tr>\n",
       "      <th>4</th>\n",
       "      <td>5</td>\n",
       "      <td>[2, 515, 260, 1028, 648, 11, 140, 141, 780, 10...</td>\n",
       "    </tr>\n",
       "  </tbody>\n",
       "</table>\n",
       "</div>"
      ],
      "text/plain": [
       "   userId                                        seen_movies\n",
       "0       1  [2, 3081, 4105, 1036, 5146, 541, 29, 32, 4128,...\n",
       "1       2  [3, 260, 2948, 2951, 1544, 1673, 266, 908, 245...\n",
       "2       3  [512, 1, 3072, 2053, 2054, 2567, 1544, 2571, 1...\n",
       "3       4  [6, 519, 520, 10, 19, 531, 32, 420, 165, 548, ...\n",
       "4       5  [2, 515, 260, 1028, 648, 11, 140, 141, 780, 10..."
      ]
     },
     "execution_count": 6,
     "metadata": {},
     "output_type": "execute_result"
    }
   ],
   "source": [
    "user_seen_movies.head()"
   ]
  },
  {
   "cell_type": "code",
   "execution_count": 13,
   "id": "2475a456",
   "metadata": {},
   "outputs": [
    {
     "name": "stdout",
     "output_type": "stream",
     "text": [
      "Movie ids range from 1 to 131262: we will work with 131262 shingles, each of which is one distinct movieId.\n"
     ]
    }
   ],
   "source": [
    "#sorting movie ids in ascending order\n",
    "all_movies = sorted(all_movies)\n",
    "print(f\"Movie ids range from {all_movies[0]} to {all_movies[-1]}: we will work with {all_movies[-1]-all_movies[0]+1} shingles, each of which is one distinct movieId.\")"
   ]
  },
  {
   "cell_type": "markdown",
   "id": "2b4f8ad1",
   "metadata": {},
   "source": [
    "* Compute the **characteristic vector** for each class, applying the `char_vec` function on `seen_movies` column."
   ]
  },
  {
   "cell_type": "code",
   "execution_count": 14,
   "id": "c0eda8fb",
   "metadata": {},
   "outputs": [],
   "source": [
    "user_seen_movies['char_vec'] = user_seen_movies['seen_movies'].apply(lambda x: char_vec(x, all_movies))"
   ]
  },
  {
   "cell_type": "code",
   "execution_count": 15,
   "id": "569c3710",
   "metadata": {},
   "outputs": [
    {
     "name": "stdout",
     "output_type": "stream",
     "text": [
      "[[0 1 0 ... 0 0 0]]\n"
     ]
    }
   ],
   "source": [
    "print(user_seen_movies.iloc[0]['char_vec'].toarray())"
   ]
  },
  {
   "cell_type": "code",
   "execution_count": null,
   "id": "0567f888",
   "metadata": {},
   "outputs": [
    {
     "name": "stdout",
     "output_type": "stream",
     "text": [
      "[   2   29   32   47   50  111  150  221  251  258  291  294  316  334\n",
      "  364  538  584  588  646  903  908  991 1018 1058 1059 1068 1069 1076\n",
      " 1114 1170 1172 1174 1176 1177 1183 1189 1190 1192 1194 1197 1213 1216\n",
      " 1219 1222 1231 1232 1234 1235 1239 1251 1264 1276 1293 1305 1319 1321\n",
      " 1329 1340 1344 1357 1479 1533 1687 1766 1837 1884 1911 1914 1938 2017\n",
      " 2035 2055 2057 2060 2090 2091 2110 2111 2169 2204 2207 2458 2544 2560\n",
      " 2563 2579 2598 2607 2631 2676 2677 2719 2787 2833 2859 2862 2874 2883\n",
      " 2915 2944 2951 2995 3067 3179 3350 3388 3391 3400 3410 3797 3840 3903\n",
      " 3904 3918 3934 4012 4035 4040 4133 4212 4352 4373 4477 4626 4659 4783\n",
      " 4801 4816 4820 4846 4885 4898 4931 4944 4945 5051 5076 5444 5581 5699\n",
      " 5718 5800 5854 5901 5995 6144 6235 6393 6430 6645 6646 6665 6698 6725\n",
      " 6779 6890 6934 6935 7042 7053 7136 7276 7278 7313 7324 7329 7345 7456\n",
      " 7770 7840 7861 7954 8008 8279 9754]\n",
      "[2, 29, 32, 47, 50, 112, 151, 223, 253, 260, 293, 296, 318, 337, 367, 541, 589, 593, 653, 919, 924, 1009, 1036, 1079, 1080, 1089, 1090, 1097, 1136, 1193, 1196, 1198, 1200, 1201, 1208, 1214, 1215, 1217, 1219, 1222, 1240, 1243, 1246, 1249, 1258, 1259, 1261, 1262, 1266, 1278, 1291, 1304, 1321, 1333, 1348, 1350, 1358, 1370, 1374, 1387, 1525, 1584, 1750, 1848, 1920, 1967, 1994, 1997, 2021, 2100, 2118, 2138, 2140, 2143, 2173, 2174, 2193, 2194, 2253, 2288, 2291, 2542, 2628, 2644, 2648, 2664, 2683, 2692, 2716, 2761, 2762, 2804, 2872, 2918, 2944, 2947, 2959, 2968, 3000, 3030, 3037, 3081, 3153, 3265, 3438, 3476, 3479, 3489, 3499, 3889, 3932, 3996, 3997, 4011, 4027, 4105, 4128, 4133, 4226, 4306, 4446, 4467, 4571, 4720, 4754, 4878, 4896, 4911, 4915, 4941, 4980, 4993, 5026, 5039, 5040, 5146, 5171, 5540, 5679, 5797, 5816, 5898, 5952, 5999, 6093, 6242, 6333, 6502, 6539, 6754, 6755, 6774, 6807, 6834, 6888, 7001, 7045, 7046, 7153, 7164, 7247, 7387, 7389, 7438, 7449, 7454, 7482, 7757, 8368, 8482, 8507, 8636, 8690, 8961, 31696]\n"
     ]
    }
   ],
   "source": [
    "#just a check to remove\n",
    "non_zero_indices = user_seen_movies.iloc[0]['char_vec'].indices\n",
    "print(non_zero_indices+1)\n",
    "print(sorted(user_seen_movies.iloc[0]['seen_movies']))"
   ]
  },
  {
   "cell_type": "markdown",
   "id": "f4c66d02",
   "metadata": {},
   "source": [
    "* Define multiple independent **hash functions** to permute shingles:\n",
    "    In function `minhash` from `functions.py` we implement them as\n",
    "    $$ h(x) = a_ix+b_i \\text{ mod p } $$\n",
    "    where $a$ and $b$ are random integers such that $a>0$ and $p$ is a prime larger then our number of shingles.\n"
   ]
  },
  {
   "cell_type": "code",
   "execution_count": null,
   "id": "4a8da107",
   "metadata": {},
   "outputs": [],
   "source": [
    "import random\n",
    "\n",
    "num_shingles = len(all_movies)\n",
    "num_hash_functions = 3 #to be changed to compare results\n",
    "\n",
    "# A large prime number greater than num_shingles\n",
    "prime = 131273\n",
    "\n",
    "# Generate random coefficients\n",
    "random.seed(42)  # For reproducibility\n",
    "a = np.random.randint(1, prime, size=num_hash_functions, dtype=np.int64)\n",
    "b = np.random.randint(0, prime, size=num_hash_functions, dtype=np.int64)\n"
   ]
  },
  {
   "cell_type": "markdown",
   "id": "5791638a",
   "metadata": {},
   "source": [
    "* Now apply to each characteristic vector the `minhash` function to generate the associated **MinHash signature vector**."
   ]
  },
  {
   "cell_type": "code",
   "execution_count": null,
   "id": "6e35778f",
   "metadata": {},
   "outputs": [],
   "source": [
    "from function import minhash\n",
    "user_seen_movies['minhash'] = user_seen_movies['char_vec'].apply(\n",
    "    lambda x: minhash(x, num_hash_functions, a, b, prime)\n",
    ")"
   ]
  },
  {
   "cell_type": "code",
   "execution_count": null,
   "id": "ff971c94",
   "metadata": {},
   "outputs": [],
   "source": [
    "'''\n",
    "# Initialize Spark session\n",
    "spark = SparkSession.builder \\\n",
    "    .appName(\"MovieUserMatrix\") \\\n",
    "    .config(\"spark.executor.memory\", \"32g\") \\\n",
    "    .config(\"spark.driver.memory\", \"32g\") \\\n",
    "    .config(\"spark.sql.shuffle.partitions\", \"200\") \\\n",
    "    .config(\"spark.python.worker.timeout\", \"12000\") \\\n",
    "    .getOrCreate()\n",
    "\n",
    "df_spark = spark.createDataFrame(user_seen_movies)\n",
    "\n",
    "from functions import char_vec\n",
    "all_movies_broadcast = spark.sparkContext.broadcast(all_movies)\n",
    "char_vec_spark_udf = F.udf(char_vec, ArrayType(IntegerType()))\n",
    "df_spark = df_spark.withColumn(\"char_vec\", char_vec_spark_udf(\"seen_movies\"))\n",
    "'''"
   ]
  },
  {
   "cell_type": "code",
   "execution_count": 11,
   "id": "6f3ac939",
   "metadata": {},
   "outputs": [
    {
     "name": "stdout",
     "output_type": "stream",
     "text": [
      "root\n",
      " |-- userId: long (nullable = true)\n",
      " |-- seen_movies: array (nullable = true)\n",
      " |    |-- element: long (containsNull = true)\n",
      " |-- char_vec: array (nullable = true)\n",
      " |    |-- element: integer (containsNull = true)\n",
      "\n"
     ]
    }
   ],
   "source": [
    "df_spark.printSchema()"
   ]
  },
  {
   "cell_type": "markdown",
   "id": "ea083d3b999b16c7",
   "metadata": {},
   "source": [
    "## 1.3 Locality-Sensitive Hashing (LSH)"
   ]
  },
  {
   "cell_type": "markdown",
   "id": "6818c8575859f343",
   "metadata": {},
   "source": [
    "### 1. Bucket Creation"
   ]
  },
  {
   "cell_type": "markdown",
   "id": "a0bcfd3f596551d4",
   "metadata": {},
   "source": [
    "### 2. Query"
   ]
  },
  {
   "cell_type": "markdown",
   "id": "2111810cbfd00cf7",
   "metadata": {},
   "source": [
    "### 3. Movie Recommendation Logic"
   ]
  },
  {
   "cell_type": "markdown",
   "id": "c2ddd3d7a386e23a",
   "metadata": {},
   "source": [
    "### 4. Final Recommendation"
   ]
  },
  {
   "cell_type": "markdown",
   "id": "be0ac52227608421",
   "metadata": {},
   "source": [
    "# 2. Grouping Movies Together!"
   ]
  },
  {
   "cell_type": "markdown",
   "id": "885a2800fc1b77e4",
   "metadata": {},
   "source": [
    "## 2.1 Feature Engineering"
   ]
  },
  {
   "cell_type": "markdown",
   "id": "29753873d532ef6c",
   "metadata": {},
   "source": [
    "## 2.2 Choose your features (variables)!"
   ]
  },
  {
   "cell_type": "markdown",
   "id": "ee8daff88026a9e4",
   "metadata": {},
   "source": [
    "## 2.3 Clustering"
   ]
  },
  {
   "cell_type": "markdown",
   "id": "a07f07054c88b967",
   "metadata": {},
   "source": [
    "## 2.4 Best Algorithm"
   ]
  },
  {
   "cell_type": "markdown",
   "id": "a76de8393e3bace6",
   "metadata": {},
   "source": [
    "# 3. Bonus Question"
   ]
  },
  {
   "cell_type": "markdown",
   "id": "54bfb81e7b93fe4",
   "metadata": {},
   "source": [
    "# 4. Algorithmic Question"
   ]
  },
  {
   "cell_type": "markdown",
   "id": "b081e99bdb63ef2d",
   "metadata": {},
   "source": []
  }
 ],
 "metadata": {
  "kernelspec": {
   "display_name": "Python 3",
   "language": "python",
   "name": "python3"
  },
  "language_info": {
   "codemirror_mode": {
    "name": "ipython",
    "version": 3
   },
   "file_extension": ".py",
   "mimetype": "text/x-python",
   "name": "python",
   "nbconvert_exporter": "python",
   "pygments_lexer": "ipython3",
   "version": "3.12.3"
  }
 },
 "nbformat": 4,
 "nbformat_minor": 5
}
