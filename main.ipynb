{
 "cells": [
  {
   "cell_type": "markdown",
   "id": "318cc535867abc87",
   "metadata": {},
   "source": [
    "# ADM-HW4: GROUP #10"
   ]
  },
  {
   "cell_type": "markdown",
   "id": "53a83af2f38e2305",
   "metadata": {},
   "source": [
    "#### Xavier Del Giudice\n",
    "\n",
    "\n",
    "| STUDENT |   ID    |                 E-mail                  |\n",
    "| :-: |:-------:|:---------------------------------------:|\n",
    "| Xavier Del Giudice | 1967219 | delgiudice.1967219@studenti.uniroma1.it |\n",
    "|  Valeria Avino| 1905974 |   avino.1905974@studenti.uniroma1.it                                      |\n",
    "|  |  |                       |"
   ]
  },
  {
   "cell_type": "markdown",
   "id": "18fb52d64c38ba6d",
   "metadata": {},
   "source": [
    "## Import and Install required packages"
   ]
  },
  {
   "cell_type": "code",
   "execution_count": 2,
   "id": "cfe37558eeb4eb7b",
   "metadata": {},
   "outputs": [
    {
     "name": "stdout",
     "output_type": "stream",
     "text": [
      "Requirement already satisfied: pandas in c:\\users\\val\\appdata\\local\\programs\\python\\python312\\lib\\site-packages (2.2.3)\n",
      "Requirement already satisfied: numpy in c:\\users\\val\\appdata\\local\\programs\\python\\python312\\lib\\site-packages (1.26.4)\n",
      "Requirement already satisfied: python-dateutil>=2.8.2 in c:\\users\\val\\appdata\\roaming\\python\\python312\\site-packages (from pandas) (2.9.0.post0)\n",
      "Requirement already satisfied: pytz>=2020.1 in c:\\users\\val\\appdata\\local\\programs\\python\\python312\\lib\\site-packages (from pandas) (2024.2)\n",
      "Requirement already satisfied: tzdata>=2022.7 in c:\\users\\val\\appdata\\local\\programs\\python\\python312\\lib\\site-packages (from pandas) (2024.2)\n",
      "Requirement already satisfied: six>=1.5 in c:\\users\\val\\appdata\\roaming\\python\\python312\\site-packages (from python-dateutil>=2.8.2->pandas) (1.16.0)\n",
      "Note: you may need to restart the kernel to use updated packages.\n"
     ]
    }
   ],
   "source": [
    "%pip install pandas numpy"
   ]
  },
  {
   "cell_type": "code",
   "execution_count": 1,
   "id": "9b6df0749cc68ffc",
   "metadata": {},
   "outputs": [],
   "source": [
    "import pandas as pd\n",
    "import numpy as np\n",
    "import re\n",
    "import time"
   ]
  },
  {
   "cell_type": "markdown",
   "id": "21cabfd91df02163",
   "metadata": {},
   "source": [
    "# 1. Recommendation System with LSH"
   ]
  },
  {
   "cell_type": "markdown",
   "id": "ff07b6b4b33b940",
   "metadata": {},
   "source": [
    "## 1.1 Data Preparation"
   ]
  },
  {
   "cell_type": "markdown",
   "id": "865c4ca4",
   "metadata": {},
   "source": [
    "Reading the dataset and checking (if any) missing data."
   ]
  },
  {
   "cell_type": "code",
   "execution_count": 172,
   "id": "cbd400ea",
   "metadata": {},
   "outputs": [],
   "source": [
    "#reading from our dataset\n",
    "genome_scores = pd.read_csv('MovieLens/genome_scores.csv')\n",
    "genome_tags = pd.read_csv('MovieLens/genome_tags.csv')\n",
    "link = pd.read_csv('MovieLens/link.csv')\n",
    "movie = pd.read_csv('MovieLens/movie.csv')\n",
    "rating = pd.read_csv('MovieLens/rating.csv')\n",
    "tags = pd.read_csv('MovieLens/tag.csv')"
   ]
  },
  {
   "cell_type": "code",
   "execution_count": 12,
   "id": "beb82f88",
   "metadata": {},
   "outputs": [
    {
     "name": "stdout",
     "output_type": "stream",
     "text": [
      "<class 'pandas.core.frame.DataFrame'>\n",
      "RangeIndex: 11709768 entries, 0 to 11709767\n",
      "Data columns (total 3 columns):\n",
      " #   Column     Dtype  \n",
      "---  ------     -----  \n",
      " 0   movieId    int64  \n",
      " 1   tagId      int64  \n",
      " 2   relevance  float64\n",
      "dtypes: float64(1), int64(2)\n",
      "memory usage: 268.0 MB\n"
     ]
    }
   ],
   "source": [
    "genome_scores.info()"
   ]
  },
  {
   "cell_type": "code",
   "execution_count": 13,
   "id": "e2f2fe7f",
   "metadata": {},
   "outputs": [
    {
     "data": {
      "text/plain": [
       "Series([], dtype: int64)"
      ]
     },
     "execution_count": 13,
     "metadata": {},
     "output_type": "execute_result"
    }
   ],
   "source": [
    "#checking missing values\n",
    "missing_values = genome_scores.isnull().sum()\n",
    "missing_values[missing_values > 0]"
   ]
  },
  {
   "cell_type": "code",
   "execution_count": 14,
   "id": "23d9168c",
   "metadata": {},
   "outputs": [
    {
     "data": {
      "text/plain": [
       "0"
      ]
     },
     "execution_count": 14,
     "metadata": {},
     "output_type": "execute_result"
    }
   ],
   "source": [
    "genome_scores.duplicated().sum()"
   ]
  },
  {
   "cell_type": "markdown",
   "id": "e9cc21fa",
   "metadata": {},
   "source": [
    "scores dataset has no missing values or duplicated rows"
   ]
  },
  {
   "cell_type": "code",
   "execution_count": 15,
   "id": "f52fe25e",
   "metadata": {},
   "outputs": [
    {
     "name": "stdout",
     "output_type": "stream",
     "text": [
      "<class 'pandas.core.frame.DataFrame'>\n",
      "RangeIndex: 1128 entries, 0 to 1127\n",
      "Data columns (total 2 columns):\n",
      " #   Column  Non-Null Count  Dtype \n",
      "---  ------  --------------  ----- \n",
      " 0   tagId   1128 non-null   int64 \n",
      " 1   tag     1128 non-null   object\n",
      "dtypes: int64(1), object(1)\n",
      "memory usage: 17.8+ KB\n"
     ]
    }
   ],
   "source": [
    "genome_tags.info()"
   ]
  },
  {
   "cell_type": "code",
   "execution_count": 16,
   "id": "c79d3c82",
   "metadata": {},
   "outputs": [
    {
     "data": {
      "text/plain": [
       "Series([], dtype: int64)"
      ]
     },
     "execution_count": 16,
     "metadata": {},
     "output_type": "execute_result"
    }
   ],
   "source": [
    "missing_values = genome_tags.isnull().sum()\n",
    "missing_values[missing_values > 0]"
   ]
  },
  {
   "cell_type": "code",
   "execution_count": 17,
   "id": "b9c2f506",
   "metadata": {},
   "outputs": [
    {
     "data": {
      "text/plain": [
       "0"
      ]
     },
     "execution_count": 17,
     "metadata": {},
     "output_type": "execute_result"
    }
   ],
   "source": [
    "genome_tags.duplicated().sum()"
   ]
  },
  {
   "cell_type": "code",
   "execution_count": 18,
   "id": "9a133c80",
   "metadata": {},
   "outputs": [
    {
     "name": "stdout",
     "output_type": "stream",
     "text": [
      "<class 'pandas.core.frame.DataFrame'>\n",
      "RangeIndex: 27278 entries, 0 to 27277\n",
      "Data columns (total 3 columns):\n",
      " #   Column   Non-Null Count  Dtype  \n",
      "---  ------   --------------  -----  \n",
      " 0   movieId  27278 non-null  int64  \n",
      " 1   imdbId   27278 non-null  int64  \n",
      " 2   tmdbId   27026 non-null  float64\n",
      "dtypes: float64(1), int64(2)\n",
      "memory usage: 639.5 KB\n"
     ]
    }
   ],
   "source": [
    "link.info()"
   ]
  },
  {
   "cell_type": "code",
   "execution_count": 19,
   "id": "14adf139",
   "metadata": {},
   "outputs": [
    {
     "data": {
      "text/plain": [
       "tmdbId    252\n",
       "dtype: int64"
      ]
     },
     "execution_count": 19,
     "metadata": {},
     "output_type": "execute_result"
    }
   ],
   "source": [
    "missing_values = link.isnull().sum()\n",
    "missing_values[missing_values > 0]"
   ]
  },
  {
   "cell_type": "code",
   "execution_count": 20,
   "id": "2bf0f244",
   "metadata": {},
   "outputs": [
    {
     "data": {
      "text/plain": [
       "0"
      ]
     },
     "execution_count": 20,
     "metadata": {},
     "output_type": "execute_result"
    }
   ],
   "source": [
    "link.duplicated().sum()"
   ]
  },
  {
   "cell_type": "code",
   "execution_count": 21,
   "id": "67c3cd59",
   "metadata": {},
   "outputs": [
    {
     "name": "stdout",
     "output_type": "stream",
     "text": [
      "<class 'pandas.core.frame.DataFrame'>\n",
      "RangeIndex: 27278 entries, 0 to 27277\n",
      "Data columns (total 3 columns):\n",
      " #   Column   Non-Null Count  Dtype \n",
      "---  ------   --------------  ----- \n",
      " 0   movieId  27278 non-null  int64 \n",
      " 1   title    27278 non-null  object\n",
      " 2   genres   27278 non-null  object\n",
      "dtypes: int64(1), object(2)\n",
      "memory usage: 639.5+ KB\n"
     ]
    }
   ],
   "source": [
    "movie.info()"
   ]
  },
  {
   "cell_type": "code",
   "execution_count": 22,
   "id": "79670a09",
   "metadata": {},
   "outputs": [
    {
     "data": {
      "text/plain": [
       "0"
      ]
     },
     "execution_count": 22,
     "metadata": {},
     "output_type": "execute_result"
    }
   ],
   "source": [
    "movie.duplicated().sum()"
   ]
  },
  {
   "cell_type": "code",
   "execution_count": 23,
   "id": "67d49561",
   "metadata": {},
   "outputs": [
    {
     "data": {
      "text/plain": [
       "Series([], dtype: int64)"
      ]
     },
     "execution_count": 23,
     "metadata": {},
     "output_type": "execute_result"
    }
   ],
   "source": [
    "missing_values = movie.isnull().sum()\n",
    "missing_values[missing_values > 0]"
   ]
  },
  {
   "cell_type": "code",
   "execution_count": 24,
   "id": "5cc39b79",
   "metadata": {},
   "outputs": [
    {
     "name": "stdout",
     "output_type": "stream",
     "text": [
      "<class 'pandas.core.frame.DataFrame'>\n",
      "RangeIndex: 20000263 entries, 0 to 20000262\n",
      "Data columns (total 4 columns):\n",
      " #   Column     Dtype  \n",
      "---  ------     -----  \n",
      " 0   userId     int64  \n",
      " 1   movieId    int64  \n",
      " 2   rating     float64\n",
      " 3   timestamp  object \n",
      "dtypes: float64(1), int64(2), object(1)\n",
      "memory usage: 610.4+ MB\n"
     ]
    }
   ],
   "source": [
    "rating.info()"
   ]
  },
  {
   "cell_type": "code",
   "execution_count": 25,
   "id": "d07df497",
   "metadata": {},
   "outputs": [
    {
     "data": {
      "text/plain": [
       "Series([], dtype: int64)"
      ]
     },
     "execution_count": 25,
     "metadata": {},
     "output_type": "execute_result"
    }
   ],
   "source": [
    "missing_values = rating.isnull().sum()\n",
    "missing_values[missing_values > 0]"
   ]
  },
  {
   "cell_type": "code",
   "execution_count": 26,
   "id": "0c42457d",
   "metadata": {},
   "outputs": [
    {
     "data": {
      "text/plain": [
       "0"
      ]
     },
     "execution_count": 26,
     "metadata": {},
     "output_type": "execute_result"
    }
   ],
   "source": [
    "rating.duplicated().sum()"
   ]
  },
  {
   "cell_type": "code",
   "execution_count": 173,
   "id": "7f5b630b",
   "metadata": {},
   "outputs": [],
   "source": [
    "rating = rating.rename(columns={'timestamp':'rating_timestamp'})"
   ]
  },
  {
   "cell_type": "code",
   "execution_count": 28,
   "id": "d24e1ed9",
   "metadata": {},
   "outputs": [
    {
     "name": "stdout",
     "output_type": "stream",
     "text": [
      "The highest rated movie is Lord of the Rings: The Fellowship of the Ring, The (2001) \n",
      "The lowest rated movie is Nemesis 2: Nebula (1995) \n"
     ]
    }
   ],
   "source": [
    "highest_rated = rating.loc[rating['rating'].idxmax(), 'movieId']\n",
    "lowest_rated = rating.loc[rating['rating'].idxmin(), 'movieId']\n",
    "#reading titles from movie dataset\n",
    "print(f'The highest rated movie is {movie.loc[movie['movieId'] == highest_rated, 'title' ].values[0]} ')\n",
    "print(f'The lowest rated movie is {movie.loc[movie['movieId'] == lowest_rated, 'title'].values[0]} ')"
   ]
  },
  {
   "cell_type": "code",
   "execution_count": 29,
   "id": "624ffe54",
   "metadata": {},
   "outputs": [
    {
     "data": {
      "text/html": [
       "<div>\n",
       "<style scoped>\n",
       "    .dataframe tbody tr th:only-of-type {\n",
       "        vertical-align: middle;\n",
       "    }\n",
       "\n",
       "    .dataframe tbody tr th {\n",
       "        vertical-align: top;\n",
       "    }\n",
       "\n",
       "    .dataframe thead th {\n",
       "        text-align: right;\n",
       "    }\n",
       "</style>\n",
       "<table border=\"1\" class=\"dataframe\">\n",
       "  <thead>\n",
       "    <tr style=\"text-align: right;\">\n",
       "      <th></th>\n",
       "      <th>movieId</th>\n",
       "      <th>title</th>\n",
       "      <th>genres</th>\n",
       "    </tr>\n",
       "  </thead>\n",
       "  <tbody>\n",
       "    <tr>\n",
       "      <th>0</th>\n",
       "      <td>1</td>\n",
       "      <td>Toy Story (1995)</td>\n",
       "      <td>[Adventure, Animation, Children, Comedy, Fantasy]</td>\n",
       "    </tr>\n",
       "    <tr>\n",
       "      <th>1</th>\n",
       "      <td>2</td>\n",
       "      <td>Jumanji (1995)</td>\n",
       "      <td>[Adventure, Children, Fantasy]</td>\n",
       "    </tr>\n",
       "    <tr>\n",
       "      <th>2</th>\n",
       "      <td>3</td>\n",
       "      <td>Grumpier Old Men (1995)</td>\n",
       "      <td>[Comedy, Romance]</td>\n",
       "    </tr>\n",
       "    <tr>\n",
       "      <th>3</th>\n",
       "      <td>4</td>\n",
       "      <td>Waiting to Exhale (1995)</td>\n",
       "      <td>[Comedy, Drama, Romance]</td>\n",
       "    </tr>\n",
       "    <tr>\n",
       "      <th>4</th>\n",
       "      <td>5</td>\n",
       "      <td>Father of the Bride Part II (1995)</td>\n",
       "      <td>[Comedy]</td>\n",
       "    </tr>\n",
       "  </tbody>\n",
       "</table>\n",
       "</div>"
      ],
      "text/plain": [
       "   movieId                               title  \\\n",
       "0        1                    Toy Story (1995)   \n",
       "1        2                      Jumanji (1995)   \n",
       "2        3             Grumpier Old Men (1995)   \n",
       "3        4            Waiting to Exhale (1995)   \n",
       "4        5  Father of the Bride Part II (1995)   \n",
       "\n",
       "                                              genres  \n",
       "0  [Adventure, Animation, Children, Comedy, Fantasy]  \n",
       "1                     [Adventure, Children, Fantasy]  \n",
       "2                                  [Comedy, Romance]  \n",
       "3                           [Comedy, Drama, Romance]  \n",
       "4                                           [Comedy]  "
      ]
     },
     "execution_count": 29,
     "metadata": {},
     "output_type": "execute_result"
    }
   ],
   "source": [
    "# splitting genres column to do store it as a list\n",
    "movie['genres'] = movie['genres'].str.split('|')\n",
    "movie.head()"
   ]
  },
  {
   "cell_type": "code",
   "execution_count": 30,
   "id": "e7c51547",
   "metadata": {},
   "outputs": [
    {
     "name": "stdout",
     "output_type": "stream",
     "text": [
      "<class 'pandas.core.frame.DataFrame'>\n",
      "RangeIndex: 465564 entries, 0 to 465563\n",
      "Data columns (total 4 columns):\n",
      " #   Column     Non-Null Count   Dtype \n",
      "---  ------     --------------   ----- \n",
      " 0   userId     465564 non-null  int64 \n",
      " 1   movieId    465564 non-null  int64 \n",
      " 2   tag        465548 non-null  object\n",
      " 3   timestamp  465564 non-null  object\n",
      "dtypes: int64(2), object(2)\n",
      "memory usage: 14.2+ MB\n"
     ]
    }
   ],
   "source": [
    "tags.info()"
   ]
  },
  {
   "cell_type": "code",
   "execution_count": 31,
   "id": "1d7cbb8b",
   "metadata": {},
   "outputs": [
    {
     "data": {
      "text/plain": [
       "tag    16\n",
       "dtype: int64"
      ]
     },
     "execution_count": 31,
     "metadata": {},
     "output_type": "execute_result"
    }
   ],
   "source": [
    "missing_values = tags.isnull().sum()\n",
    "missing_values[missing_values > 0]\n",
    "#we could drop this rows or just keep them to check which user did not give a tag for which movies"
   ]
  },
  {
   "cell_type": "code",
   "execution_count": 32,
   "id": "48a7ae63",
   "metadata": {},
   "outputs": [
    {
     "data": {
      "text/plain": [
       "0"
      ]
     },
     "execution_count": 32,
     "metadata": {},
     "output_type": "execute_result"
    }
   ],
   "source": [
    "tags.duplicated().sum()"
   ]
  },
  {
   "cell_type": "code",
   "execution_count": 174,
   "id": "14575c51",
   "metadata": {},
   "outputs": [],
   "source": [
    "tags = tags.rename(columns={'timestamp':'tag_timestamp'})"
   ]
  },
  {
   "cell_type": "markdown",
   "id": "f5dca2c0",
   "metadata": {},
   "source": [
    "### Merging the datasets on common columns"
   ]
  },
  {
   "cell_type": "code",
   "execution_count": 34,
   "id": "e806146c",
   "metadata": {},
   "outputs": [
    {
     "data": {
      "text/html": [
       "<div>\n",
       "<style scoped>\n",
       "    .dataframe tbody tr th:only-of-type {\n",
       "        vertical-align: middle;\n",
       "    }\n",
       "\n",
       "    .dataframe tbody tr th {\n",
       "        vertical-align: top;\n",
       "    }\n",
       "\n",
       "    .dataframe thead th {\n",
       "        text-align: right;\n",
       "    }\n",
       "</style>\n",
       "<table border=\"1\" class=\"dataframe\">\n",
       "  <thead>\n",
       "    <tr style=\"text-align: right;\">\n",
       "      <th></th>\n",
       "      <th>userId</th>\n",
       "      <th>movieId</th>\n",
       "      <th>tag</th>\n",
       "      <th>tag_timestamp</th>\n",
       "      <th>tagId</th>\n",
       "    </tr>\n",
       "  </thead>\n",
       "  <tbody>\n",
       "    <tr>\n",
       "      <th>0</th>\n",
       "      <td>18</td>\n",
       "      <td>4141</td>\n",
       "      <td>Mark Waters</td>\n",
       "      <td>2009-04-24 18:19:40</td>\n",
       "      <td>NaN</td>\n",
       "    </tr>\n",
       "    <tr>\n",
       "      <th>1</th>\n",
       "      <td>65</td>\n",
       "      <td>208</td>\n",
       "      <td>dark hero</td>\n",
       "      <td>2013-05-10 01:41:18</td>\n",
       "      <td>288.0</td>\n",
       "    </tr>\n",
       "    <tr>\n",
       "      <th>2</th>\n",
       "      <td>65</td>\n",
       "      <td>353</td>\n",
       "      <td>dark hero</td>\n",
       "      <td>2013-05-10 01:41:19</td>\n",
       "      <td>288.0</td>\n",
       "    </tr>\n",
       "    <tr>\n",
       "      <th>3</th>\n",
       "      <td>65</td>\n",
       "      <td>521</td>\n",
       "      <td>noir thriller</td>\n",
       "      <td>2013-05-10 01:39:43</td>\n",
       "      <td>712.0</td>\n",
       "    </tr>\n",
       "    <tr>\n",
       "      <th>4</th>\n",
       "      <td>65</td>\n",
       "      <td>592</td>\n",
       "      <td>dark hero</td>\n",
       "      <td>2013-05-10 01:41:18</td>\n",
       "      <td>288.0</td>\n",
       "    </tr>\n",
       "  </tbody>\n",
       "</table>\n",
       "</div>"
      ],
      "text/plain": [
       "   userId  movieId            tag        tag_timestamp  tagId\n",
       "0      18     4141    Mark Waters  2009-04-24 18:19:40    NaN\n",
       "1      65      208      dark hero  2013-05-10 01:41:18  288.0\n",
       "2      65      353      dark hero  2013-05-10 01:41:19  288.0\n",
       "3      65      521  noir thriller  2013-05-10 01:39:43  712.0\n",
       "4      65      592      dark hero  2013-05-10 01:41:18  288.0"
      ]
     },
     "execution_count": 34,
     "metadata": {},
     "output_type": "execute_result"
    }
   ],
   "source": [
    "#merging tags and genom_tags on 'tag' column\n",
    "merged_tags = pd.merge(tags, genome_tags, on ='tag', how = 'left')\n",
    "merged_tags.head()"
   ]
  },
  {
   "cell_type": "code",
   "execution_count": 35,
   "id": "11a9d17c",
   "metadata": {},
   "outputs": [],
   "source": [
    "#tag ids are converted into floats because od Nan values\n",
    "#let's convert them back to nullable ints\n",
    "merged_tags['tagId'] = merged_tags['tagId'].astype('int64',errors='ignore')"
   ]
  },
  {
   "cell_type": "code",
   "execution_count": 36,
   "id": "34662384",
   "metadata": {},
   "outputs": [
    {
     "data": {
      "text/html": [
       "<div>\n",
       "<style scoped>\n",
       "    .dataframe tbody tr th:only-of-type {\n",
       "        vertical-align: middle;\n",
       "    }\n",
       "\n",
       "    .dataframe tbody tr th {\n",
       "        vertical-align: top;\n",
       "    }\n",
       "\n",
       "    .dataframe thead th {\n",
       "        text-align: right;\n",
       "    }\n",
       "</style>\n",
       "<table border=\"1\" class=\"dataframe\">\n",
       "  <thead>\n",
       "    <tr style=\"text-align: right;\">\n",
       "      <th></th>\n",
       "      <th>userId</th>\n",
       "      <th>movieId</th>\n",
       "      <th>tag</th>\n",
       "      <th>tag_timestamp</th>\n",
       "      <th>tagId</th>\n",
       "    </tr>\n",
       "  </thead>\n",
       "  <tbody>\n",
       "    <tr>\n",
       "      <th>0</th>\n",
       "      <td>18</td>\n",
       "      <td>4141</td>\n",
       "      <td>Mark Waters</td>\n",
       "      <td>2009-04-24 18:19:40</td>\n",
       "      <td>NaN</td>\n",
       "    </tr>\n",
       "    <tr>\n",
       "      <th>1</th>\n",
       "      <td>65</td>\n",
       "      <td>208</td>\n",
       "      <td>dark hero</td>\n",
       "      <td>2013-05-10 01:41:18</td>\n",
       "      <td>288.0</td>\n",
       "    </tr>\n",
       "    <tr>\n",
       "      <th>2</th>\n",
       "      <td>65</td>\n",
       "      <td>353</td>\n",
       "      <td>dark hero</td>\n",
       "      <td>2013-05-10 01:41:19</td>\n",
       "      <td>288.0</td>\n",
       "    </tr>\n",
       "    <tr>\n",
       "      <th>3</th>\n",
       "      <td>65</td>\n",
       "      <td>521</td>\n",
       "      <td>noir thriller</td>\n",
       "      <td>2013-05-10 01:39:43</td>\n",
       "      <td>712.0</td>\n",
       "    </tr>\n",
       "    <tr>\n",
       "      <th>4</th>\n",
       "      <td>65</td>\n",
       "      <td>592</td>\n",
       "      <td>dark hero</td>\n",
       "      <td>2013-05-10 01:41:18</td>\n",
       "      <td>288.0</td>\n",
       "    </tr>\n",
       "  </tbody>\n",
       "</table>\n",
       "</div>"
      ],
      "text/plain": [
       "   userId  movieId            tag        tag_timestamp  tagId\n",
       "0      18     4141    Mark Waters  2009-04-24 18:19:40    NaN\n",
       "1      65      208      dark hero  2013-05-10 01:41:18  288.0\n",
       "2      65      353      dark hero  2013-05-10 01:41:19  288.0\n",
       "3      65      521  noir thriller  2013-05-10 01:39:43  712.0\n",
       "4      65      592      dark hero  2013-05-10 01:41:18  288.0"
      ]
     },
     "execution_count": 36,
     "metadata": {},
     "output_type": "execute_result"
    }
   ],
   "source": [
    "merged_tags.head()"
   ]
  },
  {
   "cell_type": "code",
   "execution_count": 37,
   "id": "633b12ea",
   "metadata": {},
   "outputs": [],
   "source": [
    "# joining the genome_scores to add the tag relevance\n",
    "merged_tag = pd.merge(merged_tags, genome_scores, on = ['movieId', 'tagId'], how='left')"
   ]
  },
  {
   "cell_type": "code",
   "execution_count": 38,
   "id": "9222d3a0",
   "metadata": {},
   "outputs": [
    {
     "data": {
      "text/html": [
       "<div>\n",
       "<style scoped>\n",
       "    .dataframe tbody tr th:only-of-type {\n",
       "        vertical-align: middle;\n",
       "    }\n",
       "\n",
       "    .dataframe tbody tr th {\n",
       "        vertical-align: top;\n",
       "    }\n",
       "\n",
       "    .dataframe thead th {\n",
       "        text-align: right;\n",
       "    }\n",
       "</style>\n",
       "<table border=\"1\" class=\"dataframe\">\n",
       "  <thead>\n",
       "    <tr style=\"text-align: right;\">\n",
       "      <th></th>\n",
       "      <th>userId</th>\n",
       "      <th>movieId</th>\n",
       "      <th>tag</th>\n",
       "      <th>tag_timestamp</th>\n",
       "      <th>tagId</th>\n",
       "      <th>relevance</th>\n",
       "    </tr>\n",
       "  </thead>\n",
       "  <tbody>\n",
       "    <tr>\n",
       "      <th>0</th>\n",
       "      <td>18</td>\n",
       "      <td>4141</td>\n",
       "      <td>Mark Waters</td>\n",
       "      <td>2009-04-24 18:19:40</td>\n",
       "      <td>NaN</td>\n",
       "      <td>NaN</td>\n",
       "    </tr>\n",
       "    <tr>\n",
       "      <th>1</th>\n",
       "      <td>65</td>\n",
       "      <td>208</td>\n",
       "      <td>dark hero</td>\n",
       "      <td>2013-05-10 01:41:18</td>\n",
       "      <td>288.0</td>\n",
       "      <td>0.94950</td>\n",
       "    </tr>\n",
       "    <tr>\n",
       "      <th>2</th>\n",
       "      <td>65</td>\n",
       "      <td>353</td>\n",
       "      <td>dark hero</td>\n",
       "      <td>2013-05-10 01:41:19</td>\n",
       "      <td>288.0</td>\n",
       "      <td>0.99800</td>\n",
       "    </tr>\n",
       "    <tr>\n",
       "      <th>3</th>\n",
       "      <td>65</td>\n",
       "      <td>521</td>\n",
       "      <td>noir thriller</td>\n",
       "      <td>2013-05-10 01:39:43</td>\n",
       "      <td>712.0</td>\n",
       "      <td>0.98900</td>\n",
       "    </tr>\n",
       "    <tr>\n",
       "      <th>4</th>\n",
       "      <td>65</td>\n",
       "      <td>592</td>\n",
       "      <td>dark hero</td>\n",
       "      <td>2013-05-10 01:41:18</td>\n",
       "      <td>288.0</td>\n",
       "      <td>0.99775</td>\n",
       "    </tr>\n",
       "  </tbody>\n",
       "</table>\n",
       "</div>"
      ],
      "text/plain": [
       "   userId  movieId            tag        tag_timestamp  tagId  relevance\n",
       "0      18     4141    Mark Waters  2009-04-24 18:19:40    NaN        NaN\n",
       "1      65      208      dark hero  2013-05-10 01:41:18  288.0    0.94950\n",
       "2      65      353      dark hero  2013-05-10 01:41:19  288.0    0.99800\n",
       "3      65      521  noir thriller  2013-05-10 01:39:43  712.0    0.98900\n",
       "4      65      592      dark hero  2013-05-10 01:41:18  288.0    0.99775"
      ]
     },
     "execution_count": 38,
     "metadata": {},
     "output_type": "execute_result"
    }
   ],
   "source": [
    "merged_tag.head()"
   ]
  },
  {
   "cell_type": "code",
   "execution_count": 39,
   "id": "7a4d5289",
   "metadata": {},
   "outputs": [
    {
     "data": {
      "text/html": [
       "<div>\n",
       "<style scoped>\n",
       "    .dataframe tbody tr th:only-of-type {\n",
       "        vertical-align: middle;\n",
       "    }\n",
       "\n",
       "    .dataframe tbody tr th {\n",
       "        vertical-align: top;\n",
       "    }\n",
       "\n",
       "    .dataframe thead th {\n",
       "        text-align: right;\n",
       "    }\n",
       "</style>\n",
       "<table border=\"1\" class=\"dataframe\">\n",
       "  <thead>\n",
       "    <tr style=\"text-align: right;\">\n",
       "      <th></th>\n",
       "      <th>userId</th>\n",
       "      <th>movieId</th>\n",
       "      <th>rating</th>\n",
       "      <th>rating_timestamp</th>\n",
       "      <th>tag</th>\n",
       "      <th>tag_timestamp</th>\n",
       "      <th>tagId</th>\n",
       "      <th>relevance</th>\n",
       "    </tr>\n",
       "  </thead>\n",
       "  <tbody>\n",
       "    <tr>\n",
       "      <th>0</th>\n",
       "      <td>1</td>\n",
       "      <td>2</td>\n",
       "      <td>3.5</td>\n",
       "      <td>2005-04-02 23:53:47</td>\n",
       "      <td>NaN</td>\n",
       "      <td>NaN</td>\n",
       "      <td>NaN</td>\n",
       "      <td>NaN</td>\n",
       "    </tr>\n",
       "    <tr>\n",
       "      <th>1</th>\n",
       "      <td>1</td>\n",
       "      <td>29</td>\n",
       "      <td>3.5</td>\n",
       "      <td>2005-04-02 23:31:16</td>\n",
       "      <td>NaN</td>\n",
       "      <td>NaN</td>\n",
       "      <td>NaN</td>\n",
       "      <td>NaN</td>\n",
       "    </tr>\n",
       "    <tr>\n",
       "      <th>2</th>\n",
       "      <td>1</td>\n",
       "      <td>32</td>\n",
       "      <td>3.5</td>\n",
       "      <td>2005-04-02 23:33:39</td>\n",
       "      <td>NaN</td>\n",
       "      <td>NaN</td>\n",
       "      <td>NaN</td>\n",
       "      <td>NaN</td>\n",
       "    </tr>\n",
       "    <tr>\n",
       "      <th>3</th>\n",
       "      <td>1</td>\n",
       "      <td>47</td>\n",
       "      <td>3.5</td>\n",
       "      <td>2005-04-02 23:32:07</td>\n",
       "      <td>NaN</td>\n",
       "      <td>NaN</td>\n",
       "      <td>NaN</td>\n",
       "      <td>NaN</td>\n",
       "    </tr>\n",
       "    <tr>\n",
       "      <th>4</th>\n",
       "      <td>1</td>\n",
       "      <td>50</td>\n",
       "      <td>3.5</td>\n",
       "      <td>2005-04-02 23:29:40</td>\n",
       "      <td>NaN</td>\n",
       "      <td>NaN</td>\n",
       "      <td>NaN</td>\n",
       "      <td>NaN</td>\n",
       "    </tr>\n",
       "  </tbody>\n",
       "</table>\n",
       "</div>"
      ],
      "text/plain": [
       "   userId  movieId  rating     rating_timestamp  tag tag_timestamp  tagId  \\\n",
       "0       1        2     3.5  2005-04-02 23:53:47  NaN           NaN    NaN   \n",
       "1       1       29     3.5  2005-04-02 23:31:16  NaN           NaN    NaN   \n",
       "2       1       32     3.5  2005-04-02 23:33:39  NaN           NaN    NaN   \n",
       "3       1       47     3.5  2005-04-02 23:32:07  NaN           NaN    NaN   \n",
       "4       1       50     3.5  2005-04-02 23:29:40  NaN           NaN    NaN   \n",
       "\n",
       "   relevance  \n",
       "0        NaN  \n",
       "1        NaN  \n",
       "2        NaN  \n",
       "3        NaN  \n",
       "4        NaN  "
      ]
     },
     "execution_count": 39,
     "metadata": {},
     "output_type": "execute_result"
    }
   ],
   "source": [
    "df = pd.merge(rating, merged_tag, on = ['userId', 'movieId'], how = 'left')\n",
    "df.head()"
   ]
  },
  {
   "cell_type": "code",
   "execution_count": 40,
   "id": "bd146ba9",
   "metadata": {},
   "outputs": [],
   "source": [
    "df = pd.merge( df, movie, on ='movieId', how='left')"
   ]
  },
  {
   "cell_type": "code",
   "execution_count": 41,
   "id": "6a87bae8",
   "metadata": {},
   "outputs": [
    {
     "data": {
      "text/html": [
       "<div>\n",
       "<style scoped>\n",
       "    .dataframe tbody tr th:only-of-type {\n",
       "        vertical-align: middle;\n",
       "    }\n",
       "\n",
       "    .dataframe tbody tr th {\n",
       "        vertical-align: top;\n",
       "    }\n",
       "\n",
       "    .dataframe thead th {\n",
       "        text-align: right;\n",
       "    }\n",
       "</style>\n",
       "<table border=\"1\" class=\"dataframe\">\n",
       "  <thead>\n",
       "    <tr style=\"text-align: right;\">\n",
       "      <th></th>\n",
       "      <th>userId</th>\n",
       "      <th>movieId</th>\n",
       "      <th>rating</th>\n",
       "      <th>rating_timestamp</th>\n",
       "      <th>tag</th>\n",
       "      <th>tag_timestamp</th>\n",
       "      <th>tagId</th>\n",
       "      <th>relevance</th>\n",
       "      <th>title</th>\n",
       "      <th>genres</th>\n",
       "    </tr>\n",
       "  </thead>\n",
       "  <tbody>\n",
       "    <tr>\n",
       "      <th>0</th>\n",
       "      <td>1</td>\n",
       "      <td>2</td>\n",
       "      <td>3.5</td>\n",
       "      <td>2005-04-02 23:53:47</td>\n",
       "      <td>NaN</td>\n",
       "      <td>NaN</td>\n",
       "      <td>NaN</td>\n",
       "      <td>NaN</td>\n",
       "      <td>Jumanji (1995)</td>\n",
       "      <td>[Adventure, Children, Fantasy]</td>\n",
       "    </tr>\n",
       "    <tr>\n",
       "      <th>1</th>\n",
       "      <td>1</td>\n",
       "      <td>29</td>\n",
       "      <td>3.5</td>\n",
       "      <td>2005-04-02 23:31:16</td>\n",
       "      <td>NaN</td>\n",
       "      <td>NaN</td>\n",
       "      <td>NaN</td>\n",
       "      <td>NaN</td>\n",
       "      <td>City of Lost Children, The (Cité des enfants p...</td>\n",
       "      <td>[Adventure, Drama, Fantasy, Mystery, Sci-Fi]</td>\n",
       "    </tr>\n",
       "    <tr>\n",
       "      <th>2</th>\n",
       "      <td>1</td>\n",
       "      <td>32</td>\n",
       "      <td>3.5</td>\n",
       "      <td>2005-04-02 23:33:39</td>\n",
       "      <td>NaN</td>\n",
       "      <td>NaN</td>\n",
       "      <td>NaN</td>\n",
       "      <td>NaN</td>\n",
       "      <td>Twelve Monkeys (a.k.a. 12 Monkeys) (1995)</td>\n",
       "      <td>[Mystery, Sci-Fi, Thriller]</td>\n",
       "    </tr>\n",
       "    <tr>\n",
       "      <th>3</th>\n",
       "      <td>1</td>\n",
       "      <td>47</td>\n",
       "      <td>3.5</td>\n",
       "      <td>2005-04-02 23:32:07</td>\n",
       "      <td>NaN</td>\n",
       "      <td>NaN</td>\n",
       "      <td>NaN</td>\n",
       "      <td>NaN</td>\n",
       "      <td>Seven (a.k.a. Se7en) (1995)</td>\n",
       "      <td>[Mystery, Thriller]</td>\n",
       "    </tr>\n",
       "    <tr>\n",
       "      <th>4</th>\n",
       "      <td>1</td>\n",
       "      <td>50</td>\n",
       "      <td>3.5</td>\n",
       "      <td>2005-04-02 23:29:40</td>\n",
       "      <td>NaN</td>\n",
       "      <td>NaN</td>\n",
       "      <td>NaN</td>\n",
       "      <td>NaN</td>\n",
       "      <td>Usual Suspects, The (1995)</td>\n",
       "      <td>[Crime, Mystery, Thriller]</td>\n",
       "    </tr>\n",
       "  </tbody>\n",
       "</table>\n",
       "</div>"
      ],
      "text/plain": [
       "   userId  movieId  rating     rating_timestamp  tag tag_timestamp  tagId  \\\n",
       "0       1        2     3.5  2005-04-02 23:53:47  NaN           NaN    NaN   \n",
       "1       1       29     3.5  2005-04-02 23:31:16  NaN           NaN    NaN   \n",
       "2       1       32     3.5  2005-04-02 23:33:39  NaN           NaN    NaN   \n",
       "3       1       47     3.5  2005-04-02 23:32:07  NaN           NaN    NaN   \n",
       "4       1       50     3.5  2005-04-02 23:29:40  NaN           NaN    NaN   \n",
       "\n",
       "   relevance                                              title  \\\n",
       "0        NaN                                     Jumanji (1995)   \n",
       "1        NaN  City of Lost Children, The (Cité des enfants p...   \n",
       "2        NaN          Twelve Monkeys (a.k.a. 12 Monkeys) (1995)   \n",
       "3        NaN                        Seven (a.k.a. Se7en) (1995)   \n",
       "4        NaN                         Usual Suspects, The (1995)   \n",
       "\n",
       "                                         genres  \n",
       "0                [Adventure, Children, Fantasy]  \n",
       "1  [Adventure, Drama, Fantasy, Mystery, Sci-Fi]  \n",
       "2                   [Mystery, Sci-Fi, Thriller]  \n",
       "3                           [Mystery, Thriller]  \n",
       "4                    [Crime, Mystery, Thriller]  "
      ]
     },
     "execution_count": 41,
     "metadata": {},
     "output_type": "execute_result"
    }
   ],
   "source": [
    "df.head()"
   ]
  },
  {
   "cell_type": "code",
   "execution_count": 42,
   "id": "ce0724aa",
   "metadata": {},
   "outputs": [
    {
     "data": {
      "text/html": [
       "<div>\n",
       "<style scoped>\n",
       "    .dataframe tbody tr th:only-of-type {\n",
       "        vertical-align: middle;\n",
       "    }\n",
       "\n",
       "    .dataframe tbody tr th {\n",
       "        vertical-align: top;\n",
       "    }\n",
       "\n",
       "    .dataframe thead th {\n",
       "        text-align: right;\n",
       "    }\n",
       "</style>\n",
       "<table border=\"1\" class=\"dataframe\">\n",
       "  <thead>\n",
       "    <tr style=\"text-align: right;\">\n",
       "      <th></th>\n",
       "      <th>userId</th>\n",
       "      <th>movieId</th>\n",
       "      <th>rating</th>\n",
       "      <th>rating_timestamp</th>\n",
       "      <th>tag</th>\n",
       "      <th>tag_timestamp</th>\n",
       "      <th>tagId</th>\n",
       "      <th>relevance</th>\n",
       "      <th>title</th>\n",
       "      <th>genres</th>\n",
       "    </tr>\n",
       "  </thead>\n",
       "  <tbody>\n",
       "    <tr>\n",
       "      <th>0</th>\n",
       "      <td>1</td>\n",
       "      <td>2</td>\n",
       "      <td>3.5</td>\n",
       "      <td>2005-04-02 23:53:47</td>\n",
       "      <td>NaN</td>\n",
       "      <td>NaN</td>\n",
       "      <td>NaN</td>\n",
       "      <td>NaN</td>\n",
       "      <td>Jumanji (1995)</td>\n",
       "      <td>[Adventure, Children, Fantasy]</td>\n",
       "    </tr>\n",
       "    <tr>\n",
       "      <th>1</th>\n",
       "      <td>1</td>\n",
       "      <td>29</td>\n",
       "      <td>3.5</td>\n",
       "      <td>2005-04-02 23:31:16</td>\n",
       "      <td>NaN</td>\n",
       "      <td>NaN</td>\n",
       "      <td>NaN</td>\n",
       "      <td>NaN</td>\n",
       "      <td>City of Lost Children, The (Cité des enfants p...</td>\n",
       "      <td>[Adventure, Drama, Fantasy, Mystery, Sci-Fi]</td>\n",
       "    </tr>\n",
       "    <tr>\n",
       "      <th>2</th>\n",
       "      <td>1</td>\n",
       "      <td>32</td>\n",
       "      <td>3.5</td>\n",
       "      <td>2005-04-02 23:33:39</td>\n",
       "      <td>NaN</td>\n",
       "      <td>NaN</td>\n",
       "      <td>NaN</td>\n",
       "      <td>NaN</td>\n",
       "      <td>Twelve Monkeys (a.k.a. 12 Monkeys) (1995)</td>\n",
       "      <td>[Mystery, Sci-Fi, Thriller]</td>\n",
       "    </tr>\n",
       "    <tr>\n",
       "      <th>3</th>\n",
       "      <td>1</td>\n",
       "      <td>47</td>\n",
       "      <td>3.5</td>\n",
       "      <td>2005-04-02 23:32:07</td>\n",
       "      <td>NaN</td>\n",
       "      <td>NaN</td>\n",
       "      <td>NaN</td>\n",
       "      <td>NaN</td>\n",
       "      <td>Seven (a.k.a. Se7en) (1995)</td>\n",
       "      <td>[Mystery, Thriller]</td>\n",
       "    </tr>\n",
       "    <tr>\n",
       "      <th>4</th>\n",
       "      <td>1</td>\n",
       "      <td>50</td>\n",
       "      <td>3.5</td>\n",
       "      <td>2005-04-02 23:29:40</td>\n",
       "      <td>NaN</td>\n",
       "      <td>NaN</td>\n",
       "      <td>NaN</td>\n",
       "      <td>NaN</td>\n",
       "      <td>Usual Suspects, The (1995)</td>\n",
       "      <td>[Crime, Mystery, Thriller]</td>\n",
       "    </tr>\n",
       "  </tbody>\n",
       "</table>\n",
       "</div>"
      ],
      "text/plain": [
       "   userId  movieId  rating     rating_timestamp  tag tag_timestamp  tagId  \\\n",
       "0       1        2     3.5  2005-04-02 23:53:47  NaN           NaN    NaN   \n",
       "1       1       29     3.5  2005-04-02 23:31:16  NaN           NaN    NaN   \n",
       "2       1       32     3.5  2005-04-02 23:33:39  NaN           NaN    NaN   \n",
       "3       1       47     3.5  2005-04-02 23:32:07  NaN           NaN    NaN   \n",
       "4       1       50     3.5  2005-04-02 23:29:40  NaN           NaN    NaN   \n",
       "\n",
       "   relevance                                              title  \\\n",
       "0        NaN                                     Jumanji (1995)   \n",
       "1        NaN  City of Lost Children, The (Cité des enfants p...   \n",
       "2        NaN          Twelve Monkeys (a.k.a. 12 Monkeys) (1995)   \n",
       "3        NaN                        Seven (a.k.a. Se7en) (1995)   \n",
       "4        NaN                         Usual Suspects, The (1995)   \n",
       "\n",
       "                                         genres  \n",
       "0                [Adventure, Children, Fantasy]  \n",
       "1  [Adventure, Drama, Fantasy, Mystery, Sci-Fi]  \n",
       "2                   [Mystery, Sci-Fi, Thriller]  \n",
       "3                           [Mystery, Thriller]  \n",
       "4                    [Crime, Mystery, Thriller]  "
      ]
     },
     "execution_count": 42,
     "metadata": {},
     "output_type": "execute_result"
    }
   ],
   "source": [
    "df['userId'] = df['userId'].astype('int64')\n",
    "df['tagId'] = df['tagId'].astype('int64', errors= 'ignore')\n",
    "df.head()"
   ]
  },
  {
   "cell_type": "code",
   "execution_count": 43,
   "id": "3d3952a6",
   "metadata": {},
   "outputs": [
    {
     "name": "stdout",
     "output_type": "stream",
     "text": [
      "0\n"
     ]
    }
   ],
   "source": [
    "print(df.rating.isnull().sum())"
   ]
  },
  {
   "cell_type": "code",
   "execution_count": 3,
   "id": "f83b06d9",
   "metadata": {},
   "outputs": [],
   "source": [
    "df = pd.read_csv('complete_dataset.csv')"
   ]
  },
  {
   "cell_type": "code",
   "execution_count": null,
   "id": "9cc7f1ff",
   "metadata": {},
   "outputs": [
    {
     "name": "stdout",
     "output_type": "stream",
     "text": [
      "<class 'pandas.core.frame.DataFrame'>\n",
      "RangeIndex: 20265625 entries, 0 to 20265624\n",
      "Data columns (total 10 columns):\n",
      " #   Column            Dtype  \n",
      "---  ------            -----  \n",
      " 0   userId            int64  \n",
      " 1   movieId           int64  \n",
      " 2   rating            float64\n",
      " 3   rating_timestamp  object \n",
      " 4   tag               object \n",
      " 5   tag_timestamp     object \n",
      " 6   tagId             float64\n",
      " 7   relevance         float64\n",
      " 8   title             object \n",
      " 9   genres            object \n",
      "dtypes: float64(3), int64(2), object(5)\n",
      "memory usage: 1.5+ GB\n"
     ]
    }
   ],
   "source": [
    "# Final dataset\n",
    "df.info()"
   ]
  },
  {
   "cell_type": "markdown",
   "id": "8cbd05f71034e193",
   "metadata": {},
   "source": [
    "## 1.2 Minhash Signatures\n",
    "*\"Using the __`userId`__ and __`movieId`__ columns, implement your own **MinHash** function.\n",
    "This function will hash each user's watched movie list, creating a representation that allows for quick comparisons of user similarities.\"*"
   ]
  },
  {
   "cell_type": "markdown",
   "id": "89eaf816",
   "metadata": {},
   "source": [
    "In order to create the signature matrix for our lists of seen movies we have implemented the following functions in the `minhashing.py` file:\n",
    "\n",
    "+ The function `char_vec` creates a **characteristic vector** for a user's list of seen movies. It iterates over all possible movie IDs (`all_movies`) and assigns a `1` if a movie is in the user's seen list (`seen_movies`), and `0` otherwise. The result is a binary vector indicating the presence or absence of each movie for that user. Finally it converts the result into a memory-efficient sparse matrix using compressed sparse row (CSR) format.\n",
    "\n",
    "+ The `minhash` function generates a **MinHash signature** for a given characteristic vector. This signature is a compact representation used in Locality Sensitive Hashing (LSH) to approximate Jaccard similarity efficiently. The function applies a set of **hash functions** to the indices of the vector, updating the signature values **only** for indices where the vector value is `1`. The result is a vector where each entry corresponds to the *minimum hashed index* encountered for each hash function.\n"
   ]
  },
  {
   "cell_type": "code",
   "execution_count": 176,
   "id": "7710eed3",
   "metadata": {},
   "outputs": [],
   "source": [
    "import minhashing\n",
    "from minhashing import char_vec, minhash"
   ]
  },
  {
   "cell_type": "code",
   "execution_count": 177,
   "id": "c46cba51",
   "metadata": {},
   "outputs": [
    {
     "name": "stdout",
     "output_type": "stream",
     "text": [
      "We  will work with 138493 classes, since that is the number of users\n"
     ]
    }
   ],
   "source": [
    "# list of all movie ids\n",
    "all_movies = df[\"movieId\"].unique()\n",
    "\n",
    "# creating a filtered dataset selecting from df the 'userId' column \n",
    "# and aggregating on it 'movieIds'  to create a list of user's seen/rated movies \n",
    "\n",
    "user_seen_movies = df.groupby(\"userId\")[\"movieId\"].agg(set).reset_index().rename(columns={\"movieId\": \"seen_movies\"})\n",
    "print(f\"We  will work with {user_seen_movies.shape[0]} classes, since that is the number of users\")"
   ]
  },
  {
   "cell_type": "code",
   "execution_count": 178,
   "id": "20a0e2ba",
   "metadata": {},
   "outputs": [
    {
     "data": {
      "text/html": [
       "<div>\n",
       "<style scoped>\n",
       "    .dataframe tbody tr th:only-of-type {\n",
       "        vertical-align: middle;\n",
       "    }\n",
       "\n",
       "    .dataframe tbody tr th {\n",
       "        vertical-align: top;\n",
       "    }\n",
       "\n",
       "    .dataframe thead th {\n",
       "        text-align: right;\n",
       "    }\n",
       "</style>\n",
       "<table border=\"1\" class=\"dataframe\">\n",
       "  <thead>\n",
       "    <tr style=\"text-align: right;\">\n",
       "      <th></th>\n",
       "      <th>userId</th>\n",
       "      <th>seen_movies</th>\n",
       "    </tr>\n",
       "  </thead>\n",
       "  <tbody>\n",
       "    <tr>\n",
       "      <th>0</th>\n",
       "      <td>1</td>\n",
       "      <td>{2, 3081, 4105, 1036, 5146, 541, 29, 32, 4128,...</td>\n",
       "    </tr>\n",
       "    <tr>\n",
       "      <th>1</th>\n",
       "      <td>2</td>\n",
       "      <td>{3, 260, 2948, 2951, 1544, 1673, 266, 908, 245...</td>\n",
       "    </tr>\n",
       "    <tr>\n",
       "      <th>2</th>\n",
       "      <td>3</td>\n",
       "      <td>{512, 1, 3072, 2053, 2054, 2567, 1544, 2571, 1...</td>\n",
       "    </tr>\n",
       "    <tr>\n",
       "      <th>3</th>\n",
       "      <td>4</td>\n",
       "      <td>{6, 519, 520, 10, 19, 531, 32, 420, 165, 548, ...</td>\n",
       "    </tr>\n",
       "    <tr>\n",
       "      <th>4</th>\n",
       "      <td>5</td>\n",
       "      <td>{2, 515, 260, 1028, 648, 11, 140, 141, 780, 10...</td>\n",
       "    </tr>\n",
       "  </tbody>\n",
       "</table>\n",
       "</div>"
      ],
      "text/plain": [
       "   userId                                        seen_movies\n",
       "0       1  {2, 3081, 4105, 1036, 5146, 541, 29, 32, 4128,...\n",
       "1       2  {3, 260, 2948, 2951, 1544, 1673, 266, 908, 245...\n",
       "2       3  {512, 1, 3072, 2053, 2054, 2567, 1544, 2571, 1...\n",
       "3       4  {6, 519, 520, 10, 19, 531, 32, 420, 165, 548, ...\n",
       "4       5  {2, 515, 260, 1028, 648, 11, 140, 141, 780, 10..."
      ]
     },
     "execution_count": 178,
     "metadata": {},
     "output_type": "execute_result"
    }
   ],
   "source": [
    "user_seen_movies.head()"
   ]
  },
  {
   "cell_type": "markdown",
   "id": "3992db6d",
   "metadata": {},
   "source": [
    "+ Sort the `all_movies` list so that, for $ m = \\text{len(seen\\_movies)} $, the characteristic vector of user $j$, denoted as $\\text{char\\_vec}(\\text{user}_j) = [x_1^j, x_2^j, \\dots, x_m^j]$, is defined as follows:  \n",
    "$$\n",
    "x_i^j = \n",
    "\\begin{cases} \n",
    "1 & \\text{if user } j \\text{ has seen (rated) the } i\\text{-th movie in the list}, \\\\\n",
    "0 & \\text{otherwise}.\n",
    "\\end{cases} \\quad\n",
    "\\forall i\\quad\\in\\{1,...,m\\}$$"
   ]
  },
  {
   "cell_type": "code",
   "execution_count": 179,
   "id": "2475a456",
   "metadata": {},
   "outputs": [
    {
     "name": "stdout",
     "output_type": "stream",
     "text": [
      "Movie ids range from 1 to 131262: we will work with 131262 shingles, each of which is one distinct movieId.\n"
     ]
    }
   ],
   "source": [
    "all_movies = sorted(all_movies)\n",
    "print(f\"Movie ids range from {all_movies[0]} to {all_movies[-1]}: we will work with {all_movies[-1]-all_movies[0]+1} shingles, each of which is one distinct movieId.\")"
   ]
  },
  {
   "cell_type": "markdown",
   "id": "2b4f8ad1",
   "metadata": {},
   "source": [
    "* Compute the **characteristic vector** for each class, applying the `char_vec` function on `seen_movies` column."
   ]
  },
  {
   "cell_type": "code",
   "execution_count": 181,
   "id": "c0eda8fb",
   "metadata": {},
   "outputs": [],
   "source": [
    "user_seen_movies['char_vec'] = user_seen_movies['seen_movies'].apply(lambda x: char_vec(x, all_movies))"
   ]
  },
  {
   "cell_type": "code",
   "execution_count": 182,
   "id": "569c3710",
   "metadata": {},
   "outputs": [
    {
     "name": "stdout",
     "output_type": "stream",
     "text": [
      "[[0 1 0 ... 0 0 0]]\n"
     ]
    }
   ],
   "source": [
    "print(user_seen_movies.iloc[0]['char_vec'].toarray())"
   ]
  },
  {
   "cell_type": "markdown",
   "id": "f4c66d02",
   "metadata": {},
   "source": [
    "* Define multiple independent **hash functions** to permute shingles:\n",
    "\n",
    "    For a given $k = \\text{number of hash functions} $ we will compute in `minhash` function\n",
    "    $$ h(x) = ( a_ix+b_i ) \\text{ mod  } p $$\n",
    "    where $a = [ a_1, ..., a_k]$ and $b= [ b_1, ..., b_k]$ are random coefficient vectors in $\\mathbb{N} ^k$, such that $a_i>0 \\quad\\forall i$ and $p$ is a **prime** larger then our number of shingles.\n",
    "\n",
    "    This definition ensures that the hash functions are **independent**, being a unique permutation of the shingles, and **uniformly** map the shingles minimizing collisions,  thanks to the modulo division with a prime.\n",
    "\n",
    "    To analyze the performance of our `minhash` implementation, we will experiment with various values of $k$."
   ]
  },
  {
   "cell_type": "code",
   "execution_count": 184,
   "id": "4a8da107",
   "metadata": {},
   "outputs": [],
   "source": [
    "import random\n",
    "\n",
    "num_shingles = len(all_movies)\n",
    "\n",
    "# adjust the signature vectors' lenght ( e.g. start with k = 3 )\n",
    "k = 3\n",
    "\n",
    "# Set a prime number greater than num_shingles\n",
    "prime = 131273\n",
    "\n",
    "# Generate random coefficients\n",
    "random.seed(42)  # For reproducibility\n",
    "a = np.random.randint(1, prime, size = k, dtype=np.int64)\n",
    "b = np.random.randint(0, prime, size = k, dtype=np.int64)\n"
   ]
  },
  {
   "cell_type": "markdown",
   "id": "5791638a",
   "metadata": {},
   "source": [
    "* Now apply to each characteristic vector the `minhash` function to generate the associated **MinHash signature vectors**."
   ]
  },
  {
   "cell_type": "code",
   "execution_count": 185,
   "id": "6e35778f",
   "metadata": {},
   "outputs": [],
   "source": [
    "user_seen_movies['minhash'] = user_seen_movies['char_vec'].apply(\n",
    "    lambda x: minhash(x, k, a, b, prime)\n",
    ")"
   ]
  },
  {
   "cell_type": "code",
   "execution_count": 186,
   "id": "41c59b24",
   "metadata": {},
   "outputs": [
    {
     "data": {
      "text/plain": [
       "0       [881, 454, 386]\n",
       "1      [881, 252, 1322]\n",
       "2      [114, 397, 1607]\n",
       "3     [114, 5335, 1349]\n",
       "4    [2661, 4452, 1634]\n",
       "Name: minhash, dtype: object"
      ]
     },
     "execution_count": 186,
     "metadata": {},
     "output_type": "execute_result"
    }
   ],
   "source": [
    "user_seen_movies['minhash'].head()"
   ]
  },
  {
   "cell_type": "markdown",
   "id": "64597366",
   "metadata": {},
   "source": [
    "Deploying the MinHash property that *\"the similarity of the signatures is the fraction of the min-hash functions (rows) in which they agree\"* we can approximate the Jaccard similarity between two user's seen movie list $x_1$ and $x_2$ as $$ sim (x_1, x_2) =  \\mathbb{P}[ h(x_1) = h(x_2)]$$\n",
    "\n",
    "We can check if we have implemented a reliable proxy for the given $k = 3$ applying `jaccard_sim` and `sign_agreement` functions implemented in `tools.py`. The former evaluates the jaccard similarity between to sets, while the latter returns the frequency of agreeing components of the respective signature vectors."
   ]
  },
  {
   "cell_type": "code",
   "execution_count": 188,
   "id": "088ea7b1",
   "metadata": {},
   "outputs": [
    {
     "name": "stdout",
     "output_type": "stream",
     "text": [
      "sim(0,1) = 0.039647577092511016\n",
      "sim(0,2) = 0.13125\n",
      "sim(0,3) = 0.015\n",
      "sim(0,4) = 0.06167400881057269\n"
     ]
    }
   ],
   "source": [
    "from tools import jaccard_sim\n",
    "for i in range(1,5):\n",
    "    sim0i = jaccard_sim(user_seen_movies.iloc[0]['seen_movies'], user_seen_movies.iloc[i]['seen_movies'])\n",
    "    print(f\"sim(0,{i}) = {sim0i}\")"
   ]
  },
  {
   "cell_type": "code",
   "execution_count": 198,
   "id": "01374e6a",
   "metadata": {},
   "outputs": [
    {
     "name": "stdout",
     "output_type": "stream",
     "text": [
      "0.3333333333333333\n",
      "0.0\n",
      "0.0\n",
      "0.0\n"
     ]
    }
   ],
   "source": [
    "from tools import sign_agreement\n",
    "for i in range(1,5):\n",
    "    print(sign_agreement(user_seen_movies.iloc[0]['minhash'],user_seen_movies.iloc[i]['minhash']))"
   ]
  },
  {
   "cell_type": "markdown",
   "id": "710fa51a",
   "metadata": {},
   "source": [
    "These test values are enough to state that selecting a small $k$ (e.g. $k = 3$) does not provide an accurate approximation of similarity. We need to adjust our parameter accordingly."
   ]
  },
  {
   "cell_type": "code",
   "execution_count": 206,
   "id": "ab66f60e",
   "metadata": {},
   "outputs": [],
   "source": [
    "#increasing k\n",
    "k = 25\n",
    "random.seed(42)  # For reproducibility\n",
    "a = np.random.randint(1, prime, size = k, dtype=np.int64)\n",
    "b = np.random.randint(0, prime, size = k, dtype=np.int64)\n",
    "user_seen_movies['minhash_25'] = user_seen_movies['char_vec'].apply(lambda x: minhash(x, k, a, b, prime))"
   ]
  },
  {
   "cell_type": "code",
   "execution_count": 201,
   "id": "06faf8c5",
   "metadata": {},
   "outputs": [
    {
     "name": "stdout",
     "output_type": "stream",
     "text": [
      "0.0\n",
      "0.12\n",
      "0.0\n",
      "0.04\n"
     ]
    }
   ],
   "source": [
    "from tools import sign_agreement\n",
    "for i in range(1,5):\n",
    "    print(sign_agreement(user_seen_movies.iloc[0]['minhash_25'],user_seen_movies.iloc[i]['minhash_25']))"
   ]
  },
  {
   "cell_type": "code",
   "execution_count": 205,
   "id": "ce85a236",
   "metadata": {},
   "outputs": [],
   "source": [
    "k = 50\n",
    "random.seed(42)  # For reproducibility\n",
    "a = np.random.randint(1, prime, size = k, dtype=np.int64)\n",
    "b = np.random.randint(0, prime, size = k, dtype=np.int64)\n",
    "user_seen_movies['minhash_50'] = user_seen_movies['char_vec'].apply(lambda x: minhash(x, k, a, b, prime))"
   ]
  },
  {
   "cell_type": "code",
   "execution_count": 204,
   "id": "5d1d9cf4",
   "metadata": {},
   "outputs": [
    {
     "name": "stdout",
     "output_type": "stream",
     "text": [
      "0.04\n",
      "0.1\n",
      "0.0\n",
      "0.04\n"
     ]
    }
   ],
   "source": [
    "for i in range(1,5):\n",
    "    print(sign_agreement(user_seen_movies.iloc[0]['minhash_50'],user_seen_movies.iloc[i]['minhash_50']))"
   ]
  },
  {
   "cell_type": "markdown",
   "id": "e9dec2c8",
   "metadata": {},
   "source": [
    "**Increasing $k$** improves the reliability and accuracy of the MinHash-based similarity approximation because it reduces randomness and provides more robust estimates by leveraging multiple independent hash functions. \n",
    "\n",
    "At the same time we can expect practical **limitations** to making $k$ too large, as:\n",
    "- Memory usage: the signature matrix sizes increases with $k$;\n",
    "- Accuracy loss: the improvement in the similarity estimate becomes less significant as more hash functions are added:\n",
    "\n",
    "While increasing $k$ can improve the accuracy of MinHash, there is a **trade-off** with computational cost, memory usage, and diminishing improvements in similarity approximation. We found in $k = 50$ a good candidate solution, but we can keep working with diffeent values and adjust other parameters too."
   ]
  },
  {
   "cell_type": "markdown",
   "id": "d80bcc4a",
   "metadata": {},
   "source": [
    "## 1.3 Locality-Sensitive Hashing (LSH)"
   ]
  },
  {
   "cell_type": "markdown",
   "id": "6818c8575859f343",
   "metadata": {},
   "source": [
    "### 1. Bucket Creation"
   ]
  },
  {
   "cell_type": "code",
   "execution_count": 215,
   "id": "c276454e",
   "metadata": {},
   "outputs": [
    {
     "name": "stdout",
     "output_type": "stream",
     "text": [
      "Signature Matrix Shape: (25, 138493)\n"
     ]
    }
   ],
   "source": [
    "# creating the mihash signature matrix for k = 25 stacking MinHash vectors as columns\n",
    "\n",
    "signature_matrix = np.array(user_seen_movies['minhash_25'].tolist()).T\n",
    "print(\"Signature Matrix Shape:\", signature_matrix.shape)\n"
   ]
  },
  {
   "cell_type": "markdown",
   "id": "e8bde137",
   "metadata": {},
   "source": [
    "To build the buckets we will use the `lsh` function from `Locality_sensitive_Hasing.py` file, which returns a list of dictionaries to map band signatures to lists of items (columns, which resemble users) that share the same signature in that band. It is structured as follows:\n",
    "\n",
    "- <u>Banding:</u>\n",
    "\n",
    "    The signature matrix is divided into *bands*, with each band containing a subset of the rows from the signature matrix.\n",
    "\n",
    "- <u>Hashing Mini-Signatures:</u>\n",
    "\n",
    "    Each band is hashed into buckets. The hash function in this case is a tuple of the band rows, which represents the signature of an item for that band.\n",
    "    If two items (columns) share the same band signature, they are placed in the same bucket for that band.\n",
    "\n",
    "- <u>Buckets and Similarity</u>:\n",
    "\n",
    "   Items that share buckets in multiple bands are considered similar and have a high probability of being similar based on their Jaccard similarity.\n",
    "\n",
    "The resulting `buckets` list contains one dictionary per band, where each dictionary maps band signatures to a list of item indices with that signature."
   ]
  },
  {
   "cell_type": "code",
   "execution_count": 216,
   "id": "79433ed1",
   "metadata": {},
   "outputs": [
    {
     "name": "stdout",
     "output_type": "stream",
     "text": [
      "Band 1:\n",
      "  Signature (297, 3150, 462, 938, 2442): Items [0]\n",
      "  Signature (5859, 8149, 1586, 334, 0): Items [1]\n",
      "  Signature (605, 381, 389, 454, 1784): Items [2]\n",
      "Band 2:\n",
      "  Signature (147, 4, 1555, 51, 584): Items [0]\n",
      "  Signature (1292, 1927, 87, 1258, 421): Items [1]\n",
      "  Signature (147, 1803, 337, 113, 72): Items [2, 2512, 48740, 55758, 58388, 106387, 115574, 124672]\n",
      "Band 3:\n",
      "  Signature (288, 1226, 930, 2351, 131): Items [0]\n",
      "  Signature (1745, 645, 258, 985, 768): Items [1]\n",
      "  Signature (97, 346, 450, 147, 1217): Items [2]\n",
      "Band 4:\n",
      "  Signature (366, 42, 700, 821, 669): Items [0]\n",
      "  Signature (5235, 1788, 698, 221, 11310): Items [1]\n",
      "  Signature (486, 1163, 328, 179, 514): Items [2]\n",
      "Band 5:\n",
      "  Signature (473, 360, 2812, 759, 1129): Items [0]\n",
      "  Signature (2029, 2555, 3984, 100, 4345): Items [1]\n",
      "  Signature (328, 445, 2017, 19, 643): Items [2]\n"
     ]
    }
   ],
   "source": [
    "import Locality_Sensitive_Hashing\n",
    "from Locality_Sensitive_Hashing import lsh\n",
    "\n",
    "band_size = 5  # Number of rows per band (e.g.  k/bandisize = 25/5 bands)\n",
    "buckets = lsh(signature_matrix, band_size)\n",
    "\n",
    "# Print example of bucket structure\n",
    "for i, band in enumerate(buckets[:5]):\n",
    "    print(f\"Band {i + 1}:\")\n",
    "    \n",
    "    for j, (signature, items) in enumerate(band.items()):\n",
    "        if j >= 3:\n",
    "            break  # Stop after printing a few buckets\n",
    "        print(f\"  Signature {signature}: Items {items}\")"
   ]
  },
  {
   "cell_type": "markdown",
   "id": "a0bcfd3f596551d4",
   "metadata": {},
   "source": [
    "### 2. Query\n",
    "*\"For a given user, identify the two most similar users based on their bucket placement. If a user doesn’t have any similar users in their bucket, adjust the parameters until similar users are found.\"*\n",
    "\n",
    "Our `top2_query` implementation works as follows:\n",
    "\n",
    "- The function computes the \"band signature\" for the target user across all bands.\n",
    "- It then compares this signature with others in the same bucket to count the occurrences of similar users.\n",
    "- Only users with a similarity count exceeding the threshold are considered.\n",
    "- The users are sorted based on their similarity count, and the top two similar users are returned.\n",
    "- If no users meet the threshold, a message suggesting parameter adjustment is returned."
   ]
  },
  {
   "cell_type": "code",
   "execution_count": 223,
   "id": "24f19522",
   "metadata": {},
   "outputs": [
    {
     "name": "stdout",
     "output_type": "stream",
     "text": [
      "Most similar users that appear in more then 1 buckets:\n",
      " [109130]\n"
     ]
    }
   ],
   "source": [
    "from Locality_Sensitive_Hashing import top2_query\n",
    "\n",
    "thresh = 1\n",
    "result =  top2_query( user = 2512, signature_matrix = signature_matrix, band_size = 5, buckets = buckets, threshold=thresh)\n",
    "print(f'Most similar users that appear in more then {thresh} buckets:\\n {result}')"
   ]
  },
  {
   "cell_type": "code",
   "execution_count": 224,
   "id": "10db8a34",
   "metadata": {},
   "outputs": [
    {
     "name": "stdout",
     "output_type": "stream",
     "text": [
      "Most similar users that appear in more then 1 buckets:\n",
      " [109130, 3938]\n"
     ]
    }
   ],
   "source": [
    "#First adjustment: lower threshold to 0 to find results\n",
    "# (results are returned if users appear in the same bucket for at least one band)\n",
    "\n",
    "result =  top2_query( user = 2512, signature_matrix = signature_matrix, band_size = 5, buckets = buckets, threshold=0)\n",
    "print(f'Most similar users that appear in more then {thresh} buckets:\\n {result}')\n"
   ]
  },
  {
   "cell_type": "markdown",
   "id": "50de4cb2",
   "metadata": {},
   "source": [
    "If $k$ is too small (even $k =  25$), searching for matching bands essentially becomes equivalent to searching for matching signature vectors in their entirety. To ensure results to our query, even with a threshold greater than 0, we should increase the value of $k$."
   ]
  },
  {
   "cell_type": "code",
   "execution_count": 225,
   "id": "e5f056ec",
   "metadata": {},
   "outputs": [
    {
     "name": "stdout",
     "output_type": "stream",
     "text": [
      "Signature Matrix Shape: (50, 138493)\n",
      "Most similar users that that appear in more then 2 buckets :\n",
      " [114896, 53011]\n"
     ]
    }
   ],
   "source": [
    "# Increasing k from 25 to 50, lowering bandsize to 2, increasing threshold to 2 \n",
    "\n",
    "signature_matrix_50 = np.array(user_seen_movies['minhash_50'].tolist()).T\n",
    "buckets_50 = lsh (signature_matrix=signature_matrix_50, band_size=2)\n",
    "print(\"Signature Matrix Shape:\", signature_matrix_50.shape)\n",
    "\n",
    "new_result =  top2_query( 2512, signature_matrix_50, 2, buckets_50, 2)\n",
    "print(f'Most similar users that that appear in more then 2 buckets :\\n {new_result}')\n"
   ]
  },
  {
   "cell_type": "markdown",
   "id": "2111810cbfd00cf7",
   "metadata": {},
   "source": [
    "### 3-4. Movie Recommendation Logic and Final Recommendation\n",
    "*\"Movie Recommendation Logic:*\n",
    "+ *If both similar users have rated a movie, recommend this movie based on the **average rating**.*\n",
    "+ *If there are no commonly rated movies, recommend the top-rated movies of the most similar user.*\n",
    "\n",
    "\"Final Recommendation: Provide at most five movies to the user.\""
   ]
  },
  {
   "cell_type": "code",
   "execution_count": 226,
   "id": "402c41b5",
   "metadata": {},
   "outputs": [
    {
     "data": {
      "text/plain": [
       "('Top 5 recommended movies based on common ratings:',\n",
       "    movieId  avg_rating                             title\n",
       " 0      110         5.0                 Braveheart (1995)\n",
       " 1      296         5.0               Pulp Fiction (1994)\n",
       " 2      111         5.0                Taxi Driver (1976)\n",
       " 3      593         5.0  Silence of the Lambs, The (1991)\n",
       " 4      356         4.5               Forrest Gump (1994))"
      ]
     },
     "execution_count": 226,
     "metadata": {},
     "output_type": "execute_result"
    }
   ],
   "source": [
    "from Locality_Sensitive_Hashing import recommend_movie\n",
    "recommend_movie(user_seen_movies, result, df)"
   ]
  },
  {
   "cell_type": "code",
   "execution_count": 227,
   "id": "491ba233",
   "metadata": {},
   "outputs": [
    {
     "data": {
      "text/plain": [
       "('Top 5 recommended movies based on common ratings:',\n",
       "    movieId  avg_rating                             title\n",
       " 0       50         5.0        Usual Suspects, The (1995)\n",
       " 1       39         4.5                   Clueless (1995)\n",
       " 2      296         4.5               Pulp Fiction (1994)\n",
       " 3      111         4.5                Taxi Driver (1976)\n",
       " 4      593         4.0  Silence of the Lambs, The (1991))"
      ]
     },
     "execution_count": 227,
     "metadata": {},
     "output_type": "execute_result"
    }
   ],
   "source": [
    "from Locality_Sensitive_Hashing import recommend_movie\n",
    "recommend_movie(user_seen_movies, new_result, df)"
   ]
  },
  {
   "cell_type": "markdown",
   "id": "2500b13b",
   "metadata": {},
   "source": [
    "The choice of the parametres results in different movies suggestion, which are affected by the LSH similarity between the minhash signature, that highly depends on $k$, *band_size* and *threshold* values."
   ]
  },
  {
   "cell_type": "markdown",
   "id": "be0ac52227608421",
   "metadata": {},
   "source": [
    "# 2. Grouping Movies Together!"
   ]
  },
  {
   "cell_type": "markdown",
   "id": "885a2800fc1b77e4",
   "metadata": {},
   "source": [
    "## 2.1 Feature Engineering"
   ]
  },
  {
   "cell_type": "markdown",
   "id": "29753873d532ef6c",
   "metadata": {},
   "source": [
    "## 2.2 Choose your features (variables)!"
   ]
  },
  {
   "cell_type": "markdown",
   "id": "ee8daff88026a9e4",
   "metadata": {},
   "source": [
    "## 2.3 Clustering"
   ]
  },
  {
   "cell_type": "markdown",
   "id": "a07f07054c88b967",
   "metadata": {},
   "source": [
    "## 2.4 Best Algorithm"
   ]
  },
  {
   "cell_type": "markdown",
   "id": "a76de8393e3bace6",
   "metadata": {},
   "source": [
    "# 3. Bonus Question"
   ]
  },
  {
   "cell_type": "markdown",
   "id": "54bfb81e7b93fe4",
   "metadata": {},
   "source": [
    "# 4. Algorithmic Question"
   ]
  },
  {
   "cell_type": "markdown",
   "id": "b081e99bdb63ef2d",
   "metadata": {},
   "source": []
  }
 ],
 "metadata": {
  "kernelspec": {
   "display_name": "Python 3",
   "language": "python",
   "name": "python3"
  },
  "language_info": {
   "codemirror_mode": {
    "name": "ipython",
    "version": 3
   },
   "file_extension": ".py",
   "mimetype": "text/x-python",
   "name": "python",
   "nbconvert_exporter": "python",
   "pygments_lexer": "ipython3",
   "version": "3.12.3"
  }
 },
 "nbformat": 4,
 "nbformat_minor": 5
}
