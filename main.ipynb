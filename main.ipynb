{
 "cells": [
  {
   "cell_type": "markdown",
   "id": "318cc535867abc87",
   "metadata": {},
   "source": [
    "# ADM-HW4: GROUP #10"
   ]
  },
  {
   "cell_type": "markdown",
   "id": "53a83af2f38e2305",
   "metadata": {},
   "source": [
    "#### Xavier Del Giudice\n",
    "\n",
    "\n",
    "| STUDENT |   ID    |                 E-mail                  |\n",
    "| :-: |:-------:|:---------------------------------------:|\n",
    "| Xavier Del Giudice | 1967219 | delgiudice.1967219@studenti.uniroma1.it |\n",
    "|  Valeria Avino| 1905974 |   avino.1905974@studenti.uniroma1.it                                      |\n",
    "|  |  |                       |"
   ]
  },
  {
   "cell_type": "markdown",
   "id": "18fb52d64c38ba6d",
   "metadata": {},
   "source": [
    "## Import and Install required packages"
   ]
  },
  {
   "cell_type": "code",
   "execution_count": null,
   "id": "cfe37558eeb4eb7b",
   "metadata": {},
   "outputs": [],
   "source": [
    "%pip install pandas numpy"
   ]
  },
  {
   "cell_type": "code",
   "execution_count": 2,
   "id": "9b6df0749cc68ffc",
   "metadata": {},
   "outputs": [],
   "source": [
    "import pandas as pd\n",
    "import numpy as np"
   ]
  },
  {
   "cell_type": "markdown",
   "id": "21cabfd91df02163",
   "metadata": {},
   "source": [
    "# 1. Recommendation System with LSH"
   ]
  },
  {
   "cell_type": "markdown",
   "id": "ff07b6b4b33b940",
   "metadata": {},
   "source": [
    "## 1.1 Data Preparation"
   ]
  },
  {
   "cell_type": "markdown",
   "id": "865c4ca4",
   "metadata": {},
   "source": [
    "Reading the dataset and checking (if any) missing data."
   ]
  },
  {
   "cell_type": "code",
   "execution_count": 23,
   "id": "cbd400ea",
   "metadata": {},
   "outputs": [],
   "source": [
    "#reading from our dataset\n",
    "genome_scores = pd.read_csv('MovieLens/genome_scores.csv')\n",
    "genome_tags = pd.read_csv('MovieLens/genome_tags.csv')\n",
    "link = pd.read_csv('MovieLens/link.csv')\n",
    "movie = pd.read_csv('MovieLens/movie.csv')\n",
    "rating = pd.read_csv('MovieLens/rating.csv')\n",
    "tags = pd.read_csv('MovieLens/tag.csv')"
   ]
  },
  {
   "cell_type": "code",
   "execution_count": 24,
   "id": "beb82f88",
   "metadata": {},
   "outputs": [
    {
     "name": "stdout",
     "output_type": "stream",
     "text": [
      "<class 'pandas.core.frame.DataFrame'>\n",
      "RangeIndex: 11709768 entries, 0 to 11709767\n",
      "Data columns (total 3 columns):\n",
      " #   Column     Dtype  \n",
      "---  ------     -----  \n",
      " 0   movieId    int64  \n",
      " 1   tagId      int64  \n",
      " 2   relevance  float64\n",
      "dtypes: float64(1), int64(2)\n",
      "memory usage: 268.0 MB\n"
     ]
    }
   ],
   "source": [
    "genome_scores.info()"
   ]
  },
  {
   "cell_type": "code",
   "execution_count": 25,
   "id": "e2f2fe7f",
   "metadata": {},
   "outputs": [
    {
     "data": {
      "text/plain": [
       "Series([], dtype: int64)"
      ]
     },
     "execution_count": 25,
     "metadata": {},
     "output_type": "execute_result"
    }
   ],
   "source": [
    "#checking missing values\n",
    "missing_values = genome_scores.isnull().sum()\n",
    "missing_values[missing_values > 0]"
   ]
  },
  {
   "cell_type": "code",
   "execution_count": 26,
   "id": "23d9168c",
   "metadata": {},
   "outputs": [
    {
     "data": {
      "text/plain": [
       "0"
      ]
     },
     "execution_count": 26,
     "metadata": {},
     "output_type": "execute_result"
    }
   ],
   "source": [
    "genome_scores.duplicated().sum()"
   ]
  },
  {
   "cell_type": "markdown",
   "id": "e9cc21fa",
   "metadata": {},
   "source": [
    "scores dataset has no missing values or duplicated rows"
   ]
  },
  {
   "cell_type": "code",
   "execution_count": 27,
   "id": "f52fe25e",
   "metadata": {},
   "outputs": [
    {
     "name": "stdout",
     "output_type": "stream",
     "text": [
      "<class 'pandas.core.frame.DataFrame'>\n",
      "RangeIndex: 1128 entries, 0 to 1127\n",
      "Data columns (total 2 columns):\n",
      " #   Column  Non-Null Count  Dtype \n",
      "---  ------  --------------  ----- \n",
      " 0   tagId   1128 non-null   int64 \n",
      " 1   tag     1128 non-null   object\n",
      "dtypes: int64(1), object(1)\n",
      "memory usage: 17.8+ KB\n"
     ]
    }
   ],
   "source": [
    "genome_tags.info()"
   ]
  },
  {
   "cell_type": "code",
   "execution_count": 28,
   "id": "c79d3c82",
   "metadata": {},
   "outputs": [
    {
     "data": {
      "text/plain": [
       "Series([], dtype: int64)"
      ]
     },
     "execution_count": 28,
     "metadata": {},
     "output_type": "execute_result"
    }
   ],
   "source": [
    "missing_values = genome_tags.isnull().sum()\n",
    "missing_values[missing_values > 0]"
   ]
  },
  {
   "cell_type": "code",
   "execution_count": 29,
   "id": "b9c2f506",
   "metadata": {},
   "outputs": [
    {
     "data": {
      "text/plain": [
       "0"
      ]
     },
     "execution_count": 29,
     "metadata": {},
     "output_type": "execute_result"
    }
   ],
   "source": [
    "genome_tags.duplicated().sum()"
   ]
  },
  {
   "cell_type": "code",
   "execution_count": 30,
   "id": "9a133c80",
   "metadata": {},
   "outputs": [
    {
     "name": "stdout",
     "output_type": "stream",
     "text": [
      "<class 'pandas.core.frame.DataFrame'>\n",
      "RangeIndex: 27278 entries, 0 to 27277\n",
      "Data columns (total 3 columns):\n",
      " #   Column   Non-Null Count  Dtype  \n",
      "---  ------   --------------  -----  \n",
      " 0   movieId  27278 non-null  int64  \n",
      " 1   imdbId   27278 non-null  int64  \n",
      " 2   tmdbId   27026 non-null  float64\n",
      "dtypes: float64(1), int64(2)\n",
      "memory usage: 639.5 KB\n"
     ]
    }
   ],
   "source": [
    "link.info()"
   ]
  },
  {
   "cell_type": "code",
   "execution_count": 31,
   "id": "14adf139",
   "metadata": {},
   "outputs": [
    {
     "data": {
      "text/plain": [
       "tmdbId    252\n",
       "dtype: int64"
      ]
     },
     "execution_count": 31,
     "metadata": {},
     "output_type": "execute_result"
    }
   ],
   "source": [
    "missing_values = link.isnull().sum()\n",
    "missing_values[missing_values > 0]"
   ]
  },
  {
   "cell_type": "code",
   "execution_count": 32,
   "id": "2bf0f244",
   "metadata": {},
   "outputs": [
    {
     "data": {
      "text/plain": [
       "0"
      ]
     },
     "execution_count": 32,
     "metadata": {},
     "output_type": "execute_result"
    }
   ],
   "source": [
    "link.duplicated().sum()"
   ]
  },
  {
   "cell_type": "code",
   "execution_count": 33,
   "id": "67c3cd59",
   "metadata": {},
   "outputs": [
    {
     "name": "stdout",
     "output_type": "stream",
     "text": [
      "<class 'pandas.core.frame.DataFrame'>\n",
      "RangeIndex: 27278 entries, 0 to 27277\n",
      "Data columns (total 3 columns):\n",
      " #   Column   Non-Null Count  Dtype \n",
      "---  ------   --------------  ----- \n",
      " 0   movieId  27278 non-null  int64 \n",
      " 1   title    27278 non-null  object\n",
      " 2   genres   27278 non-null  object\n",
      "dtypes: int64(1), object(2)\n",
      "memory usage: 639.5+ KB\n"
     ]
    }
   ],
   "source": [
    "movie.info()"
   ]
  },
  {
   "cell_type": "code",
   "execution_count": 34,
   "id": "79670a09",
   "metadata": {},
   "outputs": [
    {
     "data": {
      "text/plain": [
       "0"
      ]
     },
     "execution_count": 34,
     "metadata": {},
     "output_type": "execute_result"
    }
   ],
   "source": [
    "movie.duplicated().sum()"
   ]
  },
  {
   "cell_type": "code",
   "execution_count": 35,
   "id": "67d49561",
   "metadata": {},
   "outputs": [
    {
     "data": {
      "text/plain": [
       "Series([], dtype: int64)"
      ]
     },
     "execution_count": 35,
     "metadata": {},
     "output_type": "execute_result"
    }
   ],
   "source": [
    "missing_values = movie.isnull().sum()\n",
    "missing_values[missing_values > 0]"
   ]
  },
  {
   "cell_type": "code",
   "execution_count": 36,
   "id": "5cc39b79",
   "metadata": {},
   "outputs": [
    {
     "name": "stdout",
     "output_type": "stream",
     "text": [
      "<class 'pandas.core.frame.DataFrame'>\n",
      "RangeIndex: 20000263 entries, 0 to 20000262\n",
      "Data columns (total 4 columns):\n",
      " #   Column     Dtype  \n",
      "---  ------     -----  \n",
      " 0   userId     int64  \n",
      " 1   movieId    int64  \n",
      " 2   rating     float64\n",
      " 3   timestamp  object \n",
      "dtypes: float64(1), int64(2), object(1)\n",
      "memory usage: 610.4+ MB\n"
     ]
    }
   ],
   "source": [
    "rating.info()"
   ]
  },
  {
   "cell_type": "code",
   "execution_count": 37,
   "id": "d07df497",
   "metadata": {},
   "outputs": [
    {
     "data": {
      "text/plain": [
       "Series([], dtype: int64)"
      ]
     },
     "execution_count": 37,
     "metadata": {},
     "output_type": "execute_result"
    }
   ],
   "source": [
    "missing_values = rating.isnull().sum()\n",
    "missing_values[missing_values > 0]"
   ]
  },
  {
   "cell_type": "code",
   "execution_count": 38,
   "id": "0c42457d",
   "metadata": {},
   "outputs": [
    {
     "data": {
      "text/plain": [
       "0"
      ]
     },
     "execution_count": 38,
     "metadata": {},
     "output_type": "execute_result"
    }
   ],
   "source": [
    "rating.duplicated().sum()"
   ]
  },
  {
   "cell_type": "code",
   "execution_count": 52,
   "id": "7f5b630b",
   "metadata": {},
   "outputs": [
    {
     "data": {
      "text/html": [
       "<div>\n",
       "<style scoped>\n",
       "    .dataframe tbody tr th:only-of-type {\n",
       "        vertical-align: middle;\n",
       "    }\n",
       "\n",
       "    .dataframe tbody tr th {\n",
       "        vertical-align: top;\n",
       "    }\n",
       "\n",
       "    .dataframe thead th {\n",
       "        text-align: right;\n",
       "    }\n",
       "</style>\n",
       "<table border=\"1\" class=\"dataframe\">\n",
       "  <thead>\n",
       "    <tr style=\"text-align: right;\">\n",
       "      <th></th>\n",
       "      <th>userId</th>\n",
       "      <th>movieId</th>\n",
       "      <th>rating</th>\n",
       "      <th>timestamp</th>\n",
       "      <th>year</th>\n",
       "      <th>month</th>\n",
       "      <th>day</th>\n",
       "      <th>time</th>\n",
       "    </tr>\n",
       "  </thead>\n",
       "  <tbody>\n",
       "    <tr>\n",
       "      <th>0</th>\n",
       "      <td>1</td>\n",
       "      <td>2</td>\n",
       "      <td>3.5</td>\n",
       "      <td>2005-04-02 23:53:47</td>\n",
       "      <td>2005</td>\n",
       "      <td>4</td>\n",
       "      <td>2</td>\n",
       "      <td>23:53:47</td>\n",
       "    </tr>\n",
       "    <tr>\n",
       "      <th>1</th>\n",
       "      <td>1</td>\n",
       "      <td>29</td>\n",
       "      <td>3.5</td>\n",
       "      <td>2005-04-02 23:31:16</td>\n",
       "      <td>2005</td>\n",
       "      <td>4</td>\n",
       "      <td>2</td>\n",
       "      <td>23:31:16</td>\n",
       "    </tr>\n",
       "    <tr>\n",
       "      <th>2</th>\n",
       "      <td>1</td>\n",
       "      <td>32</td>\n",
       "      <td>3.5</td>\n",
       "      <td>2005-04-02 23:33:39</td>\n",
       "      <td>2005</td>\n",
       "      <td>4</td>\n",
       "      <td>2</td>\n",
       "      <td>23:33:39</td>\n",
       "    </tr>\n",
       "    <tr>\n",
       "      <th>3</th>\n",
       "      <td>1</td>\n",
       "      <td>47</td>\n",
       "      <td>3.5</td>\n",
       "      <td>2005-04-02 23:32:07</td>\n",
       "      <td>2005</td>\n",
       "      <td>4</td>\n",
       "      <td>2</td>\n",
       "      <td>23:32:07</td>\n",
       "    </tr>\n",
       "    <tr>\n",
       "      <th>4</th>\n",
       "      <td>1</td>\n",
       "      <td>50</td>\n",
       "      <td>3.5</td>\n",
       "      <td>2005-04-02 23:29:40</td>\n",
       "      <td>2005</td>\n",
       "      <td>4</td>\n",
       "      <td>2</td>\n",
       "      <td>23:29:40</td>\n",
       "    </tr>\n",
       "  </tbody>\n",
       "</table>\n",
       "</div>"
      ],
      "text/plain": [
       "   userId  movieId  rating            timestamp  year  month  day      time\n",
       "0       1        2     3.5  2005-04-02 23:53:47  2005      4    2  23:53:47\n",
       "1       1       29     3.5  2005-04-02 23:31:16  2005      4    2  23:31:16\n",
       "2       1       32     3.5  2005-04-02 23:33:39  2005      4    2  23:33:39\n",
       "3       1       47     3.5  2005-04-02 23:32:07  2005      4    2  23:32:07\n",
       "4       1       50     3.5  2005-04-02 23:29:40  2005      4    2  23:29:40"
      ]
     },
     "execution_count": 52,
     "metadata": {},
     "output_type": "execute_result"
    }
   ],
   "source": [
    "# converting timestamps into different columns for better readability\n",
    "date_time = pd.to_datetime(rating['timestamp'])\n",
    "import calendar\n",
    "rating['year'] = date_time.dt.year\n",
    "rating['month'] = date_time.dt.month\n",
    "rating['day'] = date_time.dt.day\n",
    "rating['time'] = date_time.dt.time\n",
    "rating.head()"
   ]
  },
  {
   "cell_type": "code",
   "execution_count": 58,
   "id": "d24e1ed9",
   "metadata": {},
   "outputs": [
    {
     "name": "stdout",
     "output_type": "stream",
     "text": [
      "The highest rated movie is Lord of the Rings: The Fellowship of the Ring, The (2001) \n",
      "The lowest rated movie is Nemesis 2: Nebula (1995) \n"
     ]
    }
   ],
   "source": [
    "highest_rated = rating.loc[rating['rating'].idxmax(), 'movieId']\n",
    "lowest_rated = rating.loc[rating['rating'].idxmin(), 'movieId']\n",
    "#reading titles from movie dataset\n",
    "print(f'The highest rated movie is {movie.loc[movie['movieId'] == highest_rated, 'title' ].values[0]} ')\n",
    "print(f'The lowest rated movie is {movie.loc[movie['movieId'] == lowest_rated, 'title'].values[0]} ')"
   ]
  },
  {
   "cell_type": "code",
   "execution_count": 59,
   "id": "624ffe54",
   "metadata": {},
   "outputs": [
    {
     "data": {
      "text/html": [
       "<div>\n",
       "<style scoped>\n",
       "    .dataframe tbody tr th:only-of-type {\n",
       "        vertical-align: middle;\n",
       "    }\n",
       "\n",
       "    .dataframe tbody tr th {\n",
       "        vertical-align: top;\n",
       "    }\n",
       "\n",
       "    .dataframe thead th {\n",
       "        text-align: right;\n",
       "    }\n",
       "</style>\n",
       "<table border=\"1\" class=\"dataframe\">\n",
       "  <thead>\n",
       "    <tr style=\"text-align: right;\">\n",
       "      <th></th>\n",
       "      <th>movieId</th>\n",
       "      <th>title</th>\n",
       "      <th>genres</th>\n",
       "      <th>genre1</th>\n",
       "      <th>genre2</th>\n",
       "      <th>genre3</th>\n",
       "      <th>genre4</th>\n",
       "      <th>genre5</th>\n",
       "      <th>genre6</th>\n",
       "      <th>genre7</th>\n",
       "      <th>genre8</th>\n",
       "      <th>genre9</th>\n",
       "      <th>genre10</th>\n",
       "    </tr>\n",
       "  </thead>\n",
       "  <tbody>\n",
       "    <tr>\n",
       "      <th>0</th>\n",
       "      <td>1</td>\n",
       "      <td>Toy Story (1995)</td>\n",
       "      <td>Adventure|Animation|Children|Comedy|Fantasy</td>\n",
       "      <td>Adventure</td>\n",
       "      <td>Animation</td>\n",
       "      <td>Children</td>\n",
       "      <td>Comedy</td>\n",
       "      <td>Fantasy</td>\n",
       "      <td>0</td>\n",
       "      <td>0</td>\n",
       "      <td>0</td>\n",
       "      <td>0</td>\n",
       "      <td>0</td>\n",
       "    </tr>\n",
       "    <tr>\n",
       "      <th>1</th>\n",
       "      <td>2</td>\n",
       "      <td>Jumanji (1995)</td>\n",
       "      <td>Adventure|Children|Fantasy</td>\n",
       "      <td>Adventure</td>\n",
       "      <td>Children</td>\n",
       "      <td>Fantasy</td>\n",
       "      <td>0</td>\n",
       "      <td>0</td>\n",
       "      <td>0</td>\n",
       "      <td>0</td>\n",
       "      <td>0</td>\n",
       "      <td>0</td>\n",
       "      <td>0</td>\n",
       "    </tr>\n",
       "    <tr>\n",
       "      <th>2</th>\n",
       "      <td>3</td>\n",
       "      <td>Grumpier Old Men (1995)</td>\n",
       "      <td>Comedy|Romance</td>\n",
       "      <td>Comedy</td>\n",
       "      <td>Romance</td>\n",
       "      <td>0</td>\n",
       "      <td>0</td>\n",
       "      <td>0</td>\n",
       "      <td>0</td>\n",
       "      <td>0</td>\n",
       "      <td>0</td>\n",
       "      <td>0</td>\n",
       "      <td>0</td>\n",
       "    </tr>\n",
       "    <tr>\n",
       "      <th>3</th>\n",
       "      <td>4</td>\n",
       "      <td>Waiting to Exhale (1995)</td>\n",
       "      <td>Comedy|Drama|Romance</td>\n",
       "      <td>Comedy</td>\n",
       "      <td>Drama</td>\n",
       "      <td>Romance</td>\n",
       "      <td>0</td>\n",
       "      <td>0</td>\n",
       "      <td>0</td>\n",
       "      <td>0</td>\n",
       "      <td>0</td>\n",
       "      <td>0</td>\n",
       "      <td>0</td>\n",
       "    </tr>\n",
       "    <tr>\n",
       "      <th>4</th>\n",
       "      <td>5</td>\n",
       "      <td>Father of the Bride Part II (1995)</td>\n",
       "      <td>Comedy</td>\n",
       "      <td>Comedy</td>\n",
       "      <td>0</td>\n",
       "      <td>0</td>\n",
       "      <td>0</td>\n",
       "      <td>0</td>\n",
       "      <td>0</td>\n",
       "      <td>0</td>\n",
       "      <td>0</td>\n",
       "      <td>0</td>\n",
       "      <td>0</td>\n",
       "    </tr>\n",
       "  </tbody>\n",
       "</table>\n",
       "</div>"
      ],
      "text/plain": [
       "   movieId                               title  \\\n",
       "0        1                    Toy Story (1995)   \n",
       "1        2                      Jumanji (1995)   \n",
       "2        3             Grumpier Old Men (1995)   \n",
       "3        4            Waiting to Exhale (1995)   \n",
       "4        5  Father of the Bride Part II (1995)   \n",
       "\n",
       "                                        genres     genre1     genre2  \\\n",
       "0  Adventure|Animation|Children|Comedy|Fantasy  Adventure  Animation   \n",
       "1                   Adventure|Children|Fantasy  Adventure   Children   \n",
       "2                               Comedy|Romance     Comedy    Romance   \n",
       "3                         Comedy|Drama|Romance     Comedy      Drama   \n",
       "4                                       Comedy     Comedy          0   \n",
       "\n",
       "     genre3  genre4   genre5 genre6 genre7 genre8 genre9 genre10  \n",
       "0  Children  Comedy  Fantasy      0      0      0      0       0  \n",
       "1   Fantasy       0        0      0      0      0      0       0  \n",
       "2         0       0        0      0      0      0      0       0  \n",
       "3   Romance       0        0      0      0      0      0       0  \n",
       "4         0       0        0      0      0      0      0       0  "
      ]
     },
     "execution_count": 59,
     "metadata": {},
     "output_type": "execute_result"
    }
   ],
   "source": [
    "# splitting genres column to do some stat on it\n",
    "genres = movie['genres'].str.split(pat='|', expand=True).fillna(0)\n",
    "max_genres_num= movie['genres'].str.split('|').map(len).max()\n",
    "genres.columns = [f'genre{i+1}' for i in range(max_genres_num)]\n",
    "movie = pd.concat([movie, genres], axis=1)\n",
    "\n",
    "movie.head()"
   ]
  },
  {
   "cell_type": "code",
   "execution_count": 62,
   "id": "ad9953c1",
   "metadata": {},
   "outputs": [
    {
     "name": "stdout",
     "output_type": "stream",
     "text": [
      "Drama          24.53\n",
      "Comedy         15.39\n",
      "Thriller        7.68\n",
      "Romance         7.59\n",
      "Action          6.47\n",
      "Crime           5.40\n",
      "Horror          4.80\n",
      "Documentary     4.54\n",
      "Adventure       4.28\n",
      "Sci-Fi          3.20\n",
      "Name: count, dtype: float64\n"
     ]
    }
   ],
   "source": [
    "# percentage brakedown for movie genres\n",
    "all_genres = movie[['genre1', 'genre2', 'genre3', 'genre4', 'genre5', 'genre6', 'genre7', 'genre8', 'genre9', 'genre10']].values.flatten()\n",
    "all_genres = all_genres[all_genres != 0]\n",
    "genre_counts = pd.Series(all_genres).value_counts()\n",
    "genre_percentages = round((genre_counts / genre_counts.sum()) * 100,2)\n",
    "\n",
    "# Top 10 most common genres with their percentages\n",
    "top_genres = genre_percentages.head(10)\n",
    "print(top_genres)"
   ]
  },
  {
   "cell_type": "code",
   "execution_count": 39,
   "id": "e7c51547",
   "metadata": {},
   "outputs": [
    {
     "name": "stdout",
     "output_type": "stream",
     "text": [
      "<class 'pandas.core.frame.DataFrame'>\n",
      "RangeIndex: 465564 entries, 0 to 465563\n",
      "Data columns (total 4 columns):\n",
      " #   Column     Non-Null Count   Dtype \n",
      "---  ------     --------------   ----- \n",
      " 0   userId     465564 non-null  int64 \n",
      " 1   movieId    465564 non-null  int64 \n",
      " 2   tag        465548 non-null  object\n",
      " 3   timestamp  465564 non-null  object\n",
      "dtypes: int64(2), object(2)\n",
      "memory usage: 14.2+ MB\n"
     ]
    }
   ],
   "source": [
    "tags.info()"
   ]
  },
  {
   "cell_type": "code",
   "execution_count": null,
   "id": "1d7cbb8b",
   "metadata": {},
   "outputs": [
    {
     "data": {
      "text/plain": [
       "tag    16\n",
       "dtype: int64"
      ]
     },
     "execution_count": 40,
     "metadata": {},
     "output_type": "execute_result"
    }
   ],
   "source": [
    "missing_values = tags.isnull().sum()\n",
    "missing_values[missing_values > 0]\n",
    "#we could drop this rows or just keep them to check which user did not give a tag for which movies"
   ]
  },
  {
   "cell_type": "code",
   "execution_count": 41,
   "id": "48a7ae63",
   "metadata": {},
   "outputs": [
    {
     "data": {
      "text/plain": [
       "0"
      ]
     },
     "execution_count": 41,
     "metadata": {},
     "output_type": "execute_result"
    }
   ],
   "source": [
    "tags.duplicated().sum()"
   ]
  },
  {
   "cell_type": "code",
   "execution_count": null,
   "id": "c7f3c107",
   "metadata": {},
   "outputs": [],
   "source": [
    "# converting timestamps into different columns for better readability\n",
    "date_time = pd.to_datetime(tags['timestamp'])\n",
    "import calendar\n",
    "tags['year'] = date_time.dt.year\n",
    "tags['month'] = date_time.dt.month\n",
    "tags['day'] = date_time.dt.day\n",
    "tags['time'] = date_time.dt.time"
   ]
  },
  {
   "cell_type": "code",
   "execution_count": 53,
   "id": "14575c51",
   "metadata": {},
   "outputs": [
    {
     "data": {
      "text/html": [
       "<div>\n",
       "<style scoped>\n",
       "    .dataframe tbody tr th:only-of-type {\n",
       "        vertical-align: middle;\n",
       "    }\n",
       "\n",
       "    .dataframe tbody tr th {\n",
       "        vertical-align: top;\n",
       "    }\n",
       "\n",
       "    .dataframe thead th {\n",
       "        text-align: right;\n",
       "    }\n",
       "</style>\n",
       "<table border=\"1\" class=\"dataframe\">\n",
       "  <thead>\n",
       "    <tr style=\"text-align: right;\">\n",
       "      <th></th>\n",
       "      <th>userId</th>\n",
       "      <th>movieId</th>\n",
       "      <th>tag</th>\n",
       "      <th>timestamp</th>\n",
       "      <th>year</th>\n",
       "      <th>month</th>\n",
       "      <th>day</th>\n",
       "      <th>time</th>\n",
       "    </tr>\n",
       "  </thead>\n",
       "  <tbody>\n",
       "    <tr>\n",
       "      <th>0</th>\n",
       "      <td>18</td>\n",
       "      <td>4141</td>\n",
       "      <td>Mark Waters</td>\n",
       "      <td>2009-04-24 18:19:40</td>\n",
       "      <td>2009</td>\n",
       "      <td>4</td>\n",
       "      <td>24</td>\n",
       "      <td>18:19:40</td>\n",
       "    </tr>\n",
       "    <tr>\n",
       "      <th>1</th>\n",
       "      <td>65</td>\n",
       "      <td>208</td>\n",
       "      <td>dark hero</td>\n",
       "      <td>2013-05-10 01:41:18</td>\n",
       "      <td>2013</td>\n",
       "      <td>5</td>\n",
       "      <td>10</td>\n",
       "      <td>01:41:18</td>\n",
       "    </tr>\n",
       "    <tr>\n",
       "      <th>2</th>\n",
       "      <td>65</td>\n",
       "      <td>353</td>\n",
       "      <td>dark hero</td>\n",
       "      <td>2013-05-10 01:41:19</td>\n",
       "      <td>2013</td>\n",
       "      <td>5</td>\n",
       "      <td>10</td>\n",
       "      <td>01:41:19</td>\n",
       "    </tr>\n",
       "    <tr>\n",
       "      <th>3</th>\n",
       "      <td>65</td>\n",
       "      <td>521</td>\n",
       "      <td>noir thriller</td>\n",
       "      <td>2013-05-10 01:39:43</td>\n",
       "      <td>2013</td>\n",
       "      <td>5</td>\n",
       "      <td>10</td>\n",
       "      <td>01:39:43</td>\n",
       "    </tr>\n",
       "    <tr>\n",
       "      <th>4</th>\n",
       "      <td>65</td>\n",
       "      <td>592</td>\n",
       "      <td>dark hero</td>\n",
       "      <td>2013-05-10 01:41:18</td>\n",
       "      <td>2013</td>\n",
       "      <td>5</td>\n",
       "      <td>10</td>\n",
       "      <td>01:41:18</td>\n",
       "    </tr>\n",
       "  </tbody>\n",
       "</table>\n",
       "</div>"
      ],
      "text/plain": [
       "   userId  movieId            tag            timestamp  year  month  day  \\\n",
       "0      18     4141    Mark Waters  2009-04-24 18:19:40  2009      4   24   \n",
       "1      65      208      dark hero  2013-05-10 01:41:18  2013      5   10   \n",
       "2      65      353      dark hero  2013-05-10 01:41:19  2013      5   10   \n",
       "3      65      521  noir thriller  2013-05-10 01:39:43  2013      5   10   \n",
       "4      65      592      dark hero  2013-05-10 01:41:18  2013      5   10   \n",
       "\n",
       "       time  \n",
       "0  18:19:40  \n",
       "1  01:41:18  \n",
       "2  01:41:19  \n",
       "3  01:39:43  \n",
       "4  01:41:18  "
      ]
     },
     "execution_count": 53,
     "metadata": {},
     "output_type": "execute_result"
    }
   ],
   "source": [
    "tags.head()"
   ]
  },
  {
   "cell_type": "markdown",
   "id": "8cbd05f71034e193",
   "metadata": {},
   "source": [
    "## 1.2 Minhash Signatures"
   ]
  },
  {
   "cell_type": "markdown",
   "id": "ea083d3b999b16c7",
   "metadata": {},
   "source": [
    "## 1.3 Locality-Sensitive Hashing (LSH)"
   ]
  },
  {
   "cell_type": "markdown",
   "id": "6818c8575859f343",
   "metadata": {},
   "source": [
    "### 1. Bucket Creation"
   ]
  },
  {
   "cell_type": "markdown",
   "id": "a0bcfd3f596551d4",
   "metadata": {},
   "source": [
    "### 2. Query"
   ]
  },
  {
   "cell_type": "markdown",
   "id": "2111810cbfd00cf7",
   "metadata": {},
   "source": [
    "### 3. Movie Recommendation Logic"
   ]
  },
  {
   "cell_type": "markdown",
   "id": "c2ddd3d7a386e23a",
   "metadata": {},
   "source": [
    "### 4. Final Recommendation"
   ]
  },
  {
   "cell_type": "markdown",
   "id": "be0ac52227608421",
   "metadata": {},
   "source": [
    "# 2. Grouping Movies Together!"
   ]
  },
  {
   "cell_type": "markdown",
   "id": "885a2800fc1b77e4",
   "metadata": {},
   "source": [
    "## 2.1 Feature Engineering"
   ]
  },
  {
   "cell_type": "markdown",
   "id": "29753873d532ef6c",
   "metadata": {},
   "source": [
    "## 2.2 Choose your features (variables)!"
   ]
  },
  {
   "cell_type": "markdown",
   "id": "ee8daff88026a9e4",
   "metadata": {},
   "source": [
    "## 2.3 Clustering"
   ]
  },
  {
   "cell_type": "markdown",
   "id": "a07f07054c88b967",
   "metadata": {},
   "source": [
    "## 2.4 Best Algorithm"
   ]
  },
  {
   "cell_type": "markdown",
   "id": "a76de8393e3bace6",
   "metadata": {},
   "source": [
    "# 3. Bonus Question"
   ]
  },
  {
   "cell_type": "markdown",
   "id": "54bfb81e7b93fe4",
   "metadata": {},
   "source": [
    "# 4. Algorithmic Question"
   ]
  },
  {
   "cell_type": "markdown",
   "id": "b081e99bdb63ef2d",
   "metadata": {},
   "source": []
  }
 ],
 "metadata": {
  "kernelspec": {
   "display_name": "Python 3",
   "language": "python",
   "name": "python3"
  },
  "language_info": {
   "codemirror_mode": {
    "name": "ipython",
    "version": 3
   },
   "file_extension": ".py",
   "mimetype": "text/x-python",
   "name": "python",
   "nbconvert_exporter": "python",
   "pygments_lexer": "ipython3",
   "version": "3.12.3"
  }
 },
 "nbformat": 4,
 "nbformat_minor": 5
}
